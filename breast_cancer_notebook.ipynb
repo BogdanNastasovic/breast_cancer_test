{
 "cells": [
  {
   "cell_type": "code",
   "execution_count": 1,
   "metadata": {},
   "outputs": [],
   "source": [
    "import pandas as pd\n",
    "import matplotlib\n",
    "import matplotlib.pyplot as plt\n",
    "import plotly.express as px\n",
    "import seaborn as sns\n",
    "\n",
    "sns.set_style('darkgrid')\n",
    "matplotlib.rcParams.update({'figure.figsize':(10,7),\n",
    "                            'font.size': 12,\n",
    "                            'figure.facecolor': '#00000000'\n",
    "                            })\n"
   ]
  },
  {
   "cell_type": "code",
   "execution_count": 2,
   "metadata": {},
   "outputs": [
    {
     "data": {
      "text/html": [
       "<div>\n",
       "<style scoped>\n",
       "    .dataframe tbody tr th:only-of-type {\n",
       "        vertical-align: middle;\n",
       "    }\n",
       "\n",
       "    .dataframe tbody tr th {\n",
       "        vertical-align: top;\n",
       "    }\n",
       "\n",
       "    .dataframe thead th {\n",
       "        text-align: right;\n",
       "    }\n",
       "</style>\n",
       "<table border=\"1\" class=\"dataframe\">\n",
       "  <thead>\n",
       "    <tr style=\"text-align: right;\">\n",
       "      <th></th>\n",
       "      <th>id</th>\n",
       "      <th>diagnosis</th>\n",
       "      <th>radius_mean</th>\n",
       "      <th>texture_mean</th>\n",
       "      <th>perimeter_mean</th>\n",
       "      <th>area_mean</th>\n",
       "      <th>smoothness_mean</th>\n",
       "      <th>compactness_mean</th>\n",
       "      <th>concavity_mean</th>\n",
       "      <th>concave points_mean</th>\n",
       "      <th>...</th>\n",
       "      <th>texture_worst</th>\n",
       "      <th>perimeter_worst</th>\n",
       "      <th>area_worst</th>\n",
       "      <th>smoothness_worst</th>\n",
       "      <th>compactness_worst</th>\n",
       "      <th>concavity_worst</th>\n",
       "      <th>concave points_worst</th>\n",
       "      <th>symmetry_worst</th>\n",
       "      <th>fractal_dimension_worst</th>\n",
       "      <th>Unnamed: 32</th>\n",
       "    </tr>\n",
       "  </thead>\n",
       "  <tbody>\n",
       "    <tr>\n",
       "      <th>0</th>\n",
       "      <td>842302</td>\n",
       "      <td>M</td>\n",
       "      <td>17.99</td>\n",
       "      <td>10.38</td>\n",
       "      <td>122.80</td>\n",
       "      <td>1001.0</td>\n",
       "      <td>0.11840</td>\n",
       "      <td>0.27760</td>\n",
       "      <td>0.30010</td>\n",
       "      <td>0.14710</td>\n",
       "      <td>...</td>\n",
       "      <td>17.33</td>\n",
       "      <td>184.60</td>\n",
       "      <td>2019.0</td>\n",
       "      <td>0.16220</td>\n",
       "      <td>0.66560</td>\n",
       "      <td>0.7119</td>\n",
       "      <td>0.2654</td>\n",
       "      <td>0.4601</td>\n",
       "      <td>0.11890</td>\n",
       "      <td>NaN</td>\n",
       "    </tr>\n",
       "    <tr>\n",
       "      <th>1</th>\n",
       "      <td>842517</td>\n",
       "      <td>M</td>\n",
       "      <td>20.57</td>\n",
       "      <td>17.77</td>\n",
       "      <td>132.90</td>\n",
       "      <td>1326.0</td>\n",
       "      <td>0.08474</td>\n",
       "      <td>0.07864</td>\n",
       "      <td>0.08690</td>\n",
       "      <td>0.07017</td>\n",
       "      <td>...</td>\n",
       "      <td>23.41</td>\n",
       "      <td>158.80</td>\n",
       "      <td>1956.0</td>\n",
       "      <td>0.12380</td>\n",
       "      <td>0.18660</td>\n",
       "      <td>0.2416</td>\n",
       "      <td>0.1860</td>\n",
       "      <td>0.2750</td>\n",
       "      <td>0.08902</td>\n",
       "      <td>NaN</td>\n",
       "    </tr>\n",
       "    <tr>\n",
       "      <th>2</th>\n",
       "      <td>84300903</td>\n",
       "      <td>M</td>\n",
       "      <td>19.69</td>\n",
       "      <td>21.25</td>\n",
       "      <td>130.00</td>\n",
       "      <td>1203.0</td>\n",
       "      <td>0.10960</td>\n",
       "      <td>0.15990</td>\n",
       "      <td>0.19740</td>\n",
       "      <td>0.12790</td>\n",
       "      <td>...</td>\n",
       "      <td>25.53</td>\n",
       "      <td>152.50</td>\n",
       "      <td>1709.0</td>\n",
       "      <td>0.14440</td>\n",
       "      <td>0.42450</td>\n",
       "      <td>0.4504</td>\n",
       "      <td>0.2430</td>\n",
       "      <td>0.3613</td>\n",
       "      <td>0.08758</td>\n",
       "      <td>NaN</td>\n",
       "    </tr>\n",
       "    <tr>\n",
       "      <th>3</th>\n",
       "      <td>84348301</td>\n",
       "      <td>M</td>\n",
       "      <td>11.42</td>\n",
       "      <td>20.38</td>\n",
       "      <td>77.58</td>\n",
       "      <td>386.1</td>\n",
       "      <td>0.14250</td>\n",
       "      <td>0.28390</td>\n",
       "      <td>0.24140</td>\n",
       "      <td>0.10520</td>\n",
       "      <td>...</td>\n",
       "      <td>26.50</td>\n",
       "      <td>98.87</td>\n",
       "      <td>567.7</td>\n",
       "      <td>0.20980</td>\n",
       "      <td>0.86630</td>\n",
       "      <td>0.6869</td>\n",
       "      <td>0.2575</td>\n",
       "      <td>0.6638</td>\n",
       "      <td>0.17300</td>\n",
       "      <td>NaN</td>\n",
       "    </tr>\n",
       "    <tr>\n",
       "      <th>4</th>\n",
       "      <td>84358402</td>\n",
       "      <td>M</td>\n",
       "      <td>20.29</td>\n",
       "      <td>14.34</td>\n",
       "      <td>135.10</td>\n",
       "      <td>1297.0</td>\n",
       "      <td>0.10030</td>\n",
       "      <td>0.13280</td>\n",
       "      <td>0.19800</td>\n",
       "      <td>0.10430</td>\n",
       "      <td>...</td>\n",
       "      <td>16.67</td>\n",
       "      <td>152.20</td>\n",
       "      <td>1575.0</td>\n",
       "      <td>0.13740</td>\n",
       "      <td>0.20500</td>\n",
       "      <td>0.4000</td>\n",
       "      <td>0.1625</td>\n",
       "      <td>0.2364</td>\n",
       "      <td>0.07678</td>\n",
       "      <td>NaN</td>\n",
       "    </tr>\n",
       "    <tr>\n",
       "      <th>...</th>\n",
       "      <td>...</td>\n",
       "      <td>...</td>\n",
       "      <td>...</td>\n",
       "      <td>...</td>\n",
       "      <td>...</td>\n",
       "      <td>...</td>\n",
       "      <td>...</td>\n",
       "      <td>...</td>\n",
       "      <td>...</td>\n",
       "      <td>...</td>\n",
       "      <td>...</td>\n",
       "      <td>...</td>\n",
       "      <td>...</td>\n",
       "      <td>...</td>\n",
       "      <td>...</td>\n",
       "      <td>...</td>\n",
       "      <td>...</td>\n",
       "      <td>...</td>\n",
       "      <td>...</td>\n",
       "      <td>...</td>\n",
       "      <td>...</td>\n",
       "    </tr>\n",
       "    <tr>\n",
       "      <th>564</th>\n",
       "      <td>926424</td>\n",
       "      <td>M</td>\n",
       "      <td>21.56</td>\n",
       "      <td>22.39</td>\n",
       "      <td>142.00</td>\n",
       "      <td>1479.0</td>\n",
       "      <td>0.11100</td>\n",
       "      <td>0.11590</td>\n",
       "      <td>0.24390</td>\n",
       "      <td>0.13890</td>\n",
       "      <td>...</td>\n",
       "      <td>26.40</td>\n",
       "      <td>166.10</td>\n",
       "      <td>2027.0</td>\n",
       "      <td>0.14100</td>\n",
       "      <td>0.21130</td>\n",
       "      <td>0.4107</td>\n",
       "      <td>0.2216</td>\n",
       "      <td>0.2060</td>\n",
       "      <td>0.07115</td>\n",
       "      <td>NaN</td>\n",
       "    </tr>\n",
       "    <tr>\n",
       "      <th>565</th>\n",
       "      <td>926682</td>\n",
       "      <td>M</td>\n",
       "      <td>20.13</td>\n",
       "      <td>28.25</td>\n",
       "      <td>131.20</td>\n",
       "      <td>1261.0</td>\n",
       "      <td>0.09780</td>\n",
       "      <td>0.10340</td>\n",
       "      <td>0.14400</td>\n",
       "      <td>0.09791</td>\n",
       "      <td>...</td>\n",
       "      <td>38.25</td>\n",
       "      <td>155.00</td>\n",
       "      <td>1731.0</td>\n",
       "      <td>0.11660</td>\n",
       "      <td>0.19220</td>\n",
       "      <td>0.3215</td>\n",
       "      <td>0.1628</td>\n",
       "      <td>0.2572</td>\n",
       "      <td>0.06637</td>\n",
       "      <td>NaN</td>\n",
       "    </tr>\n",
       "    <tr>\n",
       "      <th>566</th>\n",
       "      <td>926954</td>\n",
       "      <td>M</td>\n",
       "      <td>16.60</td>\n",
       "      <td>28.08</td>\n",
       "      <td>108.30</td>\n",
       "      <td>858.1</td>\n",
       "      <td>0.08455</td>\n",
       "      <td>0.10230</td>\n",
       "      <td>0.09251</td>\n",
       "      <td>0.05302</td>\n",
       "      <td>...</td>\n",
       "      <td>34.12</td>\n",
       "      <td>126.70</td>\n",
       "      <td>1124.0</td>\n",
       "      <td>0.11390</td>\n",
       "      <td>0.30940</td>\n",
       "      <td>0.3403</td>\n",
       "      <td>0.1418</td>\n",
       "      <td>0.2218</td>\n",
       "      <td>0.07820</td>\n",
       "      <td>NaN</td>\n",
       "    </tr>\n",
       "    <tr>\n",
       "      <th>567</th>\n",
       "      <td>927241</td>\n",
       "      <td>M</td>\n",
       "      <td>20.60</td>\n",
       "      <td>29.33</td>\n",
       "      <td>140.10</td>\n",
       "      <td>1265.0</td>\n",
       "      <td>0.11780</td>\n",
       "      <td>0.27700</td>\n",
       "      <td>0.35140</td>\n",
       "      <td>0.15200</td>\n",
       "      <td>...</td>\n",
       "      <td>39.42</td>\n",
       "      <td>184.60</td>\n",
       "      <td>1821.0</td>\n",
       "      <td>0.16500</td>\n",
       "      <td>0.86810</td>\n",
       "      <td>0.9387</td>\n",
       "      <td>0.2650</td>\n",
       "      <td>0.4087</td>\n",
       "      <td>0.12400</td>\n",
       "      <td>NaN</td>\n",
       "    </tr>\n",
       "    <tr>\n",
       "      <th>568</th>\n",
       "      <td>92751</td>\n",
       "      <td>B</td>\n",
       "      <td>7.76</td>\n",
       "      <td>24.54</td>\n",
       "      <td>47.92</td>\n",
       "      <td>181.0</td>\n",
       "      <td>0.05263</td>\n",
       "      <td>0.04362</td>\n",
       "      <td>0.00000</td>\n",
       "      <td>0.00000</td>\n",
       "      <td>...</td>\n",
       "      <td>30.37</td>\n",
       "      <td>59.16</td>\n",
       "      <td>268.6</td>\n",
       "      <td>0.08996</td>\n",
       "      <td>0.06444</td>\n",
       "      <td>0.0000</td>\n",
       "      <td>0.0000</td>\n",
       "      <td>0.2871</td>\n",
       "      <td>0.07039</td>\n",
       "      <td>NaN</td>\n",
       "    </tr>\n",
       "  </tbody>\n",
       "</table>\n",
       "<p>569 rows × 33 columns</p>\n",
       "</div>"
      ],
      "text/plain": [
       "           id diagnosis  radius_mean  texture_mean  perimeter_mean  area_mean  \\\n",
       "0      842302         M        17.99         10.38          122.80     1001.0   \n",
       "1      842517         M        20.57         17.77          132.90     1326.0   \n",
       "2    84300903         M        19.69         21.25          130.00     1203.0   \n",
       "3    84348301         M        11.42         20.38           77.58      386.1   \n",
       "4    84358402         M        20.29         14.34          135.10     1297.0   \n",
       "..        ...       ...          ...           ...             ...        ...   \n",
       "564    926424         M        21.56         22.39          142.00     1479.0   \n",
       "565    926682         M        20.13         28.25          131.20     1261.0   \n",
       "566    926954         M        16.60         28.08          108.30      858.1   \n",
       "567    927241         M        20.60         29.33          140.10     1265.0   \n",
       "568     92751         B         7.76         24.54           47.92      181.0   \n",
       "\n",
       "     smoothness_mean  compactness_mean  concavity_mean  concave points_mean  \\\n",
       "0            0.11840           0.27760         0.30010              0.14710   \n",
       "1            0.08474           0.07864         0.08690              0.07017   \n",
       "2            0.10960           0.15990         0.19740              0.12790   \n",
       "3            0.14250           0.28390         0.24140              0.10520   \n",
       "4            0.10030           0.13280         0.19800              0.10430   \n",
       "..               ...               ...             ...                  ...   \n",
       "564          0.11100           0.11590         0.24390              0.13890   \n",
       "565          0.09780           0.10340         0.14400              0.09791   \n",
       "566          0.08455           0.10230         0.09251              0.05302   \n",
       "567          0.11780           0.27700         0.35140              0.15200   \n",
       "568          0.05263           0.04362         0.00000              0.00000   \n",
       "\n",
       "     ...  texture_worst  perimeter_worst  area_worst  smoothness_worst  \\\n",
       "0    ...          17.33           184.60      2019.0           0.16220   \n",
       "1    ...          23.41           158.80      1956.0           0.12380   \n",
       "2    ...          25.53           152.50      1709.0           0.14440   \n",
       "3    ...          26.50            98.87       567.7           0.20980   \n",
       "4    ...          16.67           152.20      1575.0           0.13740   \n",
       "..   ...            ...              ...         ...               ...   \n",
       "564  ...          26.40           166.10      2027.0           0.14100   \n",
       "565  ...          38.25           155.00      1731.0           0.11660   \n",
       "566  ...          34.12           126.70      1124.0           0.11390   \n",
       "567  ...          39.42           184.60      1821.0           0.16500   \n",
       "568  ...          30.37            59.16       268.6           0.08996   \n",
       "\n",
       "     compactness_worst  concavity_worst  concave points_worst  symmetry_worst  \\\n",
       "0              0.66560           0.7119                0.2654          0.4601   \n",
       "1              0.18660           0.2416                0.1860          0.2750   \n",
       "2              0.42450           0.4504                0.2430          0.3613   \n",
       "3              0.86630           0.6869                0.2575          0.6638   \n",
       "4              0.20500           0.4000                0.1625          0.2364   \n",
       "..                 ...              ...                   ...             ...   \n",
       "564            0.21130           0.4107                0.2216          0.2060   \n",
       "565            0.19220           0.3215                0.1628          0.2572   \n",
       "566            0.30940           0.3403                0.1418          0.2218   \n",
       "567            0.86810           0.9387                0.2650          0.4087   \n",
       "568            0.06444           0.0000                0.0000          0.2871   \n",
       "\n",
       "     fractal_dimension_worst  Unnamed: 32  \n",
       "0                    0.11890          NaN  \n",
       "1                    0.08902          NaN  \n",
       "2                    0.08758          NaN  \n",
       "3                    0.17300          NaN  \n",
       "4                    0.07678          NaN  \n",
       "..                       ...          ...  \n",
       "564                  0.07115          NaN  \n",
       "565                  0.06637          NaN  \n",
       "566                  0.07820          NaN  \n",
       "567                  0.12400          NaN  \n",
       "568                  0.07039          NaN  \n",
       "\n",
       "[569 rows x 33 columns]"
      ]
     },
     "execution_count": 2,
     "metadata": {},
     "output_type": "execute_result"
    }
   ],
   "source": [
    "#Loading data and checking if there is any suspicious column which is not relevant to our research#\n",
    "df = pd.read_csv('Cancer_Data.csv')\n",
    "df"
   ]
  },
  {
   "cell_type": "code",
   "execution_count": 3,
   "metadata": {},
   "outputs": [
    {
     "data": {
      "text/plain": [
       "0"
      ]
     },
     "execution_count": 3,
     "metadata": {},
     "output_type": "execute_result"
    }
   ],
   "source": [
    "#Notice that column id has no relavant information#\n",
    "#Detect if columnn 'Unnamed: 32' has other values than NaN#\n",
    "df['Unnamed: 32'].nunique()"
   ]
  },
  {
   "cell_type": "code",
   "execution_count": 4,
   "metadata": {},
   "outputs": [],
   "source": [
    "#In column 'Unnamed: 32', there are no other values than NaN#\n",
    "#Therefor, we will drop columns 'id' and 'Unnamed: 32'#\n",
    "df.drop(columns=['id', 'Unnamed: 32'], inplace=True)"
   ]
  },
  {
   "cell_type": "code",
   "execution_count": 5,
   "metadata": {},
   "outputs": [
    {
     "data": {
      "text/plain": [
       "Index(['diagnosis', 'radius_mean', 'texture_mean', 'perimeter_mean',\n",
       "       'area_mean', 'smoothness_mean', 'compactness_mean', 'concavity_mean',\n",
       "       'concave points_mean', 'symmetry_mean', 'fractal_dimension_mean',\n",
       "       'radius_se', 'texture_se', 'perimeter_se', 'area_se', 'smoothness_se',\n",
       "       'compactness_se', 'concavity_se', 'concave points_se', 'symmetry_se',\n",
       "       'fractal_dimension_se', 'radius_worst', 'texture_worst',\n",
       "       'perimeter_worst', 'area_worst', 'smoothness_worst',\n",
       "       'compactness_worst', 'concavity_worst', 'concave points_worst',\n",
       "       'symmetry_worst', 'fractal_dimension_worst'],\n",
       "      dtype='object')"
      ]
     },
     "execution_count": 5,
     "metadata": {},
     "output_type": "execute_result"
    }
   ],
   "source": [
    "df.columns #Checking columns of DataFrame#"
   ]
  },
  {
   "cell_type": "code",
   "execution_count": 6,
   "metadata": {},
   "outputs": [],
   "source": [
    "inputs = df.iloc[:, 1:] #Creating DataFrame named 'inputs' that contains data which we use as input in creation of test#\n",
    "targets = df.diagnosis #Creating DataFrame named 'targets' that contains data which we use as input in creation of test#"
   ]
  },
  {
   "cell_type": "code",
   "execution_count": 7,
   "metadata": {},
   "outputs": [
    {
     "data": {
      "application/vnd.plotly.v1+json": {
       "config": {
        "plotlyServerURL": "https://plot.ly"
       },
       "data": [
        {
         "domain": {
          "x": [
           0,
           1
          ],
          "y": [
           0,
           1
          ]
         },
         "hovertemplate": "diagnosis=%{label}<extra></extra>",
         "labels": [
          "M",
          "M",
          "M",
          "M",
          "M",
          "M",
          "M",
          "M",
          "M",
          "M",
          "M",
          "M",
          "M",
          "M",
          "M",
          "M",
          "M",
          "M",
          "M",
          "B",
          "B",
          "B",
          "M",
          "M",
          "M",
          "M",
          "M",
          "M",
          "M",
          "M",
          "M",
          "M",
          "M",
          "M",
          "M",
          "M",
          "M",
          "B",
          "M",
          "M",
          "M",
          "M",
          "M",
          "M",
          "M",
          "M",
          "B",
          "M",
          "B",
          "B",
          "B",
          "B",
          "B",
          "M",
          "M",
          "B",
          "M",
          "M",
          "B",
          "B",
          "B",
          "B",
          "M",
          "B",
          "M",
          "M",
          "B",
          "B",
          "B",
          "B",
          "M",
          "B",
          "M",
          "M",
          "B",
          "M",
          "B",
          "M",
          "M",
          "B",
          "B",
          "B",
          "M",
          "M",
          "B",
          "M",
          "M",
          "M",
          "B",
          "B",
          "B",
          "M",
          "B",
          "B",
          "M",
          "M",
          "B",
          "B",
          "B",
          "M",
          "M",
          "B",
          "B",
          "B",
          "B",
          "M",
          "B",
          "B",
          "M",
          "B",
          "B",
          "B",
          "B",
          "B",
          "B",
          "B",
          "B",
          "M",
          "M",
          "M",
          "B",
          "M",
          "M",
          "B",
          "B",
          "B",
          "M",
          "M",
          "B",
          "M",
          "B",
          "M",
          "M",
          "B",
          "M",
          "M",
          "B",
          "B",
          "M",
          "B",
          "B",
          "M",
          "B",
          "B",
          "B",
          "B",
          "M",
          "B",
          "B",
          "B",
          "B",
          "B",
          "B",
          "B",
          "B",
          "B",
          "M",
          "B",
          "B",
          "B",
          "B",
          "M",
          "M",
          "B",
          "M",
          "B",
          "B",
          "M",
          "M",
          "B",
          "B",
          "M",
          "M",
          "B",
          "B",
          "B",
          "B",
          "M",
          "B",
          "B",
          "M",
          "M",
          "M",
          "B",
          "M",
          "B",
          "M",
          "B",
          "B",
          "B",
          "M",
          "B",
          "B",
          "M",
          "M",
          "B",
          "M",
          "M",
          "M",
          "M",
          "B",
          "M",
          "M",
          "M",
          "B",
          "M",
          "B",
          "M",
          "B",
          "B",
          "M",
          "B",
          "M",
          "M",
          "M",
          "M",
          "B",
          "B",
          "M",
          "M",
          "B",
          "B",
          "B",
          "M",
          "B",
          "B",
          "B",
          "B",
          "B",
          "M",
          "M",
          "B",
          "B",
          "M",
          "B",
          "B",
          "M",
          "M",
          "B",
          "M",
          "B",
          "B",
          "B",
          "B",
          "M",
          "B",
          "B",
          "B",
          "B",
          "B",
          "M",
          "B",
          "M",
          "M",
          "M",
          "M",
          "M",
          "M",
          "M",
          "M",
          "M",
          "M",
          "M",
          "M",
          "M",
          "M",
          "B",
          "B",
          "B",
          "B",
          "B",
          "B",
          "M",
          "B",
          "M",
          "B",
          "B",
          "M",
          "B",
          "B",
          "M",
          "B",
          "M",
          "M",
          "B",
          "B",
          "B",
          "B",
          "B",
          "B",
          "B",
          "B",
          "B",
          "B",
          "B",
          "B",
          "B",
          "M",
          "B",
          "B",
          "M",
          "B",
          "M",
          "B",
          "B",
          "B",
          "B",
          "B",
          "B",
          "B",
          "B",
          "B",
          "B",
          "B",
          "B",
          "B",
          "B",
          "M",
          "B",
          "B",
          "B",
          "M",
          "B",
          "M",
          "B",
          "B",
          "B",
          "B",
          "M",
          "M",
          "M",
          "B",
          "B",
          "B",
          "B",
          "M",
          "B",
          "M",
          "B",
          "M",
          "B",
          "B",
          "B",
          "M",
          "B",
          "B",
          "B",
          "B",
          "B",
          "B",
          "B",
          "M",
          "M",
          "M",
          "B",
          "B",
          "B",
          "B",
          "B",
          "B",
          "B",
          "B",
          "B",
          "B",
          "B",
          "M",
          "M",
          "B",
          "M",
          "M",
          "M",
          "B",
          "M",
          "M",
          "B",
          "B",
          "B",
          "B",
          "B",
          "M",
          "B",
          "B",
          "B",
          "B",
          "B",
          "M",
          "B",
          "B",
          "B",
          "M",
          "B",
          "B",
          "M",
          "M",
          "B",
          "B",
          "B",
          "B",
          "B",
          "B",
          "M",
          "B",
          "B",
          "B",
          "B",
          "B",
          "B",
          "B",
          "M",
          "B",
          "B",
          "B",
          "B",
          "B",
          "M",
          "B",
          "B",
          "M",
          "B",
          "B",
          "B",
          "B",
          "B",
          "B",
          "B",
          "B",
          "B",
          "B",
          "B",
          "B",
          "M",
          "B",
          "M",
          "M",
          "B",
          "M",
          "B",
          "B",
          "B",
          "B",
          "B",
          "M",
          "B",
          "B",
          "M",
          "B",
          "M",
          "B",
          "B",
          "M",
          "B",
          "M",
          "B",
          "B",
          "B",
          "B",
          "B",
          "B",
          "B",
          "B",
          "M",
          "M",
          "B",
          "B",
          "B",
          "B",
          "B",
          "B",
          "M",
          "B",
          "B",
          "B",
          "B",
          "B",
          "B",
          "B",
          "B",
          "B",
          "B",
          "M",
          "B",
          "B",
          "B",
          "B",
          "B",
          "B",
          "B",
          "M",
          "B",
          "M",
          "B",
          "B",
          "M",
          "B",
          "B",
          "B",
          "B",
          "B",
          "M",
          "M",
          "B",
          "M",
          "B",
          "M",
          "B",
          "B",
          "B",
          "B",
          "B",
          "M",
          "B",
          "B",
          "M",
          "B",
          "M",
          "B",
          "M",
          "M",
          "B",
          "B",
          "B",
          "M",
          "B",
          "B",
          "B",
          "B",
          "B",
          "B",
          "B",
          "B",
          "B",
          "B",
          "B",
          "M",
          "B",
          "M",
          "M",
          "B",
          "B",
          "B",
          "B",
          "B",
          "B",
          "B",
          "B",
          "B",
          "B",
          "B",
          "B",
          "B",
          "B",
          "B",
          "B",
          "B",
          "B",
          "B",
          "B",
          "B",
          "B",
          "B",
          "B",
          "B",
          "M",
          "M",
          "M",
          "M",
          "M",
          "M",
          "B"
         ],
         "legendgroup": "",
         "name": "",
         "showlegend": true,
         "type": "pie"
        }
       ],
       "layout": {
        "legend": {
         "tracegroupgap": 0
        },
        "template": {
         "data": {
          "bar": [
           {
            "error_x": {
             "color": "#2a3f5f"
            },
            "error_y": {
             "color": "#2a3f5f"
            },
            "marker": {
             "line": {
              "color": "#E5ECF6",
              "width": 0.5
             },
             "pattern": {
              "fillmode": "overlay",
              "size": 10,
              "solidity": 0.2
             }
            },
            "type": "bar"
           }
          ],
          "barpolar": [
           {
            "marker": {
             "line": {
              "color": "#E5ECF6",
              "width": 0.5
             },
             "pattern": {
              "fillmode": "overlay",
              "size": 10,
              "solidity": 0.2
             }
            },
            "type": "barpolar"
           }
          ],
          "carpet": [
           {
            "aaxis": {
             "endlinecolor": "#2a3f5f",
             "gridcolor": "white",
             "linecolor": "white",
             "minorgridcolor": "white",
             "startlinecolor": "#2a3f5f"
            },
            "baxis": {
             "endlinecolor": "#2a3f5f",
             "gridcolor": "white",
             "linecolor": "white",
             "minorgridcolor": "white",
             "startlinecolor": "#2a3f5f"
            },
            "type": "carpet"
           }
          ],
          "choropleth": [
           {
            "colorbar": {
             "outlinewidth": 0,
             "ticks": ""
            },
            "type": "choropleth"
           }
          ],
          "contour": [
           {
            "colorbar": {
             "outlinewidth": 0,
             "ticks": ""
            },
            "colorscale": [
             [
              0,
              "#0d0887"
             ],
             [
              0.1111111111111111,
              "#46039f"
             ],
             [
              0.2222222222222222,
              "#7201a8"
             ],
             [
              0.3333333333333333,
              "#9c179e"
             ],
             [
              0.4444444444444444,
              "#bd3786"
             ],
             [
              0.5555555555555556,
              "#d8576b"
             ],
             [
              0.6666666666666666,
              "#ed7953"
             ],
             [
              0.7777777777777778,
              "#fb9f3a"
             ],
             [
              0.8888888888888888,
              "#fdca26"
             ],
             [
              1,
              "#f0f921"
             ]
            ],
            "type": "contour"
           }
          ],
          "contourcarpet": [
           {
            "colorbar": {
             "outlinewidth": 0,
             "ticks": ""
            },
            "type": "contourcarpet"
           }
          ],
          "heatmap": [
           {
            "colorbar": {
             "outlinewidth": 0,
             "ticks": ""
            },
            "colorscale": [
             [
              0,
              "#0d0887"
             ],
             [
              0.1111111111111111,
              "#46039f"
             ],
             [
              0.2222222222222222,
              "#7201a8"
             ],
             [
              0.3333333333333333,
              "#9c179e"
             ],
             [
              0.4444444444444444,
              "#bd3786"
             ],
             [
              0.5555555555555556,
              "#d8576b"
             ],
             [
              0.6666666666666666,
              "#ed7953"
             ],
             [
              0.7777777777777778,
              "#fb9f3a"
             ],
             [
              0.8888888888888888,
              "#fdca26"
             ],
             [
              1,
              "#f0f921"
             ]
            ],
            "type": "heatmap"
           }
          ],
          "heatmapgl": [
           {
            "colorbar": {
             "outlinewidth": 0,
             "ticks": ""
            },
            "colorscale": [
             [
              0,
              "#0d0887"
             ],
             [
              0.1111111111111111,
              "#46039f"
             ],
             [
              0.2222222222222222,
              "#7201a8"
             ],
             [
              0.3333333333333333,
              "#9c179e"
             ],
             [
              0.4444444444444444,
              "#bd3786"
             ],
             [
              0.5555555555555556,
              "#d8576b"
             ],
             [
              0.6666666666666666,
              "#ed7953"
             ],
             [
              0.7777777777777778,
              "#fb9f3a"
             ],
             [
              0.8888888888888888,
              "#fdca26"
             ],
             [
              1,
              "#f0f921"
             ]
            ],
            "type": "heatmapgl"
           }
          ],
          "histogram": [
           {
            "marker": {
             "pattern": {
              "fillmode": "overlay",
              "size": 10,
              "solidity": 0.2
             }
            },
            "type": "histogram"
           }
          ],
          "histogram2d": [
           {
            "colorbar": {
             "outlinewidth": 0,
             "ticks": ""
            },
            "colorscale": [
             [
              0,
              "#0d0887"
             ],
             [
              0.1111111111111111,
              "#46039f"
             ],
             [
              0.2222222222222222,
              "#7201a8"
             ],
             [
              0.3333333333333333,
              "#9c179e"
             ],
             [
              0.4444444444444444,
              "#bd3786"
             ],
             [
              0.5555555555555556,
              "#d8576b"
             ],
             [
              0.6666666666666666,
              "#ed7953"
             ],
             [
              0.7777777777777778,
              "#fb9f3a"
             ],
             [
              0.8888888888888888,
              "#fdca26"
             ],
             [
              1,
              "#f0f921"
             ]
            ],
            "type": "histogram2d"
           }
          ],
          "histogram2dcontour": [
           {
            "colorbar": {
             "outlinewidth": 0,
             "ticks": ""
            },
            "colorscale": [
             [
              0,
              "#0d0887"
             ],
             [
              0.1111111111111111,
              "#46039f"
             ],
             [
              0.2222222222222222,
              "#7201a8"
             ],
             [
              0.3333333333333333,
              "#9c179e"
             ],
             [
              0.4444444444444444,
              "#bd3786"
             ],
             [
              0.5555555555555556,
              "#d8576b"
             ],
             [
              0.6666666666666666,
              "#ed7953"
             ],
             [
              0.7777777777777778,
              "#fb9f3a"
             ],
             [
              0.8888888888888888,
              "#fdca26"
             ],
             [
              1,
              "#f0f921"
             ]
            ],
            "type": "histogram2dcontour"
           }
          ],
          "mesh3d": [
           {
            "colorbar": {
             "outlinewidth": 0,
             "ticks": ""
            },
            "type": "mesh3d"
           }
          ],
          "parcoords": [
           {
            "line": {
             "colorbar": {
              "outlinewidth": 0,
              "ticks": ""
             }
            },
            "type": "parcoords"
           }
          ],
          "pie": [
           {
            "automargin": true,
            "type": "pie"
           }
          ],
          "scatter": [
           {
            "fillpattern": {
             "fillmode": "overlay",
             "size": 10,
             "solidity": 0.2
            },
            "type": "scatter"
           }
          ],
          "scatter3d": [
           {
            "line": {
             "colorbar": {
              "outlinewidth": 0,
              "ticks": ""
             }
            },
            "marker": {
             "colorbar": {
              "outlinewidth": 0,
              "ticks": ""
             }
            },
            "type": "scatter3d"
           }
          ],
          "scattercarpet": [
           {
            "marker": {
             "colorbar": {
              "outlinewidth": 0,
              "ticks": ""
             }
            },
            "type": "scattercarpet"
           }
          ],
          "scattergeo": [
           {
            "marker": {
             "colorbar": {
              "outlinewidth": 0,
              "ticks": ""
             }
            },
            "type": "scattergeo"
           }
          ],
          "scattergl": [
           {
            "marker": {
             "colorbar": {
              "outlinewidth": 0,
              "ticks": ""
             }
            },
            "type": "scattergl"
           }
          ],
          "scattermapbox": [
           {
            "marker": {
             "colorbar": {
              "outlinewidth": 0,
              "ticks": ""
             }
            },
            "type": "scattermapbox"
           }
          ],
          "scatterpolar": [
           {
            "marker": {
             "colorbar": {
              "outlinewidth": 0,
              "ticks": ""
             }
            },
            "type": "scatterpolar"
           }
          ],
          "scatterpolargl": [
           {
            "marker": {
             "colorbar": {
              "outlinewidth": 0,
              "ticks": ""
             }
            },
            "type": "scatterpolargl"
           }
          ],
          "scatterternary": [
           {
            "marker": {
             "colorbar": {
              "outlinewidth": 0,
              "ticks": ""
             }
            },
            "type": "scatterternary"
           }
          ],
          "surface": [
           {
            "colorbar": {
             "outlinewidth": 0,
             "ticks": ""
            },
            "colorscale": [
             [
              0,
              "#0d0887"
             ],
             [
              0.1111111111111111,
              "#46039f"
             ],
             [
              0.2222222222222222,
              "#7201a8"
             ],
             [
              0.3333333333333333,
              "#9c179e"
             ],
             [
              0.4444444444444444,
              "#bd3786"
             ],
             [
              0.5555555555555556,
              "#d8576b"
             ],
             [
              0.6666666666666666,
              "#ed7953"
             ],
             [
              0.7777777777777778,
              "#fb9f3a"
             ],
             [
              0.8888888888888888,
              "#fdca26"
             ],
             [
              1,
              "#f0f921"
             ]
            ],
            "type": "surface"
           }
          ],
          "table": [
           {
            "cells": {
             "fill": {
              "color": "#EBF0F8"
             },
             "line": {
              "color": "white"
             }
            },
            "header": {
             "fill": {
              "color": "#C8D4E3"
             },
             "line": {
              "color": "white"
             }
            },
            "type": "table"
           }
          ]
         },
         "layout": {
          "annotationdefaults": {
           "arrowcolor": "#2a3f5f",
           "arrowhead": 0,
           "arrowwidth": 1
          },
          "autotypenumbers": "strict",
          "coloraxis": {
           "colorbar": {
            "outlinewidth": 0,
            "ticks": ""
           }
          },
          "colorscale": {
           "diverging": [
            [
             0,
             "#8e0152"
            ],
            [
             0.1,
             "#c51b7d"
            ],
            [
             0.2,
             "#de77ae"
            ],
            [
             0.3,
             "#f1b6da"
            ],
            [
             0.4,
             "#fde0ef"
            ],
            [
             0.5,
             "#f7f7f7"
            ],
            [
             0.6,
             "#e6f5d0"
            ],
            [
             0.7,
             "#b8e186"
            ],
            [
             0.8,
             "#7fbc41"
            ],
            [
             0.9,
             "#4d9221"
            ],
            [
             1,
             "#276419"
            ]
           ],
           "sequential": [
            [
             0,
             "#0d0887"
            ],
            [
             0.1111111111111111,
             "#46039f"
            ],
            [
             0.2222222222222222,
             "#7201a8"
            ],
            [
             0.3333333333333333,
             "#9c179e"
            ],
            [
             0.4444444444444444,
             "#bd3786"
            ],
            [
             0.5555555555555556,
             "#d8576b"
            ],
            [
             0.6666666666666666,
             "#ed7953"
            ],
            [
             0.7777777777777778,
             "#fb9f3a"
            ],
            [
             0.8888888888888888,
             "#fdca26"
            ],
            [
             1,
             "#f0f921"
            ]
           ],
           "sequentialminus": [
            [
             0,
             "#0d0887"
            ],
            [
             0.1111111111111111,
             "#46039f"
            ],
            [
             0.2222222222222222,
             "#7201a8"
            ],
            [
             0.3333333333333333,
             "#9c179e"
            ],
            [
             0.4444444444444444,
             "#bd3786"
            ],
            [
             0.5555555555555556,
             "#d8576b"
            ],
            [
             0.6666666666666666,
             "#ed7953"
            ],
            [
             0.7777777777777778,
             "#fb9f3a"
            ],
            [
             0.8888888888888888,
             "#fdca26"
            ],
            [
             1,
             "#f0f921"
            ]
           ]
          },
          "colorway": [
           "#636efa",
           "#EF553B",
           "#00cc96",
           "#ab63fa",
           "#FFA15A",
           "#19d3f3",
           "#FF6692",
           "#B6E880",
           "#FF97FF",
           "#FECB52"
          ],
          "font": {
           "color": "#2a3f5f"
          },
          "geo": {
           "bgcolor": "white",
           "lakecolor": "white",
           "landcolor": "#E5ECF6",
           "showlakes": true,
           "showland": true,
           "subunitcolor": "white"
          },
          "hoverlabel": {
           "align": "left"
          },
          "hovermode": "closest",
          "mapbox": {
           "style": "light"
          },
          "paper_bgcolor": "white",
          "plot_bgcolor": "#E5ECF6",
          "polar": {
           "angularaxis": {
            "gridcolor": "white",
            "linecolor": "white",
            "ticks": ""
           },
           "bgcolor": "#E5ECF6",
           "radialaxis": {
            "gridcolor": "white",
            "linecolor": "white",
            "ticks": ""
           }
          },
          "scene": {
           "xaxis": {
            "backgroundcolor": "#E5ECF6",
            "gridcolor": "white",
            "gridwidth": 2,
            "linecolor": "white",
            "showbackground": true,
            "ticks": "",
            "zerolinecolor": "white"
           },
           "yaxis": {
            "backgroundcolor": "#E5ECF6",
            "gridcolor": "white",
            "gridwidth": 2,
            "linecolor": "white",
            "showbackground": true,
            "ticks": "",
            "zerolinecolor": "white"
           },
           "zaxis": {
            "backgroundcolor": "#E5ECF6",
            "gridcolor": "white",
            "gridwidth": 2,
            "linecolor": "white",
            "showbackground": true,
            "ticks": "",
            "zerolinecolor": "white"
           }
          },
          "shapedefaults": {
           "line": {
            "color": "#2a3f5f"
           }
          },
          "ternary": {
           "aaxis": {
            "gridcolor": "white",
            "linecolor": "white",
            "ticks": ""
           },
           "baxis": {
            "gridcolor": "white",
            "linecolor": "white",
            "ticks": ""
           },
           "bgcolor": "#E5ECF6",
           "caxis": {
            "gridcolor": "white",
            "linecolor": "white",
            "ticks": ""
           }
          },
          "title": {
           "x": 0.05
          },
          "xaxis": {
           "automargin": true,
           "gridcolor": "white",
           "linecolor": "white",
           "ticks": "",
           "title": {
            "standoff": 15
           },
           "zerolinecolor": "white",
           "zerolinewidth": 2
          },
          "yaxis": {
           "automargin": true,
           "gridcolor": "white",
           "linecolor": "white",
           "ticks": "",
           "title": {
            "standoff": 15
           },
           "zerolinecolor": "white",
           "zerolinewidth": 2
          }
         }
        },
        "title": {
         "text": "Benign | Malignant"
        }
       }
      }
     },
     "metadata": {},
     "output_type": "display_data"
    }
   ],
   "source": [
    "#Checking what is the ration between Bening and Malignant diagnosis#\n",
    "figure_diagnosis = px.pie(df, 'diagnosis', title='Benign | Malignant')\n",
    "figure_diagnosis.show()"
   ]
  },
  {
   "cell_type": "code",
   "execution_count": 8,
   "metadata": {},
   "outputs": [],
   "source": [
    "#Defining helper function which we use to plot histograms in order to determine distribution of features#\n",
    "#We use keyword color = 'diagnosis' in order to see how diagnosis relates to feature we are looking on#\n",
    "\n",
    "def distribution_check(column_name):\n",
    "    figure_test = px.histogram(df,\n",
    "                           x=f'{column_name}',\n",
    "                           color='diagnosis',\n",
    "                           title=f'Distribution of {column_name}<br>Relation between {column_name} and diagnosis',\n",
    "                           nbins=50,\n",
    "                           )\n",
    "    figure_test.update_layout(bargap=0.15)\n",
    "    figure_test.show()"
   ]
  },
  {
   "cell_type": "markdown",
   "metadata": {},
   "source": [
    "We use following code to print every single histogram:\n",
    "\n",
    "\" for i in range (df.shape[1]):\n",
    "      print(distribution_check(df.columns[i])) \"\n",
    "    \n",
    "In desire to keep this notebook clean and readable, we will show just few of them:"
   ]
  },
  {
   "cell_type": "code",
   "execution_count": 9,
   "metadata": {},
   "outputs": [
    {
     "data": {
      "application/vnd.plotly.v1+json": {
       "config": {
        "plotlyServerURL": "https://plot.ly"
       },
       "data": [
        {
         "alignmentgroup": "True",
         "bingroup": "x",
         "hovertemplate": "diagnosis=M<br>texture_mean=%{x}<br>count=%{y}<extra></extra>",
         "legendgroup": "M",
         "marker": {
          "color": "#636efa",
          "pattern": {
           "shape": ""
          }
         },
         "name": "M",
         "nbinsx": 50,
         "offsetgroup": "M",
         "orientation": "v",
         "showlegend": true,
         "type": "histogram",
         "x": [
          10.38,
          17.77,
          21.25,
          20.38,
          14.34,
          15.7,
          19.98,
          20.83,
          21.82,
          24.04,
          23.24,
          17.89,
          24.8,
          23.95,
          22.61,
          27.54,
          20.13,
          20.68,
          22.15,
          14.26,
          23.04,
          21.38,
          16.4,
          21.53,
          20.25,
          25.27,
          15.05,
          25.11,
          18.7,
          23.98,
          26.47,
          17.88,
          21.59,
          21.72,
          25.2,
          20.82,
          21.58,
          21.35,
          24.81,
          20.28,
          21.81,
          17.6,
          18.66,
          18.7,
          22.02,
          18.57,
          21.59,
          22.15,
          23.84,
          23.94,
          21.31,
          24.52,
          15.79,
          19.65,
          16.15,
          23.97,
          24.91,
          26.29,
          18.52,
          21.46,
          24.59,
          22.76,
          19.83,
          23.03,
          19.77,
          24.98,
          15.56,
          19.67,
          16.67,
          22.91,
          20.01,
          17.12,
          20.2,
          24.69,
          18.91,
          25.12,
          19.48,
          21.54,
          21.91,
          22.47,
          17.57,
          18.05,
          16.58,
          20.74,
          15.94,
          18.15,
          22.04,
          18.8,
          24.68,
          19.63,
          11.89,
          20.11,
          21.87,
          26.57,
          20.31,
          22.41,
          18.58,
          23.12,
          26.86,
          23.21,
          22.29,
          21.84,
          22.49,
          20.22,
          19.32,
          26.67,
          23.75,
          16.68,
          20.26,
          22.14,
          18.47,
          25.56,
          23.81,
          16.93,
          21.56,
          32.47,
          20.25,
          22.33,
          19.08,
          27.81,
          26.97,
          21.46,
          39.28,
          23.5,
          23.56,
          19.82,
          17.08,
          19.33,
          17.05,
          28.77,
          17.27,
          23.2,
          33.56,
          27.06,
          23.06,
          22.13,
          19.38,
          22.07,
          31.12,
          20.99,
          24.48,
          19.98,
          26.6,
          18.18,
          18.77,
          18.14,
          18.9,
          23.86,
          18.87,
          19.66,
          21.51,
          20.71,
          21.88,
          15.51,
          21,
          21.43,
          24.27,
          21.68,
          19.22,
          17.46,
          25.74,
          21.78,
          26.83,
          17.25,
          21.9,
          23.29,
          15.1,
          17.35,
          18.83,
          23.29,
          23.21,
          19.97,
          22.28,
          21.02,
          20.66,
          29.81,
          21.08,
          22.53,
          19.54,
          21.97,
          19.62,
          25.42,
          16.85,
          28.03,
          20.52,
          25,
          27.15,
          26.27,
          23.33,
          19.51,
          18.82,
          20.2,
          20.56,
          17.52,
          21.24,
          24.49,
          19.83,
          23.95,
          20.52,
          19.07,
          20.58,
          20.26,
          21.6,
          20.67,
          20.86,
          22.55,
          30.62,
          25.09,
          22.39,
          28.25,
          28.08,
          29.33
         ],
         "xaxis": "x",
         "yaxis": "y"
        },
        {
         "alignmentgroup": "True",
         "bingroup": "x",
         "hovertemplate": "diagnosis=B<br>texture_mean=%{x}<br>count=%{y}<extra></extra>",
         "legendgroup": "B",
         "marker": {
          "color": "#EF553B",
          "pattern": {
           "shape": ""
          }
         },
         "name": "B",
         "nbinsx": 50,
         "offsetgroup": "B",
         "orientation": "v",
         "showlegend": true,
         "type": "histogram",
         "x": [
          14.36,
          15.71,
          12.44,
          18.42,
          16.84,
          14.63,
          22.3,
          21.6,
          16.34,
          18.24,
          18.75,
          19.31,
          11.79,
          14.88,
          20.98,
          13.86,
          21.01,
          19.04,
          17.33,
          16.49,
          14.64,
          16.52,
          10.94,
          18,
          20.97,
          15.86,
          15.65,
          21.8,
          15.24,
          24.02,
          14.76,
          18.3,
          17.84,
          19.94,
          12.84,
          13.43,
          20.52,
          19.4,
          19.29,
          18.33,
          18.54,
          21.26,
          16.99,
          20.76,
          19.65,
          20.19,
          15.83,
          21.53,
          15.76,
          10.82,
          10.89,
          16.39,
          17.21,
          16.39,
          13.29,
          13.93,
          16.67,
          15.39,
          13.39,
          11.97,
          17.31,
          15.92,
          14.97,
          14.65,
          18.77,
          15.18,
          17.91,
          20.78,
          20.7,
          15.34,
          13.08,
          15.34,
          17.94,
          19.46,
          12.74,
          12.96,
          20.18,
          22.22,
          19.76,
          9.71,
          16.95,
          12.39,
          14.71,
          15.15,
          14.45,
          18.06,
          22.22,
          13.06,
          14.92,
          15.11,
          17.19,
          17.39,
          15.9,
          21.41,
          18.22,
          16.33,
          19.56,
          18.6,
          17.27,
          22.54,
          12.91,
          18.94,
          18.35,
          17.48,
          13.16,
          13.9,
          17.53,
          17.02,
          13.47,
          15.46,
          15.51,
          23.97,
          27.08,
          33.81,
          15.91,
          21.25,
          27.85,
          15.6,
          15.04,
          18.19,
          23.77,
          19.86,
          17.43,
          14.11,
          25.22,
          14.93,
          18.45,
          18.95,
          21.84,
          16.21,
          20.39,
          16.82,
          13.04,
          15.67,
          17.36,
          14.16,
          17.84,
          15.18,
          14.02,
          15.7,
          18.4,
          20.76,
          13.12,
          19.96,
          18.89,
          19.73,
          19.1,
          16.02,
          17.46,
          13.78,
          13.27,
          12.35,
          18.17,
          23.09,
          19.89,
          18.61,
          18.16,
          24.49,
          15.82,
          14.4,
          12.71,
          13.84,
          19.11,
          15.69,
          13.37,
          10.72,
          18.6,
          16.85,
          14.08,
          18.9,
          17,
          16.18,
          13.32,
          15.21,
          17.3,
          12.88,
          17.93,
          19.35,
          19.86,
          14.78,
          19.02,
          14.23,
          17.53,
          16.54,
          16.84,
          14.96,
          15.45,
          14.71,
          18.9,
          14.74,
          16.03,
          14.96,
          17.07,
          14.07,
          19.07,
          18.59,
          16.21,
          15.49,
          18.32,
          18.07,
          21.57,
          18.84,
          18.29,
          16.95,
          18.02,
          13.21,
          16.07,
          16.07,
          20.22,
          28.21,
          15.15,
          12.96,
          14.93,
          22.72,
          17.48,
          13.72,
          14.09,
          16.16,
          15.5,
          12.22,
          16.84,
          17.72,
          17.18,
          18.89,
          17.46,
          14.83,
          17.26,
          10.91,
          18.29,
          16.17,
          14.95,
          18.59,
          14.86,
          21.37,
          17.92,
          17.57,
          16.83,
          21.68,
          22.11,
          21.17,
          21.7,
          12.17,
          21.41,
          19.04,
          13.98,
          16.02,
          19.13,
          19.12,
          21.28,
          14.98,
          21.98,
          16.62,
          17.67,
          17.68,
          16.94,
          19.54,
          15.98,
          19.6,
          15.66,
          17.2,
          15.79,
          18.32,
          24.89,
          17.66,
          19.34,
          21.54,
          28.23,
          13.98,
          17.15,
          30.72,
          29.29,
          25.25,
          25.13,
          28.2,
          26.99,
          18.36,
          18.22,
          20.13,
          20.74,
          18.1,
          18.18,
          18.49,
          28.14,
          14.93,
          29.97,
          15.62,
          15.73,
          20.53,
          16.62,
          14.59,
          18.03,
          19.24,
          14.06,
          17.64,
          11.28,
          16.41,
          16.85,
          16.17,
          22.44,
          13.23,
          12.83,
          20.54,
          20.21,
          18.17,
          17.31,
          16.74,
          16.32,
          12.87,
          13.14,
          20.04,
          17.12,
          15.7,
          14.69,
          14.7,
          13.66,
          18.61,
          18.22,
          16.7,
          13.9,
          19.83,
          18.68,
          15.68,
          13.1,
          18.75,
          12.27,
          13.17,
          13.44,
          17.56,
          20.02,
          16.33,
          17.62,
          24.44,
          25.49,
          25.44,
          14.44,
          24.99,
          25.42,
          28.06,
          20.7,
          23.23,
          16.35,
          16.58,
          19.34,
          24.21,
          21.48,
          22.44,
          29.43,
          21.94,
          28.92,
          27.61,
          19.59,
          27.88,
          22.68,
          23.93,
          27.15,
          29.37,
          24.54
         ],
         "xaxis": "x",
         "yaxis": "y"
        }
       ],
       "layout": {
        "bargap": 0.15,
        "barmode": "relative",
        "legend": {
         "title": {
          "text": "diagnosis"
         },
         "tracegroupgap": 0
        },
        "template": {
         "data": {
          "bar": [
           {
            "error_x": {
             "color": "#2a3f5f"
            },
            "error_y": {
             "color": "#2a3f5f"
            },
            "marker": {
             "line": {
              "color": "#E5ECF6",
              "width": 0.5
             },
             "pattern": {
              "fillmode": "overlay",
              "size": 10,
              "solidity": 0.2
             }
            },
            "type": "bar"
           }
          ],
          "barpolar": [
           {
            "marker": {
             "line": {
              "color": "#E5ECF6",
              "width": 0.5
             },
             "pattern": {
              "fillmode": "overlay",
              "size": 10,
              "solidity": 0.2
             }
            },
            "type": "barpolar"
           }
          ],
          "carpet": [
           {
            "aaxis": {
             "endlinecolor": "#2a3f5f",
             "gridcolor": "white",
             "linecolor": "white",
             "minorgridcolor": "white",
             "startlinecolor": "#2a3f5f"
            },
            "baxis": {
             "endlinecolor": "#2a3f5f",
             "gridcolor": "white",
             "linecolor": "white",
             "minorgridcolor": "white",
             "startlinecolor": "#2a3f5f"
            },
            "type": "carpet"
           }
          ],
          "choropleth": [
           {
            "colorbar": {
             "outlinewidth": 0,
             "ticks": ""
            },
            "type": "choropleth"
           }
          ],
          "contour": [
           {
            "colorbar": {
             "outlinewidth": 0,
             "ticks": ""
            },
            "colorscale": [
             [
              0,
              "#0d0887"
             ],
             [
              0.1111111111111111,
              "#46039f"
             ],
             [
              0.2222222222222222,
              "#7201a8"
             ],
             [
              0.3333333333333333,
              "#9c179e"
             ],
             [
              0.4444444444444444,
              "#bd3786"
             ],
             [
              0.5555555555555556,
              "#d8576b"
             ],
             [
              0.6666666666666666,
              "#ed7953"
             ],
             [
              0.7777777777777778,
              "#fb9f3a"
             ],
             [
              0.8888888888888888,
              "#fdca26"
             ],
             [
              1,
              "#f0f921"
             ]
            ],
            "type": "contour"
           }
          ],
          "contourcarpet": [
           {
            "colorbar": {
             "outlinewidth": 0,
             "ticks": ""
            },
            "type": "contourcarpet"
           }
          ],
          "heatmap": [
           {
            "colorbar": {
             "outlinewidth": 0,
             "ticks": ""
            },
            "colorscale": [
             [
              0,
              "#0d0887"
             ],
             [
              0.1111111111111111,
              "#46039f"
             ],
             [
              0.2222222222222222,
              "#7201a8"
             ],
             [
              0.3333333333333333,
              "#9c179e"
             ],
             [
              0.4444444444444444,
              "#bd3786"
             ],
             [
              0.5555555555555556,
              "#d8576b"
             ],
             [
              0.6666666666666666,
              "#ed7953"
             ],
             [
              0.7777777777777778,
              "#fb9f3a"
             ],
             [
              0.8888888888888888,
              "#fdca26"
             ],
             [
              1,
              "#f0f921"
             ]
            ],
            "type": "heatmap"
           }
          ],
          "heatmapgl": [
           {
            "colorbar": {
             "outlinewidth": 0,
             "ticks": ""
            },
            "colorscale": [
             [
              0,
              "#0d0887"
             ],
             [
              0.1111111111111111,
              "#46039f"
             ],
             [
              0.2222222222222222,
              "#7201a8"
             ],
             [
              0.3333333333333333,
              "#9c179e"
             ],
             [
              0.4444444444444444,
              "#bd3786"
             ],
             [
              0.5555555555555556,
              "#d8576b"
             ],
             [
              0.6666666666666666,
              "#ed7953"
             ],
             [
              0.7777777777777778,
              "#fb9f3a"
             ],
             [
              0.8888888888888888,
              "#fdca26"
             ],
             [
              1,
              "#f0f921"
             ]
            ],
            "type": "heatmapgl"
           }
          ],
          "histogram": [
           {
            "marker": {
             "pattern": {
              "fillmode": "overlay",
              "size": 10,
              "solidity": 0.2
             }
            },
            "type": "histogram"
           }
          ],
          "histogram2d": [
           {
            "colorbar": {
             "outlinewidth": 0,
             "ticks": ""
            },
            "colorscale": [
             [
              0,
              "#0d0887"
             ],
             [
              0.1111111111111111,
              "#46039f"
             ],
             [
              0.2222222222222222,
              "#7201a8"
             ],
             [
              0.3333333333333333,
              "#9c179e"
             ],
             [
              0.4444444444444444,
              "#bd3786"
             ],
             [
              0.5555555555555556,
              "#d8576b"
             ],
             [
              0.6666666666666666,
              "#ed7953"
             ],
             [
              0.7777777777777778,
              "#fb9f3a"
             ],
             [
              0.8888888888888888,
              "#fdca26"
             ],
             [
              1,
              "#f0f921"
             ]
            ],
            "type": "histogram2d"
           }
          ],
          "histogram2dcontour": [
           {
            "colorbar": {
             "outlinewidth": 0,
             "ticks": ""
            },
            "colorscale": [
             [
              0,
              "#0d0887"
             ],
             [
              0.1111111111111111,
              "#46039f"
             ],
             [
              0.2222222222222222,
              "#7201a8"
             ],
             [
              0.3333333333333333,
              "#9c179e"
             ],
             [
              0.4444444444444444,
              "#bd3786"
             ],
             [
              0.5555555555555556,
              "#d8576b"
             ],
             [
              0.6666666666666666,
              "#ed7953"
             ],
             [
              0.7777777777777778,
              "#fb9f3a"
             ],
             [
              0.8888888888888888,
              "#fdca26"
             ],
             [
              1,
              "#f0f921"
             ]
            ],
            "type": "histogram2dcontour"
           }
          ],
          "mesh3d": [
           {
            "colorbar": {
             "outlinewidth": 0,
             "ticks": ""
            },
            "type": "mesh3d"
           }
          ],
          "parcoords": [
           {
            "line": {
             "colorbar": {
              "outlinewidth": 0,
              "ticks": ""
             }
            },
            "type": "parcoords"
           }
          ],
          "pie": [
           {
            "automargin": true,
            "type": "pie"
           }
          ],
          "scatter": [
           {
            "fillpattern": {
             "fillmode": "overlay",
             "size": 10,
             "solidity": 0.2
            },
            "type": "scatter"
           }
          ],
          "scatter3d": [
           {
            "line": {
             "colorbar": {
              "outlinewidth": 0,
              "ticks": ""
             }
            },
            "marker": {
             "colorbar": {
              "outlinewidth": 0,
              "ticks": ""
             }
            },
            "type": "scatter3d"
           }
          ],
          "scattercarpet": [
           {
            "marker": {
             "colorbar": {
              "outlinewidth": 0,
              "ticks": ""
             }
            },
            "type": "scattercarpet"
           }
          ],
          "scattergeo": [
           {
            "marker": {
             "colorbar": {
              "outlinewidth": 0,
              "ticks": ""
             }
            },
            "type": "scattergeo"
           }
          ],
          "scattergl": [
           {
            "marker": {
             "colorbar": {
              "outlinewidth": 0,
              "ticks": ""
             }
            },
            "type": "scattergl"
           }
          ],
          "scattermapbox": [
           {
            "marker": {
             "colorbar": {
              "outlinewidth": 0,
              "ticks": ""
             }
            },
            "type": "scattermapbox"
           }
          ],
          "scatterpolar": [
           {
            "marker": {
             "colorbar": {
              "outlinewidth": 0,
              "ticks": ""
             }
            },
            "type": "scatterpolar"
           }
          ],
          "scatterpolargl": [
           {
            "marker": {
             "colorbar": {
              "outlinewidth": 0,
              "ticks": ""
             }
            },
            "type": "scatterpolargl"
           }
          ],
          "scatterternary": [
           {
            "marker": {
             "colorbar": {
              "outlinewidth": 0,
              "ticks": ""
             }
            },
            "type": "scatterternary"
           }
          ],
          "surface": [
           {
            "colorbar": {
             "outlinewidth": 0,
             "ticks": ""
            },
            "colorscale": [
             [
              0,
              "#0d0887"
             ],
             [
              0.1111111111111111,
              "#46039f"
             ],
             [
              0.2222222222222222,
              "#7201a8"
             ],
             [
              0.3333333333333333,
              "#9c179e"
             ],
             [
              0.4444444444444444,
              "#bd3786"
             ],
             [
              0.5555555555555556,
              "#d8576b"
             ],
             [
              0.6666666666666666,
              "#ed7953"
             ],
             [
              0.7777777777777778,
              "#fb9f3a"
             ],
             [
              0.8888888888888888,
              "#fdca26"
             ],
             [
              1,
              "#f0f921"
             ]
            ],
            "type": "surface"
           }
          ],
          "table": [
           {
            "cells": {
             "fill": {
              "color": "#EBF0F8"
             },
             "line": {
              "color": "white"
             }
            },
            "header": {
             "fill": {
              "color": "#C8D4E3"
             },
             "line": {
              "color": "white"
             }
            },
            "type": "table"
           }
          ]
         },
         "layout": {
          "annotationdefaults": {
           "arrowcolor": "#2a3f5f",
           "arrowhead": 0,
           "arrowwidth": 1
          },
          "autotypenumbers": "strict",
          "coloraxis": {
           "colorbar": {
            "outlinewidth": 0,
            "ticks": ""
           }
          },
          "colorscale": {
           "diverging": [
            [
             0,
             "#8e0152"
            ],
            [
             0.1,
             "#c51b7d"
            ],
            [
             0.2,
             "#de77ae"
            ],
            [
             0.3,
             "#f1b6da"
            ],
            [
             0.4,
             "#fde0ef"
            ],
            [
             0.5,
             "#f7f7f7"
            ],
            [
             0.6,
             "#e6f5d0"
            ],
            [
             0.7,
             "#b8e186"
            ],
            [
             0.8,
             "#7fbc41"
            ],
            [
             0.9,
             "#4d9221"
            ],
            [
             1,
             "#276419"
            ]
           ],
           "sequential": [
            [
             0,
             "#0d0887"
            ],
            [
             0.1111111111111111,
             "#46039f"
            ],
            [
             0.2222222222222222,
             "#7201a8"
            ],
            [
             0.3333333333333333,
             "#9c179e"
            ],
            [
             0.4444444444444444,
             "#bd3786"
            ],
            [
             0.5555555555555556,
             "#d8576b"
            ],
            [
             0.6666666666666666,
             "#ed7953"
            ],
            [
             0.7777777777777778,
             "#fb9f3a"
            ],
            [
             0.8888888888888888,
             "#fdca26"
            ],
            [
             1,
             "#f0f921"
            ]
           ],
           "sequentialminus": [
            [
             0,
             "#0d0887"
            ],
            [
             0.1111111111111111,
             "#46039f"
            ],
            [
             0.2222222222222222,
             "#7201a8"
            ],
            [
             0.3333333333333333,
             "#9c179e"
            ],
            [
             0.4444444444444444,
             "#bd3786"
            ],
            [
             0.5555555555555556,
             "#d8576b"
            ],
            [
             0.6666666666666666,
             "#ed7953"
            ],
            [
             0.7777777777777778,
             "#fb9f3a"
            ],
            [
             0.8888888888888888,
             "#fdca26"
            ],
            [
             1,
             "#f0f921"
            ]
           ]
          },
          "colorway": [
           "#636efa",
           "#EF553B",
           "#00cc96",
           "#ab63fa",
           "#FFA15A",
           "#19d3f3",
           "#FF6692",
           "#B6E880",
           "#FF97FF",
           "#FECB52"
          ],
          "font": {
           "color": "#2a3f5f"
          },
          "geo": {
           "bgcolor": "white",
           "lakecolor": "white",
           "landcolor": "#E5ECF6",
           "showlakes": true,
           "showland": true,
           "subunitcolor": "white"
          },
          "hoverlabel": {
           "align": "left"
          },
          "hovermode": "closest",
          "mapbox": {
           "style": "light"
          },
          "paper_bgcolor": "white",
          "plot_bgcolor": "#E5ECF6",
          "polar": {
           "angularaxis": {
            "gridcolor": "white",
            "linecolor": "white",
            "ticks": ""
           },
           "bgcolor": "#E5ECF6",
           "radialaxis": {
            "gridcolor": "white",
            "linecolor": "white",
            "ticks": ""
           }
          },
          "scene": {
           "xaxis": {
            "backgroundcolor": "#E5ECF6",
            "gridcolor": "white",
            "gridwidth": 2,
            "linecolor": "white",
            "showbackground": true,
            "ticks": "",
            "zerolinecolor": "white"
           },
           "yaxis": {
            "backgroundcolor": "#E5ECF6",
            "gridcolor": "white",
            "gridwidth": 2,
            "linecolor": "white",
            "showbackground": true,
            "ticks": "",
            "zerolinecolor": "white"
           },
           "zaxis": {
            "backgroundcolor": "#E5ECF6",
            "gridcolor": "white",
            "gridwidth": 2,
            "linecolor": "white",
            "showbackground": true,
            "ticks": "",
            "zerolinecolor": "white"
           }
          },
          "shapedefaults": {
           "line": {
            "color": "#2a3f5f"
           }
          },
          "ternary": {
           "aaxis": {
            "gridcolor": "white",
            "linecolor": "white",
            "ticks": ""
           },
           "baxis": {
            "gridcolor": "white",
            "linecolor": "white",
            "ticks": ""
           },
           "bgcolor": "#E5ECF6",
           "caxis": {
            "gridcolor": "white",
            "linecolor": "white",
            "ticks": ""
           }
          },
          "title": {
           "x": 0.05
          },
          "xaxis": {
           "automargin": true,
           "gridcolor": "white",
           "linecolor": "white",
           "ticks": "",
           "title": {
            "standoff": 15
           },
           "zerolinecolor": "white",
           "zerolinewidth": 2
          },
          "yaxis": {
           "automargin": true,
           "gridcolor": "white",
           "linecolor": "white",
           "ticks": "",
           "title": {
            "standoff": 15
           },
           "zerolinecolor": "white",
           "zerolinewidth": 2
          }
         }
        },
        "title": {
         "text": "Distribution of texture_mean<br>Relation between texture_mean and diagnosis"
        },
        "xaxis": {
         "anchor": "y",
         "domain": [
          0,
          1
         ],
         "title": {
          "text": "texture_mean"
         }
        },
        "yaxis": {
         "anchor": "x",
         "domain": [
          0,
          1
         ],
         "title": {
          "text": "count"
         }
        }
       }
      }
     },
     "metadata": {},
     "output_type": "display_data"
    },
    {
     "data": {
      "application/vnd.plotly.v1+json": {
       "config": {
        "plotlyServerURL": "https://plot.ly"
       },
       "data": [
        {
         "alignmentgroup": "True",
         "bingroup": "x",
         "hovertemplate": "diagnosis=M<br>perimeter_mean=%{x}<br>count=%{y}<extra></extra>",
         "legendgroup": "M",
         "marker": {
          "color": "#636efa",
          "pattern": {
           "shape": ""
          }
         },
         "name": "M",
         "nbinsx": 50,
         "offsetgroup": "M",
         "orientation": "v",
         "showlegend": true,
         "type": "histogram",
         "x": [
          122.8,
          132.9,
          130,
          77.58,
          135.1,
          82.57,
          119.6,
          90.2,
          87.5,
          83.97,
          102.7,
          103.6,
          132.4,
          103.7,
          93.6,
          96.73,
          94.74,
          108.1,
          130,
          102.5,
          137.2,
          110,
          116,
          97.41,
          122.1,
          102.4,
          115,
          124.8,
          77.93,
          112.8,
          127.9,
          107,
          110.1,
          93.63,
          95.54,
          88.4,
          86.18,
          71.9,
          128.3,
          87.32,
          85.42,
          123.7,
          85.98,
          120.3,
          97.26,
          125.5,
          95.55,
          96.42,
          82.69,
          97.4,
          123.6,
          114.2,
          90.43,
          104.1,
          120.2,
          143.7,
          171.5,
          129.1,
          121.1,
          94.25,
          122,
          100.2,
          100.3,
          132.4,
          94.48,
          88.05,
          87.21,
          152.8,
          98.64,
          105.7,
          114.2,
          121.4,
          166.2,
          87.76,
          123.4,
          130.4,
          101.7,
          106.2,
          120.2,
          81.72,
          96.85,
          105.1,
          78.99,
          117.4,
          126.3,
          130.7,
          152.1,
          109.3,
          116.1,
          85.84,
          102.5,
          109.3,
          182.1,
          142.7,
          101.2,
          98.92,
          118.6,
          94.37,
          81.15,
          100.4,
          90.63,
          117.4,
          127.5,
          94.49,
          115.1,
          158.9,
          91.56,
          98.78,
          109.7,
          134.7,
          188.5,
          114.5,
          92.87,
          90.96,
          129.7,
          128,
          102.6,
          85.26,
          113.4,
          134.4,
          153.5,
          132.5,
          113.4,
          129.1,
          138.9,
          130.7,
          113,
          126.5,
          91.43,
          133.6,
          103.2,
          110.2,
          103.7,
          132.9,
          111,
          114.4,
          100,
          111.6,
          135.7,
          147.3,
          115.2,
          120.9,
          126.2,
          127.2,
          108.8,
          75,
          129.5,
          134.7,
          118.7,
          131.1,
          135.9,
          106.9,
          107.5,
          105.8,
          111.8,
          122.9,
          155.1,
          129.9,
          107.1,
          174.2,
          98,
          133.8,
          133.7,
          140.9,
          147.2,
          109,
          141.3,
          134.8,
          73.3,
          93.97,
          128.9,
          102.4,
          144.4,
          124.4,
          117.8,
          96.71,
          102.9,
          102.1,
          133.8,
          123.7,
          91.12,
          112.4,
          117.5,
          117.3,
          138.1,
          127.7,
          111.2,
          186.9,
          119,
          109.8,
          128.1,
          107.1,
          118.4,
          121.3,
          137.8,
          92.33,
          152.1,
          103.8,
          88.64,
          97.26,
          120.8,
          130.5,
          165.5,
          134.7,
          137.8,
          93.77,
          103.4,
          143,
          142,
          131.2,
          108.3,
          140.1
         ],
         "xaxis": "x",
         "yaxis": "y"
        },
        {
         "alignmentgroup": "True",
         "bingroup": "x",
         "hovertemplate": "diagnosis=B<br>perimeter_mean=%{x}<br>count=%{y}<extra></extra>",
         "legendgroup": "B",
         "marker": {
          "color": "#EF553B",
          "pattern": {
           "shape": ""
          }
         },
         "name": "B",
         "nbinsx": 50,
         "offsetgroup": "B",
         "orientation": "v",
         "showlegend": true,
         "type": "histogram",
         "x": [
          87.46,
          85.63,
          60.34,
          82.61,
          51.71,
          78.04,
          86.91,
          74.72,
          87.21,
          75.71,
          73.34,
          82.61,
          54.34,
          64.55,
          54.66,
          59.2,
          60.11,
          71.8,
          58.79,
          81.37,
          58.79,
          79.19,
          87.91,
          83.19,
          73.81,
          86.49,
          76.95,
          79.78,
          95.77,
          94.57,
          84.74,
          86.6,
          77.79,
          62.11,
          74.34,
          43.79,
          77.22,
          63.95,
          67.41,
          75.17,
          79.01,
          72.48,
          62.5,
          82.15,
          97.83,
          68.64,
          55.84,
          76.53,
          58.74,
          73.34,
          94.28,
          86.1,
          88.44,
          99.58,
          79.08,
          102,
          74.72,
          73.06,
          73,
          61.24,
          73.66,
          83.74,
          68.26,
          78.11,
          97.84,
          93.97,
          88.12,
          83.51,
          53.27,
          63.78,
          70.87,
          85.31,
          78.27,
          108.4,
          76.84,
          68.69,
          76.1,
          79.85,
          95.5,
          68.77,
          96.22,
          78.85,
          70.21,
          67.49,
          54.42,
          64.6,
          82.01,
          81.29,
          73.53,
          63.76,
          74.68,
          75.27,
          78.83,
          82.02,
          60.73,
          82.53,
          78.54,
          81.09,
          62.92,
          87.02,
          98.17,
          75.51,
          77.32,
          65.05,
          87.88,
          88.59,
          65.12,
          84.55,
          92.51,
          66.62,
          97.45,
          81.35,
          71.76,
          70.79,
          60.21,
          89.79,
          92.55,
          87.38,
          78.61,
          73.93,
          88.54,
          66.72,
          84.13,
          84.95,
          68.01,
          73.87,
          73.28,
          69.28,
          87.16,
          82.38,
          69.5,
          90.3,
          72.23,
          61.5,
          76.2,
          71.79,
          86.24,
          88.99,
          74.24,
          84.08,
          79.83,
          77.87,
          81.89,
          73.72,
          72.17,
          96.03,
          97.03,
          83.14,
          75.54,
          81.78,
          88.06,
          69.14,
          91.22,
          66.85,
          80.43,
          66.86,
          73.59,
          74.23,
          84.07,
          56.36,
          85.69,
          82.71,
          74.33,
          92.68,
          82.29,
          73.73,
          54.09,
          79.19,
          77.25,
          60.07,
          78.6,
          66.52,
          82.82,
          78.01,
          81.25,
          90.03,
          76.09,
          84.52,
          71.94,
          71.38,
          77.88,
          84.08,
          64.41,
          94.15,
          61.64,
          71.49,
          75.03,
          66.2,
          76.66,
          94.87,
          73.02,
          77.23,
          73.7,
          71.24,
          81.92,
          85.09,
          88.52,
          56.74,
          59.82,
          79.42,
          85.24,
          81.87,
          106.6,
          85.48,
          78.31,
          97.65,
          87.84,
          106.3,
          70.15,
          85.89,
          88.27,
          73.16,
          70.67,
          78.75,
          80.64,
          85.79,
          78.78,
          88.37,
          73.38,
          65.75,
          55.27,
          78.07,
          89.75,
          88.1,
          83.05,
          70.31,
          75.26,
          76.14,
          84.18,
          83.18,
          78.29,
          70.39,
          104.3,
          82.63,
          78.41,
          72.49,
          70.92,
          59.75,
          97.53,
          76.39,
          59.6,
          80.88,
          70.95,
          74.2,
          98.22,
          75.46,
          89.46,
          61.93,
          63.19,
          67.49,
          68.79,
          70.47,
          80.98,
          81.47,
          94.89,
          82.67,
          89.78,
          88.68,
          89.59,
          71.73,
          88.37,
          66.82,
          77.61,
          95.88,
          94.25,
          76.83,
          76.77,
          93.86,
          80.62,
          86.34,
          74.87,
          84.1,
          82.61,
          61.68,
          92.25,
          73.88,
          84.28,
          86.87,
          85.98,
          61.06,
          76.38,
          61.49,
          76.85,
          96.45,
          77.42,
          70.41,
          82.89,
          92.41,
          88.97,
          73.99,
          78.29,
          88.73,
          87.32,
          87.76,
          102.8,
          82.85,
          94.21,
          75.49,
          78.18,
          114.6,
          78.83,
          84.06,
          96.12,
          82.69,
          80.45,
          98.73,
          81.25,
          61.49,
          64.12,
          79.47,
          71.25,
          104.7,
          76.31,
          94.66,
          94.29,
          72.76,
          84.45,
          82.51,
          59.96,
          71.3,
          88.73,
          63,
          54.53,
          87.44,
          78.94,
          90.31,
          77.83,
          75.89,
          75.21,
          87.76,
          70.79,
          76.37,
          47.98,
          48.34,
          74.65,
          95.81,
          94.7,
          84.88,
          89.77,
          87.19,
          65.31,
          65.85,
          61.05,
          68.89,
          68.51,
          71.49,
          81.35,
          59.01,
          82.5,
          65.67,
          64.73,
          59.26,
          96.39,
          74.52,
          91.38,
          70.67,
          47.92
         ],
         "xaxis": "x",
         "yaxis": "y"
        }
       ],
       "layout": {
        "bargap": 0.15,
        "barmode": "relative",
        "legend": {
         "title": {
          "text": "diagnosis"
         },
         "tracegroupgap": 0
        },
        "template": {
         "data": {
          "bar": [
           {
            "error_x": {
             "color": "#2a3f5f"
            },
            "error_y": {
             "color": "#2a3f5f"
            },
            "marker": {
             "line": {
              "color": "#E5ECF6",
              "width": 0.5
             },
             "pattern": {
              "fillmode": "overlay",
              "size": 10,
              "solidity": 0.2
             }
            },
            "type": "bar"
           }
          ],
          "barpolar": [
           {
            "marker": {
             "line": {
              "color": "#E5ECF6",
              "width": 0.5
             },
             "pattern": {
              "fillmode": "overlay",
              "size": 10,
              "solidity": 0.2
             }
            },
            "type": "barpolar"
           }
          ],
          "carpet": [
           {
            "aaxis": {
             "endlinecolor": "#2a3f5f",
             "gridcolor": "white",
             "linecolor": "white",
             "minorgridcolor": "white",
             "startlinecolor": "#2a3f5f"
            },
            "baxis": {
             "endlinecolor": "#2a3f5f",
             "gridcolor": "white",
             "linecolor": "white",
             "minorgridcolor": "white",
             "startlinecolor": "#2a3f5f"
            },
            "type": "carpet"
           }
          ],
          "choropleth": [
           {
            "colorbar": {
             "outlinewidth": 0,
             "ticks": ""
            },
            "type": "choropleth"
           }
          ],
          "contour": [
           {
            "colorbar": {
             "outlinewidth": 0,
             "ticks": ""
            },
            "colorscale": [
             [
              0,
              "#0d0887"
             ],
             [
              0.1111111111111111,
              "#46039f"
             ],
             [
              0.2222222222222222,
              "#7201a8"
             ],
             [
              0.3333333333333333,
              "#9c179e"
             ],
             [
              0.4444444444444444,
              "#bd3786"
             ],
             [
              0.5555555555555556,
              "#d8576b"
             ],
             [
              0.6666666666666666,
              "#ed7953"
             ],
             [
              0.7777777777777778,
              "#fb9f3a"
             ],
             [
              0.8888888888888888,
              "#fdca26"
             ],
             [
              1,
              "#f0f921"
             ]
            ],
            "type": "contour"
           }
          ],
          "contourcarpet": [
           {
            "colorbar": {
             "outlinewidth": 0,
             "ticks": ""
            },
            "type": "contourcarpet"
           }
          ],
          "heatmap": [
           {
            "colorbar": {
             "outlinewidth": 0,
             "ticks": ""
            },
            "colorscale": [
             [
              0,
              "#0d0887"
             ],
             [
              0.1111111111111111,
              "#46039f"
             ],
             [
              0.2222222222222222,
              "#7201a8"
             ],
             [
              0.3333333333333333,
              "#9c179e"
             ],
             [
              0.4444444444444444,
              "#bd3786"
             ],
             [
              0.5555555555555556,
              "#d8576b"
             ],
             [
              0.6666666666666666,
              "#ed7953"
             ],
             [
              0.7777777777777778,
              "#fb9f3a"
             ],
             [
              0.8888888888888888,
              "#fdca26"
             ],
             [
              1,
              "#f0f921"
             ]
            ],
            "type": "heatmap"
           }
          ],
          "heatmapgl": [
           {
            "colorbar": {
             "outlinewidth": 0,
             "ticks": ""
            },
            "colorscale": [
             [
              0,
              "#0d0887"
             ],
             [
              0.1111111111111111,
              "#46039f"
             ],
             [
              0.2222222222222222,
              "#7201a8"
             ],
             [
              0.3333333333333333,
              "#9c179e"
             ],
             [
              0.4444444444444444,
              "#bd3786"
             ],
             [
              0.5555555555555556,
              "#d8576b"
             ],
             [
              0.6666666666666666,
              "#ed7953"
             ],
             [
              0.7777777777777778,
              "#fb9f3a"
             ],
             [
              0.8888888888888888,
              "#fdca26"
             ],
             [
              1,
              "#f0f921"
             ]
            ],
            "type": "heatmapgl"
           }
          ],
          "histogram": [
           {
            "marker": {
             "pattern": {
              "fillmode": "overlay",
              "size": 10,
              "solidity": 0.2
             }
            },
            "type": "histogram"
           }
          ],
          "histogram2d": [
           {
            "colorbar": {
             "outlinewidth": 0,
             "ticks": ""
            },
            "colorscale": [
             [
              0,
              "#0d0887"
             ],
             [
              0.1111111111111111,
              "#46039f"
             ],
             [
              0.2222222222222222,
              "#7201a8"
             ],
             [
              0.3333333333333333,
              "#9c179e"
             ],
             [
              0.4444444444444444,
              "#bd3786"
             ],
             [
              0.5555555555555556,
              "#d8576b"
             ],
             [
              0.6666666666666666,
              "#ed7953"
             ],
             [
              0.7777777777777778,
              "#fb9f3a"
             ],
             [
              0.8888888888888888,
              "#fdca26"
             ],
             [
              1,
              "#f0f921"
             ]
            ],
            "type": "histogram2d"
           }
          ],
          "histogram2dcontour": [
           {
            "colorbar": {
             "outlinewidth": 0,
             "ticks": ""
            },
            "colorscale": [
             [
              0,
              "#0d0887"
             ],
             [
              0.1111111111111111,
              "#46039f"
             ],
             [
              0.2222222222222222,
              "#7201a8"
             ],
             [
              0.3333333333333333,
              "#9c179e"
             ],
             [
              0.4444444444444444,
              "#bd3786"
             ],
             [
              0.5555555555555556,
              "#d8576b"
             ],
             [
              0.6666666666666666,
              "#ed7953"
             ],
             [
              0.7777777777777778,
              "#fb9f3a"
             ],
             [
              0.8888888888888888,
              "#fdca26"
             ],
             [
              1,
              "#f0f921"
             ]
            ],
            "type": "histogram2dcontour"
           }
          ],
          "mesh3d": [
           {
            "colorbar": {
             "outlinewidth": 0,
             "ticks": ""
            },
            "type": "mesh3d"
           }
          ],
          "parcoords": [
           {
            "line": {
             "colorbar": {
              "outlinewidth": 0,
              "ticks": ""
             }
            },
            "type": "parcoords"
           }
          ],
          "pie": [
           {
            "automargin": true,
            "type": "pie"
           }
          ],
          "scatter": [
           {
            "fillpattern": {
             "fillmode": "overlay",
             "size": 10,
             "solidity": 0.2
            },
            "type": "scatter"
           }
          ],
          "scatter3d": [
           {
            "line": {
             "colorbar": {
              "outlinewidth": 0,
              "ticks": ""
             }
            },
            "marker": {
             "colorbar": {
              "outlinewidth": 0,
              "ticks": ""
             }
            },
            "type": "scatter3d"
           }
          ],
          "scattercarpet": [
           {
            "marker": {
             "colorbar": {
              "outlinewidth": 0,
              "ticks": ""
             }
            },
            "type": "scattercarpet"
           }
          ],
          "scattergeo": [
           {
            "marker": {
             "colorbar": {
              "outlinewidth": 0,
              "ticks": ""
             }
            },
            "type": "scattergeo"
           }
          ],
          "scattergl": [
           {
            "marker": {
             "colorbar": {
              "outlinewidth": 0,
              "ticks": ""
             }
            },
            "type": "scattergl"
           }
          ],
          "scattermapbox": [
           {
            "marker": {
             "colorbar": {
              "outlinewidth": 0,
              "ticks": ""
             }
            },
            "type": "scattermapbox"
           }
          ],
          "scatterpolar": [
           {
            "marker": {
             "colorbar": {
              "outlinewidth": 0,
              "ticks": ""
             }
            },
            "type": "scatterpolar"
           }
          ],
          "scatterpolargl": [
           {
            "marker": {
             "colorbar": {
              "outlinewidth": 0,
              "ticks": ""
             }
            },
            "type": "scatterpolargl"
           }
          ],
          "scatterternary": [
           {
            "marker": {
             "colorbar": {
              "outlinewidth": 0,
              "ticks": ""
             }
            },
            "type": "scatterternary"
           }
          ],
          "surface": [
           {
            "colorbar": {
             "outlinewidth": 0,
             "ticks": ""
            },
            "colorscale": [
             [
              0,
              "#0d0887"
             ],
             [
              0.1111111111111111,
              "#46039f"
             ],
             [
              0.2222222222222222,
              "#7201a8"
             ],
             [
              0.3333333333333333,
              "#9c179e"
             ],
             [
              0.4444444444444444,
              "#bd3786"
             ],
             [
              0.5555555555555556,
              "#d8576b"
             ],
             [
              0.6666666666666666,
              "#ed7953"
             ],
             [
              0.7777777777777778,
              "#fb9f3a"
             ],
             [
              0.8888888888888888,
              "#fdca26"
             ],
             [
              1,
              "#f0f921"
             ]
            ],
            "type": "surface"
           }
          ],
          "table": [
           {
            "cells": {
             "fill": {
              "color": "#EBF0F8"
             },
             "line": {
              "color": "white"
             }
            },
            "header": {
             "fill": {
              "color": "#C8D4E3"
             },
             "line": {
              "color": "white"
             }
            },
            "type": "table"
           }
          ]
         },
         "layout": {
          "annotationdefaults": {
           "arrowcolor": "#2a3f5f",
           "arrowhead": 0,
           "arrowwidth": 1
          },
          "autotypenumbers": "strict",
          "coloraxis": {
           "colorbar": {
            "outlinewidth": 0,
            "ticks": ""
           }
          },
          "colorscale": {
           "diverging": [
            [
             0,
             "#8e0152"
            ],
            [
             0.1,
             "#c51b7d"
            ],
            [
             0.2,
             "#de77ae"
            ],
            [
             0.3,
             "#f1b6da"
            ],
            [
             0.4,
             "#fde0ef"
            ],
            [
             0.5,
             "#f7f7f7"
            ],
            [
             0.6,
             "#e6f5d0"
            ],
            [
             0.7,
             "#b8e186"
            ],
            [
             0.8,
             "#7fbc41"
            ],
            [
             0.9,
             "#4d9221"
            ],
            [
             1,
             "#276419"
            ]
           ],
           "sequential": [
            [
             0,
             "#0d0887"
            ],
            [
             0.1111111111111111,
             "#46039f"
            ],
            [
             0.2222222222222222,
             "#7201a8"
            ],
            [
             0.3333333333333333,
             "#9c179e"
            ],
            [
             0.4444444444444444,
             "#bd3786"
            ],
            [
             0.5555555555555556,
             "#d8576b"
            ],
            [
             0.6666666666666666,
             "#ed7953"
            ],
            [
             0.7777777777777778,
             "#fb9f3a"
            ],
            [
             0.8888888888888888,
             "#fdca26"
            ],
            [
             1,
             "#f0f921"
            ]
           ],
           "sequentialminus": [
            [
             0,
             "#0d0887"
            ],
            [
             0.1111111111111111,
             "#46039f"
            ],
            [
             0.2222222222222222,
             "#7201a8"
            ],
            [
             0.3333333333333333,
             "#9c179e"
            ],
            [
             0.4444444444444444,
             "#bd3786"
            ],
            [
             0.5555555555555556,
             "#d8576b"
            ],
            [
             0.6666666666666666,
             "#ed7953"
            ],
            [
             0.7777777777777778,
             "#fb9f3a"
            ],
            [
             0.8888888888888888,
             "#fdca26"
            ],
            [
             1,
             "#f0f921"
            ]
           ]
          },
          "colorway": [
           "#636efa",
           "#EF553B",
           "#00cc96",
           "#ab63fa",
           "#FFA15A",
           "#19d3f3",
           "#FF6692",
           "#B6E880",
           "#FF97FF",
           "#FECB52"
          ],
          "font": {
           "color": "#2a3f5f"
          },
          "geo": {
           "bgcolor": "white",
           "lakecolor": "white",
           "landcolor": "#E5ECF6",
           "showlakes": true,
           "showland": true,
           "subunitcolor": "white"
          },
          "hoverlabel": {
           "align": "left"
          },
          "hovermode": "closest",
          "mapbox": {
           "style": "light"
          },
          "paper_bgcolor": "white",
          "plot_bgcolor": "#E5ECF6",
          "polar": {
           "angularaxis": {
            "gridcolor": "white",
            "linecolor": "white",
            "ticks": ""
           },
           "bgcolor": "#E5ECF6",
           "radialaxis": {
            "gridcolor": "white",
            "linecolor": "white",
            "ticks": ""
           }
          },
          "scene": {
           "xaxis": {
            "backgroundcolor": "#E5ECF6",
            "gridcolor": "white",
            "gridwidth": 2,
            "linecolor": "white",
            "showbackground": true,
            "ticks": "",
            "zerolinecolor": "white"
           },
           "yaxis": {
            "backgroundcolor": "#E5ECF6",
            "gridcolor": "white",
            "gridwidth": 2,
            "linecolor": "white",
            "showbackground": true,
            "ticks": "",
            "zerolinecolor": "white"
           },
           "zaxis": {
            "backgroundcolor": "#E5ECF6",
            "gridcolor": "white",
            "gridwidth": 2,
            "linecolor": "white",
            "showbackground": true,
            "ticks": "",
            "zerolinecolor": "white"
           }
          },
          "shapedefaults": {
           "line": {
            "color": "#2a3f5f"
           }
          },
          "ternary": {
           "aaxis": {
            "gridcolor": "white",
            "linecolor": "white",
            "ticks": ""
           },
           "baxis": {
            "gridcolor": "white",
            "linecolor": "white",
            "ticks": ""
           },
           "bgcolor": "#E5ECF6",
           "caxis": {
            "gridcolor": "white",
            "linecolor": "white",
            "ticks": ""
           }
          },
          "title": {
           "x": 0.05
          },
          "xaxis": {
           "automargin": true,
           "gridcolor": "white",
           "linecolor": "white",
           "ticks": "",
           "title": {
            "standoff": 15
           },
           "zerolinecolor": "white",
           "zerolinewidth": 2
          },
          "yaxis": {
           "automargin": true,
           "gridcolor": "white",
           "linecolor": "white",
           "ticks": "",
           "title": {
            "standoff": 15
           },
           "zerolinecolor": "white",
           "zerolinewidth": 2
          }
         }
        },
        "title": {
         "text": "Distribution of perimeter_mean<br>Relation between perimeter_mean and diagnosis"
        },
        "xaxis": {
         "anchor": "y",
         "domain": [
          0,
          1
         ],
         "title": {
          "text": "perimeter_mean"
         }
        },
        "yaxis": {
         "anchor": "x",
         "domain": [
          0,
          1
         ],
         "title": {
          "text": "count"
         }
        }
       }
      }
     },
     "metadata": {},
     "output_type": "display_data"
    },
    {
     "data": {
      "application/vnd.plotly.v1+json": {
       "config": {
        "plotlyServerURL": "https://plot.ly"
       },
       "data": [
        {
         "alignmentgroup": "True",
         "bingroup": "x",
         "hovertemplate": "diagnosis=M<br>area_mean=%{x}<br>count=%{y}<extra></extra>",
         "legendgroup": "M",
         "marker": {
          "color": "#636efa",
          "pattern": {
           "shape": ""
          }
         },
         "name": "M",
         "nbinsx": 50,
         "offsetgroup": "M",
         "orientation": "v",
         "showlegend": true,
         "type": "histogram",
         "x": [
          1001,
          1326,
          1203,
          386.1,
          1297,
          477.1,
          1040,
          577.9,
          519.8,
          475.9,
          797.8,
          781,
          1123,
          782.7,
          578.3,
          658.8,
          684.5,
          798.8,
          1260,
          704.4,
          1404,
          904.6,
          912.7,
          644.8,
          1094,
          732.4,
          955.1,
          1088,
          440.6,
          899.3,
          1162,
          807.2,
          869.5,
          633,
          698.8,
          559.2,
          563,
          371.1,
          1104,
          545.2,
          531.5,
          1076,
          534.6,
          1033,
          712.8,
          1152,
          656.9,
          645.7,
          499,
          668.3,
          1130,
          929.4,
          584.1,
          817.7,
          1006,
          1245,
          1878,
          1132,
          1075,
          648.2,
          1076,
          728.2,
          705.6,
          1264,
          642.5,
          582.7,
          530.2,
          1509,
          682.5,
          782.6,
          982,
          1077,
          1761,
          572.6,
          1138,
          1192,
          748.9,
          809.8,
          1075,
          506.3,
          678.1,
          813,
          432,
          963.7,
          1157,
          1214,
          1686,
          886.3,
          984.6,
          565.4,
          736.9,
          832.9,
          2250,
          1311,
          766.6,
          710.6,
          1041,
          609.9,
          477.4,
          671.4,
          588.9,
          1024,
          1148,
          642.7,
          951.6,
          1685,
          597.8,
          716.6,
          904.3,
          1290,
          2499,
          948,
          610.7,
          578.9,
          1230,
          1223,
          761.3,
          503.2,
          895,
          1319,
          1670,
          1306,
          920.6,
          1155,
          1364,
          1206,
          928.2,
          1169,
          602.4,
          1207,
          713.3,
          773.5,
          744.9,
          1288,
          933.1,
          947.8,
          758.6,
          928.3,
          1419,
          1491,
          998.9,
          1102,
          1138,
          1145,
          805.1,
          431.1,
          1217,
          1247,
          1027,
          1274,
          1264,
          813.7,
          826.8,
          793.2,
          918.6,
          1092,
          1747,
          1194,
          758.6,
          2010,
          716.6,
          1293,
          1234,
          1546,
          1482,
          840.4,
          1386,
          1335,
          361.6,
          664.7,
          1174,
          744.7,
          1407,
          994,
          991.7,
          719.5,
          803.1,
          685,
          1250,
          1110,
          599.5,
          928.8,
          990,
          981.6,
          1384,
          1191,
          930.9,
          2501,
          980.5,
          815.8,
          1167,
          857.6,
          1007,
          1068,
          1320,
          595.9,
          1682,
          731.3,
          556.7,
          701.9,
          1052,
          1214,
          1841,
          1299,
          1308,
          629.8,
          716.9,
          1347,
          1479,
          1261,
          858.1,
          1265
         ],
         "xaxis": "x",
         "yaxis": "y"
        },
        {
         "alignmentgroup": "True",
         "bingroup": "x",
         "hovertemplate": "diagnosis=B<br>area_mean=%{x}<br>count=%{y}<extra></extra>",
         "legendgroup": "B",
         "marker": {
          "color": "#EF553B",
          "pattern": {
           "shape": ""
          }
         },
         "name": "B",
         "nbinsx": 50,
         "offsetgroup": "B",
         "orientation": "v",
         "showlegend": true,
         "type": "histogram",
         "x": [
          566.3,
          520,
          273.9,
          523.8,
          201.9,
          449.3,
          561,
          427.9,
          571.8,
          437.6,
          409,
          527.2,
          224.5,
          311.9,
          221.8,
          260.9,
          269.4,
          394.1,
          250.5,
          502.5,
          244,
          470.9,
          559.2,
          506.3,
          401.5,
          520,
          443.3,
          466.1,
          651.9,
          662.7,
          551.7,
          555.1,
          451.1,
          294.5,
          412.6,
          143.5,
          458.7,
          298.3,
          336.1,
          412.5,
          466.7,
          396.5,
          290.2,
          480.4,
          629.9,
          334.2,
          230.9,
          438.6,
          245.2,
          403.3,
          640.7,
          553.5,
          588.7,
          674.5,
          455.8,
          761.7,
          423.6,
          399.8,
          384.8,
          288.5,
          398,
          512.2,
          355.3,
          432.8,
          689.5,
          640.1,
          585,
          519.4,
          203.9,
          300.2,
          381.9,
          538.9,
          460.3,
          880.2,
          448.6,
          366.8,
          419.8,
          464.5,
          690.2,
          357.6,
          685.9,
          464.1,
          372.7,
          349.6,
          227.2,
          302.4,
          526.4,
          508.8,
          402,
          317.5,
          420.3,
          428.9,
          463.7,
          507.4,
          288.1,
          516.4,
          461,
          481.9,
          295.4,
          529.4,
          725.5,
          428,
          432.2,
          321.2,
          568.9,
          561.3,
          313.1,
          546.4,
          641.2,
          329.6,
          684.5,
          496.4,
          395.7,
          386.8,
          279.6,
          603.4,
          623.9,
          575.3,
          476.5,
          389.4,
          590,
          337.7,
          541.6,
          512.2,
          347,
          406.3,
          407.4,
          346.4,
          561,
          512.2,
          344.9,
          632.6,
          388,
          289.9,
          435.6,
          396.6,
          572.3,
          587.4,
          427.3,
          516.6,
          489,
          441,
          515.9,
          394.1,
          396,
          651,
          687.3,
          513.7,
          432.7,
          492.1,
          582.7,
          363.7,
          633.1,
          334.2,
          471.3,
          334.3,
          403.1,
          417.2,
          537.3,
          246.3,
          566.2,
          530.6,
          418.7,
          664.9,
          504.1,
          409.1,
          221.2,
          481.6,
          461.4,
          244.5,
          477.3,
          324.2,
          504.8,
          457.9,
          489.9,
          616.5,
          446,
          514,
          387.3,
          390,
          464.4,
          514.3,
          310.8,
          641.2,
          280.5,
          373.9,
          420.3,
          321.6,
          445.3,
          668.7,
          402.7,
          426.7,
          421,
          384.6,
          485.8,
          512,
          593.7,
          241,
          278.6,
          491.9,
          546.1,
          496.6,
          838.1,
          552.4,
          458.4,
          711.8,
          579.1,
          788.5,
          338.3,
          562.1,
          580.6,
          386.3,
          372.7,
          447.8,
          462.9,
          541.8,
          462,
          596.6,
          392,
          321.6,
          234.3,
          446.2,
          609.1,
          558.1,
          508.3,
          378.2,
          431.9,
          442.7,
          525.2,
          507.6,
          469.1,
          370,
          800,
          514.5,
          466.1,
          399.8,
          373.2,
          268.8,
          693.7,
          433.8,
          271.2,
          495,
          380.3,
          409.7,
          656.1,
          408.2,
          575.3,
          289.7,
          307.3,
          333.6,
          359.9,
          381.1,
          501.3,
          467.8,
          673.7,
          509.2,
          611.2,
          592.6,
          606.5,
          371.5,
          585.9,
          340.9,
          441.3,
          674.8,
          659.7,
          432,
          442.5,
          644.2,
          492.9,
          557.2,
          415.1,
          537.9,
          520.2,
          290.9,
          646.1,
          412.7,
          537.3,
          542.9,
          536.9,
          286.3,
          408.8,
          289.1,
          449.9,
          686.9,
          465.4,
          358.9,
          506.9,
          618.4,
          599.4,
          404.9,
          455.3,
          602.9,
          546.3,
          571.1,
          747.2,
          476.7,
          666,
          420.5,
          466.5,
          992.1,
          477.3,
          538.7,
          680.9,
          485.6,
          480.1,
          689.4,
          476.3,
          248.7,
          272.5,
          453.1,
          366.5,
          819.8,
          426,
          680.7,
          658.8,
          391.2,
          493.1,
          493.8,
          257.8,
          388.1,
          571,
          293.2,
          221.3,
          551.1,
          468.5,
          594.2,
          445.2,
          422.9,
          416.2,
          575.5,
          365.6,
          406.4,
          178.8,
          170.4,
          402.9,
          656.4,
          668.6,
          538.4,
          584.8,
          573.2,
          324.9,
          320.8,
          285.7,
          361.6,
          360.5,
          378.4,
          507.9,
          264,
          514.3,
          321.4,
          311.7,
          271.3,
          657.1,
          403.5,
          600.4,
          386,
          181
         ],
         "xaxis": "x",
         "yaxis": "y"
        }
       ],
       "layout": {
        "bargap": 0.15,
        "barmode": "relative",
        "legend": {
         "title": {
          "text": "diagnosis"
         },
         "tracegroupgap": 0
        },
        "template": {
         "data": {
          "bar": [
           {
            "error_x": {
             "color": "#2a3f5f"
            },
            "error_y": {
             "color": "#2a3f5f"
            },
            "marker": {
             "line": {
              "color": "#E5ECF6",
              "width": 0.5
             },
             "pattern": {
              "fillmode": "overlay",
              "size": 10,
              "solidity": 0.2
             }
            },
            "type": "bar"
           }
          ],
          "barpolar": [
           {
            "marker": {
             "line": {
              "color": "#E5ECF6",
              "width": 0.5
             },
             "pattern": {
              "fillmode": "overlay",
              "size": 10,
              "solidity": 0.2
             }
            },
            "type": "barpolar"
           }
          ],
          "carpet": [
           {
            "aaxis": {
             "endlinecolor": "#2a3f5f",
             "gridcolor": "white",
             "linecolor": "white",
             "minorgridcolor": "white",
             "startlinecolor": "#2a3f5f"
            },
            "baxis": {
             "endlinecolor": "#2a3f5f",
             "gridcolor": "white",
             "linecolor": "white",
             "minorgridcolor": "white",
             "startlinecolor": "#2a3f5f"
            },
            "type": "carpet"
           }
          ],
          "choropleth": [
           {
            "colorbar": {
             "outlinewidth": 0,
             "ticks": ""
            },
            "type": "choropleth"
           }
          ],
          "contour": [
           {
            "colorbar": {
             "outlinewidth": 0,
             "ticks": ""
            },
            "colorscale": [
             [
              0,
              "#0d0887"
             ],
             [
              0.1111111111111111,
              "#46039f"
             ],
             [
              0.2222222222222222,
              "#7201a8"
             ],
             [
              0.3333333333333333,
              "#9c179e"
             ],
             [
              0.4444444444444444,
              "#bd3786"
             ],
             [
              0.5555555555555556,
              "#d8576b"
             ],
             [
              0.6666666666666666,
              "#ed7953"
             ],
             [
              0.7777777777777778,
              "#fb9f3a"
             ],
             [
              0.8888888888888888,
              "#fdca26"
             ],
             [
              1,
              "#f0f921"
             ]
            ],
            "type": "contour"
           }
          ],
          "contourcarpet": [
           {
            "colorbar": {
             "outlinewidth": 0,
             "ticks": ""
            },
            "type": "contourcarpet"
           }
          ],
          "heatmap": [
           {
            "colorbar": {
             "outlinewidth": 0,
             "ticks": ""
            },
            "colorscale": [
             [
              0,
              "#0d0887"
             ],
             [
              0.1111111111111111,
              "#46039f"
             ],
             [
              0.2222222222222222,
              "#7201a8"
             ],
             [
              0.3333333333333333,
              "#9c179e"
             ],
             [
              0.4444444444444444,
              "#bd3786"
             ],
             [
              0.5555555555555556,
              "#d8576b"
             ],
             [
              0.6666666666666666,
              "#ed7953"
             ],
             [
              0.7777777777777778,
              "#fb9f3a"
             ],
             [
              0.8888888888888888,
              "#fdca26"
             ],
             [
              1,
              "#f0f921"
             ]
            ],
            "type": "heatmap"
           }
          ],
          "heatmapgl": [
           {
            "colorbar": {
             "outlinewidth": 0,
             "ticks": ""
            },
            "colorscale": [
             [
              0,
              "#0d0887"
             ],
             [
              0.1111111111111111,
              "#46039f"
             ],
             [
              0.2222222222222222,
              "#7201a8"
             ],
             [
              0.3333333333333333,
              "#9c179e"
             ],
             [
              0.4444444444444444,
              "#bd3786"
             ],
             [
              0.5555555555555556,
              "#d8576b"
             ],
             [
              0.6666666666666666,
              "#ed7953"
             ],
             [
              0.7777777777777778,
              "#fb9f3a"
             ],
             [
              0.8888888888888888,
              "#fdca26"
             ],
             [
              1,
              "#f0f921"
             ]
            ],
            "type": "heatmapgl"
           }
          ],
          "histogram": [
           {
            "marker": {
             "pattern": {
              "fillmode": "overlay",
              "size": 10,
              "solidity": 0.2
             }
            },
            "type": "histogram"
           }
          ],
          "histogram2d": [
           {
            "colorbar": {
             "outlinewidth": 0,
             "ticks": ""
            },
            "colorscale": [
             [
              0,
              "#0d0887"
             ],
             [
              0.1111111111111111,
              "#46039f"
             ],
             [
              0.2222222222222222,
              "#7201a8"
             ],
             [
              0.3333333333333333,
              "#9c179e"
             ],
             [
              0.4444444444444444,
              "#bd3786"
             ],
             [
              0.5555555555555556,
              "#d8576b"
             ],
             [
              0.6666666666666666,
              "#ed7953"
             ],
             [
              0.7777777777777778,
              "#fb9f3a"
             ],
             [
              0.8888888888888888,
              "#fdca26"
             ],
             [
              1,
              "#f0f921"
             ]
            ],
            "type": "histogram2d"
           }
          ],
          "histogram2dcontour": [
           {
            "colorbar": {
             "outlinewidth": 0,
             "ticks": ""
            },
            "colorscale": [
             [
              0,
              "#0d0887"
             ],
             [
              0.1111111111111111,
              "#46039f"
             ],
             [
              0.2222222222222222,
              "#7201a8"
             ],
             [
              0.3333333333333333,
              "#9c179e"
             ],
             [
              0.4444444444444444,
              "#bd3786"
             ],
             [
              0.5555555555555556,
              "#d8576b"
             ],
             [
              0.6666666666666666,
              "#ed7953"
             ],
             [
              0.7777777777777778,
              "#fb9f3a"
             ],
             [
              0.8888888888888888,
              "#fdca26"
             ],
             [
              1,
              "#f0f921"
             ]
            ],
            "type": "histogram2dcontour"
           }
          ],
          "mesh3d": [
           {
            "colorbar": {
             "outlinewidth": 0,
             "ticks": ""
            },
            "type": "mesh3d"
           }
          ],
          "parcoords": [
           {
            "line": {
             "colorbar": {
              "outlinewidth": 0,
              "ticks": ""
             }
            },
            "type": "parcoords"
           }
          ],
          "pie": [
           {
            "automargin": true,
            "type": "pie"
           }
          ],
          "scatter": [
           {
            "fillpattern": {
             "fillmode": "overlay",
             "size": 10,
             "solidity": 0.2
            },
            "type": "scatter"
           }
          ],
          "scatter3d": [
           {
            "line": {
             "colorbar": {
              "outlinewidth": 0,
              "ticks": ""
             }
            },
            "marker": {
             "colorbar": {
              "outlinewidth": 0,
              "ticks": ""
             }
            },
            "type": "scatter3d"
           }
          ],
          "scattercarpet": [
           {
            "marker": {
             "colorbar": {
              "outlinewidth": 0,
              "ticks": ""
             }
            },
            "type": "scattercarpet"
           }
          ],
          "scattergeo": [
           {
            "marker": {
             "colorbar": {
              "outlinewidth": 0,
              "ticks": ""
             }
            },
            "type": "scattergeo"
           }
          ],
          "scattergl": [
           {
            "marker": {
             "colorbar": {
              "outlinewidth": 0,
              "ticks": ""
             }
            },
            "type": "scattergl"
           }
          ],
          "scattermapbox": [
           {
            "marker": {
             "colorbar": {
              "outlinewidth": 0,
              "ticks": ""
             }
            },
            "type": "scattermapbox"
           }
          ],
          "scatterpolar": [
           {
            "marker": {
             "colorbar": {
              "outlinewidth": 0,
              "ticks": ""
             }
            },
            "type": "scatterpolar"
           }
          ],
          "scatterpolargl": [
           {
            "marker": {
             "colorbar": {
              "outlinewidth": 0,
              "ticks": ""
             }
            },
            "type": "scatterpolargl"
           }
          ],
          "scatterternary": [
           {
            "marker": {
             "colorbar": {
              "outlinewidth": 0,
              "ticks": ""
             }
            },
            "type": "scatterternary"
           }
          ],
          "surface": [
           {
            "colorbar": {
             "outlinewidth": 0,
             "ticks": ""
            },
            "colorscale": [
             [
              0,
              "#0d0887"
             ],
             [
              0.1111111111111111,
              "#46039f"
             ],
             [
              0.2222222222222222,
              "#7201a8"
             ],
             [
              0.3333333333333333,
              "#9c179e"
             ],
             [
              0.4444444444444444,
              "#bd3786"
             ],
             [
              0.5555555555555556,
              "#d8576b"
             ],
             [
              0.6666666666666666,
              "#ed7953"
             ],
             [
              0.7777777777777778,
              "#fb9f3a"
             ],
             [
              0.8888888888888888,
              "#fdca26"
             ],
             [
              1,
              "#f0f921"
             ]
            ],
            "type": "surface"
           }
          ],
          "table": [
           {
            "cells": {
             "fill": {
              "color": "#EBF0F8"
             },
             "line": {
              "color": "white"
             }
            },
            "header": {
             "fill": {
              "color": "#C8D4E3"
             },
             "line": {
              "color": "white"
             }
            },
            "type": "table"
           }
          ]
         },
         "layout": {
          "annotationdefaults": {
           "arrowcolor": "#2a3f5f",
           "arrowhead": 0,
           "arrowwidth": 1
          },
          "autotypenumbers": "strict",
          "coloraxis": {
           "colorbar": {
            "outlinewidth": 0,
            "ticks": ""
           }
          },
          "colorscale": {
           "diverging": [
            [
             0,
             "#8e0152"
            ],
            [
             0.1,
             "#c51b7d"
            ],
            [
             0.2,
             "#de77ae"
            ],
            [
             0.3,
             "#f1b6da"
            ],
            [
             0.4,
             "#fde0ef"
            ],
            [
             0.5,
             "#f7f7f7"
            ],
            [
             0.6,
             "#e6f5d0"
            ],
            [
             0.7,
             "#b8e186"
            ],
            [
             0.8,
             "#7fbc41"
            ],
            [
             0.9,
             "#4d9221"
            ],
            [
             1,
             "#276419"
            ]
           ],
           "sequential": [
            [
             0,
             "#0d0887"
            ],
            [
             0.1111111111111111,
             "#46039f"
            ],
            [
             0.2222222222222222,
             "#7201a8"
            ],
            [
             0.3333333333333333,
             "#9c179e"
            ],
            [
             0.4444444444444444,
             "#bd3786"
            ],
            [
             0.5555555555555556,
             "#d8576b"
            ],
            [
             0.6666666666666666,
             "#ed7953"
            ],
            [
             0.7777777777777778,
             "#fb9f3a"
            ],
            [
             0.8888888888888888,
             "#fdca26"
            ],
            [
             1,
             "#f0f921"
            ]
           ],
           "sequentialminus": [
            [
             0,
             "#0d0887"
            ],
            [
             0.1111111111111111,
             "#46039f"
            ],
            [
             0.2222222222222222,
             "#7201a8"
            ],
            [
             0.3333333333333333,
             "#9c179e"
            ],
            [
             0.4444444444444444,
             "#bd3786"
            ],
            [
             0.5555555555555556,
             "#d8576b"
            ],
            [
             0.6666666666666666,
             "#ed7953"
            ],
            [
             0.7777777777777778,
             "#fb9f3a"
            ],
            [
             0.8888888888888888,
             "#fdca26"
            ],
            [
             1,
             "#f0f921"
            ]
           ]
          },
          "colorway": [
           "#636efa",
           "#EF553B",
           "#00cc96",
           "#ab63fa",
           "#FFA15A",
           "#19d3f3",
           "#FF6692",
           "#B6E880",
           "#FF97FF",
           "#FECB52"
          ],
          "font": {
           "color": "#2a3f5f"
          },
          "geo": {
           "bgcolor": "white",
           "lakecolor": "white",
           "landcolor": "#E5ECF6",
           "showlakes": true,
           "showland": true,
           "subunitcolor": "white"
          },
          "hoverlabel": {
           "align": "left"
          },
          "hovermode": "closest",
          "mapbox": {
           "style": "light"
          },
          "paper_bgcolor": "white",
          "plot_bgcolor": "#E5ECF6",
          "polar": {
           "angularaxis": {
            "gridcolor": "white",
            "linecolor": "white",
            "ticks": ""
           },
           "bgcolor": "#E5ECF6",
           "radialaxis": {
            "gridcolor": "white",
            "linecolor": "white",
            "ticks": ""
           }
          },
          "scene": {
           "xaxis": {
            "backgroundcolor": "#E5ECF6",
            "gridcolor": "white",
            "gridwidth": 2,
            "linecolor": "white",
            "showbackground": true,
            "ticks": "",
            "zerolinecolor": "white"
           },
           "yaxis": {
            "backgroundcolor": "#E5ECF6",
            "gridcolor": "white",
            "gridwidth": 2,
            "linecolor": "white",
            "showbackground": true,
            "ticks": "",
            "zerolinecolor": "white"
           },
           "zaxis": {
            "backgroundcolor": "#E5ECF6",
            "gridcolor": "white",
            "gridwidth": 2,
            "linecolor": "white",
            "showbackground": true,
            "ticks": "",
            "zerolinecolor": "white"
           }
          },
          "shapedefaults": {
           "line": {
            "color": "#2a3f5f"
           }
          },
          "ternary": {
           "aaxis": {
            "gridcolor": "white",
            "linecolor": "white",
            "ticks": ""
           },
           "baxis": {
            "gridcolor": "white",
            "linecolor": "white",
            "ticks": ""
           },
           "bgcolor": "#E5ECF6",
           "caxis": {
            "gridcolor": "white",
            "linecolor": "white",
            "ticks": ""
           }
          },
          "title": {
           "x": 0.05
          },
          "xaxis": {
           "automargin": true,
           "gridcolor": "white",
           "linecolor": "white",
           "ticks": "",
           "title": {
            "standoff": 15
           },
           "zerolinecolor": "white",
           "zerolinewidth": 2
          },
          "yaxis": {
           "automargin": true,
           "gridcolor": "white",
           "linecolor": "white",
           "ticks": "",
           "title": {
            "standoff": 15
           },
           "zerolinecolor": "white",
           "zerolinewidth": 2
          }
         }
        },
        "title": {
         "text": "Distribution of area_mean<br>Relation between area_mean and diagnosis"
        },
        "xaxis": {
         "anchor": "y",
         "domain": [
          0,
          1
         ],
         "title": {
          "text": "area_mean"
         }
        },
        "yaxis": {
         "anchor": "x",
         "domain": [
          0,
          1
         ],
         "title": {
          "text": "count"
         }
        }
       }
      }
     },
     "metadata": {},
     "output_type": "display_data"
    }
   ],
   "source": [
    "#Let's se histograms of following features: texture_mean, perimeter_mean, area_mean#\n",
    "\n",
    "distribution_check(df.columns[2])\n",
    "distribution_check(df.columns[3])\n",
    "distribution_check(df.columns[4])"
   ]
  },
  {
   "cell_type": "markdown",
   "metadata": {},
   "source": [
    "As we can see from histograms above, with higher values of features it's more likely for diagnosis to be \"Malignant\" and vice-versa. Lower values of features corresponds to diagnosis being \"Benign\".\n",
    "\n",
    "For example: perimeter_worst graeter than 130 almost surely guarantees that diagnosis is going to be \"Malignant\";\n",
    "             concave_points_mean greater than 0.1 almost surely guarantees that diagnosis is going to be \"Malignant;\n",
    "             radius_worst less than 12 almost surely guarantees that diagnosis is going to be \"Benign\".\n",
    "\n",
    "Based on histograms, we can also see that those features have either Gaussian or T distribution."
   ]
  },
  {
   "cell_type": "code",
   "execution_count": 10,
   "metadata": {},
   "outputs": [
    {
     "data": {
      "application/vnd.plotly.v1+json": {
       "config": {
        "plotlyServerURL": "https://plot.ly"
       },
       "data": [
        {
         "alignmentgroup": "True",
         "bingroup": "x",
         "hovertemplate": "diagnosis=M<br>perimeter_se=%{x}<br>count=%{y}<extra></extra>",
         "legendgroup": "M",
         "marker": {
          "color": "#636efa",
          "pattern": {
           "shape": ""
          }
         },
         "name": "M",
         "nbinsx": 50,
         "offsetgroup": "M",
         "orientation": "v",
         "showlegend": true,
         "type": "histogram",
         "x": [
          8.589,
          3.398,
          4.585,
          3.445,
          5.438,
          2.217,
          3.18,
          3.856,
          2.406,
          2.039,
          2.466,
          3.564,
          11.07,
          2.903,
          2.061,
          2.879,
          3.195,
          3.854,
          5.865,
          3.384,
          4.303,
          5.455,
          7.276,
          2.11,
          5.632,
          3.498,
          4.655,
          5.574,
          3.475,
          3.999,
          3.528,
          2.183,
          3.008,
          2.657,
          8.077,
          1.545,
          1.572,
          1.822,
          8.83,
          2.427,
          1.334,
          4.293,
          1.897,
          4.877,
          2.097,
          4.837,
          2.735,
          5.373,
          2.927,
          2.45,
          5.486,
          3.705,
          1.957,
          5.029,
          6.311,
          8.649,
          7.382,
          5.801,
          4.782,
          3.301,
          3.055,
          2.075,
          3.706,
          4.554,
          2.376,
          2.861,
          2.41,
          10.05,
          2.989,
          3.598,
          3.357,
          4.895,
          9.807,
          1.752,
          5.216,
          2.765,
          3.094,
          2.844,
          3.766,
          1.457,
          8.419,
          4.533,
          2.281,
          5.54,
          6.971,
          4.792,
          4.603,
          4.129,
          7.337,
          3.142,
          2.805,
          2.482,
          5.82,
          4.414,
          2.406,
          1.344,
          1.817,
          2.112,
          2.642,
          3.591,
          4.906,
          4.312,
          3.833,
          1.446,
          3.088,
          4.667,
          3.909,
          1.974,
          4.106,
          7.029,
          21.98,
          3.767,
          3.534,
          1.933,
          6.487,
          4.722,
          2.244,
          2.257,
          2.153,
          3.767,
          7.247,
          5.144,
          3.002,
          4.037,
          6.372,
          4.115,
          2.193,
          3.797,
          2.563,
          7.158,
          4.061,
          10.12,
          1.903,
          2.587,
          2.577,
          6.146,
          1.534,
          2.819,
          7.749,
          8.867,
          2.765,
          2.363,
          4.321,
          2.903,
          2.464,
          4.138,
          7.237,
          7.804,
          2.547,
          3.868,
          4.012,
          3.27,
          2.961,
          2.629,
          6.076,
          4.369,
          6.462,
          5.173,
          3.477,
          7.222,
          4.174,
          4.218,
          7.128,
          7.733,
          7.561,
          2.972,
          2.407,
          4.119,
          1.719,
          2.914,
          5.383,
          4.675,
          4.158,
          3.123,
          3.061,
          3.043,
          9.424,
          3.466,
          3.008,
          4.493,
          1.602,
          3.283,
          1.921,
          2.873,
          4.542,
          2.916,
          6.051,
          18.65,
          5.801,
          3.07,
          3.631,
          1.775,
          5.353,
          4.851,
          4.206,
          2.974,
          9.635,
          2.937,
          3.093,
          2.63,
          3.218,
          3.654,
          7.05,
          5.168,
          4.706,
          1.895,
          2.362,
          8.758,
          7.673,
          5.203,
          3.425,
          5.772
         ],
         "xaxis": "x",
         "yaxis": "y"
        },
        {
         "alignmentgroup": "True",
         "bingroup": "x",
         "hovertemplate": "diagnosis=B<br>perimeter_se=%{x}<br>count=%{y}<extra></extra>",
         "legendgroup": "B",
         "marker": {
          "color": "#EF553B",
          "pattern": {
           "shape": ""
          }
         },
         "name": "B",
         "nbinsx": 50,
         "offsetgroup": "B",
         "orientation": "v",
         "showlegend": true,
         "type": "histogram",
         "x": [
          2.058,
          1.383,
          1.909,
          1.17,
          1.094,
          1.848,
          1.735,
          2.635,
          1.449,
          1.52,
          2.183,
          2.595,
          1.046,
          3.312,
          2.493,
          2.608,
          1.66,
          1.831,
          1.885,
          1.471,
          3.168,
          1.74,
          2.652,
          1.778,
          2.077,
          1.535,
          1.441,
          2.203,
          3.814,
          2.279,
          2.701,
          2.099,
          2.41,
          2.132,
          1.475,
          1.553,
          1.183,
          1.528,
          2.302,
          2.155,
          0.8484,
          1.597,
          2.747,
          2.711,
          3.399,
          2.041,
          1.354,
          2,
          3.28,
          1.103,
          1.928,
          1.223,
          1.495,
          2.796,
          1.973,
          1.972,
          3.258,
          1.143,
          1.851,
          1.218,
          1.937,
          1.689,
          1.806,
          3.021,
          3.271,
          2.12,
          1.573,
          2.873,
          1.243,
          4.073,
          1.429,
          1.819,
          1.484,
          3.479,
          1.171,
          1.808,
          3.926,
          1.955,
          1.286,
          1.126,
          1.893,
          1.67,
          1.377,
          2.155,
          1.435,
          3.132,
          1.101,
          1.778,
          1.902,
          2.68,
          1.742,
          1.011,
          1.687,
          5.118,
          2.23,
          1.493,
          2.308,
          2.497,
          1.517,
          1.491,
          1.525,
          1.444,
          2.087,
          2.747,
          1.391,
          2.011,
          1.641,
          2.044,
          3.763,
          1.208,
          2.276,
          1.445,
          1.059,
          1.489,
          1.215,
          1.667,
          2.105,
          1.996,
          0.757,
          2.369,
          2.829,
          2.517,
          0.873,
          2.393,
          1.497,
          1.686,
          2.684,
          3.43,
          2.591,
          1.546,
          2.23,
          0.8439,
          1.164,
          1.75,
          4.021,
          1.565,
          1.683,
          1.83,
          3.717,
          2.347,
          1.721,
          3.198,
          1.115,
          2.877,
          1.954,
          4.36,
          2.171,
          1.231,
          1.234,
          1.34,
          1.479,
          1.267,
          1.661,
          2.289,
          2.579,
          1.035,
          2.475,
          1.961,
          1.204,
          1.144,
          1.509,
          2.567,
          1.109,
          1.954,
          2.346,
          1.107,
          2.222,
          1.047,
          1.438,
          3.769,
          2.487,
          1.597,
          1.614,
          1.959,
          1.566,
          1.558,
          1.466,
          2.465,
          1.959,
          1.529,
          1.199,
          0.9219,
          1.778,
          2.677,
          1.429,
          1.355,
          2.355,
          2.394,
          1.559,
          2.537,
          1.09,
          2.455,
          2.225,
          3.33,
          3.212,
          2.59,
          1.737,
          4.277,
          3.267,
          2.329,
          2.028,
          1.535,
          2.344,
          1.036,
          1.874,
          1.338,
          1.372,
          1.349,
          2.363,
          1.4,
          1.101,
          1.809,
          1.281,
          1.778,
          2.117,
          1.592,
          2.097,
          1.709,
          2.569,
          1.348,
          3.167,
          1.869,
          1.237,
          1.513,
          2.668,
          1.263,
          2.225,
          1.649,
          2.397,
          0.9975,
          2.602,
          3.018,
          1.729,
          2.552,
          2.079,
          1.359,
          1.342,
          1.174,
          2.31,
          1.93,
          2.759,
          1.527,
          1.968,
          2.206,
          4.795,
          1.667,
          1.804,
          4.607,
          1.184,
          2.564,
          2.24,
          0.968,
          2.109,
          2.204,
          1.612,
          2.597,
          2.644,
          2.331,
          1.606,
          2.806,
          2.235,
          1.277,
          1.865,
          1.482,
          1.994,
          1.955,
          1.516,
          2.143,
          1.116,
          2.287,
          2.15,
          1.314,
          1.657,
          1.243,
          1.727,
          1.303,
          1.236,
          3.369,
          2.312,
          2.275,
          3.027,
          2.569,
          4.099,
          1.826,
          2.884,
          1.301,
          1.195,
          2.749,
          1.392,
          1.567,
          1.678,
          2.056,
          1.102,
          1.564,
          1.143,
          5.004,
          1.471,
          2.554,
          1.577,
          3.163,
          2.108,
          2.326,
          1.596,
          1.696,
          1.253,
          2.304,
          1.566,
          3.014,
          1.787,
          0.9857,
          1.318,
          1.146,
          1.345,
          1.677,
          2.561,
          1.491,
          3.176,
          2.495,
          2.388,
          0.9812,
          2.284,
          1.976,
          1.069,
          1.443,
          0.7714,
          4.091,
          1.714,
          3.149,
          1.393,
          1.373,
          1.165,
          2.158,
          2.492,
          1.445,
          1.628,
          2.615,
          2.177,
          1.539,
          2.076,
          2.066,
          1.356,
          0.9887,
          2.054,
          3.564,
          2.115,
          1.994,
          1.477,
          2.121,
          1.502,
          1.437,
          1.648,
          3.618,
          2.224,
          1.936,
          2.888,
          2.041,
          2.548
         ],
         "xaxis": "x",
         "yaxis": "y"
        }
       ],
       "layout": {
        "bargap": 0.15,
        "barmode": "relative",
        "legend": {
         "title": {
          "text": "diagnosis"
         },
         "tracegroupgap": 0
        },
        "template": {
         "data": {
          "bar": [
           {
            "error_x": {
             "color": "#2a3f5f"
            },
            "error_y": {
             "color": "#2a3f5f"
            },
            "marker": {
             "line": {
              "color": "#E5ECF6",
              "width": 0.5
             },
             "pattern": {
              "fillmode": "overlay",
              "size": 10,
              "solidity": 0.2
             }
            },
            "type": "bar"
           }
          ],
          "barpolar": [
           {
            "marker": {
             "line": {
              "color": "#E5ECF6",
              "width": 0.5
             },
             "pattern": {
              "fillmode": "overlay",
              "size": 10,
              "solidity": 0.2
             }
            },
            "type": "barpolar"
           }
          ],
          "carpet": [
           {
            "aaxis": {
             "endlinecolor": "#2a3f5f",
             "gridcolor": "white",
             "linecolor": "white",
             "minorgridcolor": "white",
             "startlinecolor": "#2a3f5f"
            },
            "baxis": {
             "endlinecolor": "#2a3f5f",
             "gridcolor": "white",
             "linecolor": "white",
             "minorgridcolor": "white",
             "startlinecolor": "#2a3f5f"
            },
            "type": "carpet"
           }
          ],
          "choropleth": [
           {
            "colorbar": {
             "outlinewidth": 0,
             "ticks": ""
            },
            "type": "choropleth"
           }
          ],
          "contour": [
           {
            "colorbar": {
             "outlinewidth": 0,
             "ticks": ""
            },
            "colorscale": [
             [
              0,
              "#0d0887"
             ],
             [
              0.1111111111111111,
              "#46039f"
             ],
             [
              0.2222222222222222,
              "#7201a8"
             ],
             [
              0.3333333333333333,
              "#9c179e"
             ],
             [
              0.4444444444444444,
              "#bd3786"
             ],
             [
              0.5555555555555556,
              "#d8576b"
             ],
             [
              0.6666666666666666,
              "#ed7953"
             ],
             [
              0.7777777777777778,
              "#fb9f3a"
             ],
             [
              0.8888888888888888,
              "#fdca26"
             ],
             [
              1,
              "#f0f921"
             ]
            ],
            "type": "contour"
           }
          ],
          "contourcarpet": [
           {
            "colorbar": {
             "outlinewidth": 0,
             "ticks": ""
            },
            "type": "contourcarpet"
           }
          ],
          "heatmap": [
           {
            "colorbar": {
             "outlinewidth": 0,
             "ticks": ""
            },
            "colorscale": [
             [
              0,
              "#0d0887"
             ],
             [
              0.1111111111111111,
              "#46039f"
             ],
             [
              0.2222222222222222,
              "#7201a8"
             ],
             [
              0.3333333333333333,
              "#9c179e"
             ],
             [
              0.4444444444444444,
              "#bd3786"
             ],
             [
              0.5555555555555556,
              "#d8576b"
             ],
             [
              0.6666666666666666,
              "#ed7953"
             ],
             [
              0.7777777777777778,
              "#fb9f3a"
             ],
             [
              0.8888888888888888,
              "#fdca26"
             ],
             [
              1,
              "#f0f921"
             ]
            ],
            "type": "heatmap"
           }
          ],
          "heatmapgl": [
           {
            "colorbar": {
             "outlinewidth": 0,
             "ticks": ""
            },
            "colorscale": [
             [
              0,
              "#0d0887"
             ],
             [
              0.1111111111111111,
              "#46039f"
             ],
             [
              0.2222222222222222,
              "#7201a8"
             ],
             [
              0.3333333333333333,
              "#9c179e"
             ],
             [
              0.4444444444444444,
              "#bd3786"
             ],
             [
              0.5555555555555556,
              "#d8576b"
             ],
             [
              0.6666666666666666,
              "#ed7953"
             ],
             [
              0.7777777777777778,
              "#fb9f3a"
             ],
             [
              0.8888888888888888,
              "#fdca26"
             ],
             [
              1,
              "#f0f921"
             ]
            ],
            "type": "heatmapgl"
           }
          ],
          "histogram": [
           {
            "marker": {
             "pattern": {
              "fillmode": "overlay",
              "size": 10,
              "solidity": 0.2
             }
            },
            "type": "histogram"
           }
          ],
          "histogram2d": [
           {
            "colorbar": {
             "outlinewidth": 0,
             "ticks": ""
            },
            "colorscale": [
             [
              0,
              "#0d0887"
             ],
             [
              0.1111111111111111,
              "#46039f"
             ],
             [
              0.2222222222222222,
              "#7201a8"
             ],
             [
              0.3333333333333333,
              "#9c179e"
             ],
             [
              0.4444444444444444,
              "#bd3786"
             ],
             [
              0.5555555555555556,
              "#d8576b"
             ],
             [
              0.6666666666666666,
              "#ed7953"
             ],
             [
              0.7777777777777778,
              "#fb9f3a"
             ],
             [
              0.8888888888888888,
              "#fdca26"
             ],
             [
              1,
              "#f0f921"
             ]
            ],
            "type": "histogram2d"
           }
          ],
          "histogram2dcontour": [
           {
            "colorbar": {
             "outlinewidth": 0,
             "ticks": ""
            },
            "colorscale": [
             [
              0,
              "#0d0887"
             ],
             [
              0.1111111111111111,
              "#46039f"
             ],
             [
              0.2222222222222222,
              "#7201a8"
             ],
             [
              0.3333333333333333,
              "#9c179e"
             ],
             [
              0.4444444444444444,
              "#bd3786"
             ],
             [
              0.5555555555555556,
              "#d8576b"
             ],
             [
              0.6666666666666666,
              "#ed7953"
             ],
             [
              0.7777777777777778,
              "#fb9f3a"
             ],
             [
              0.8888888888888888,
              "#fdca26"
             ],
             [
              1,
              "#f0f921"
             ]
            ],
            "type": "histogram2dcontour"
           }
          ],
          "mesh3d": [
           {
            "colorbar": {
             "outlinewidth": 0,
             "ticks": ""
            },
            "type": "mesh3d"
           }
          ],
          "parcoords": [
           {
            "line": {
             "colorbar": {
              "outlinewidth": 0,
              "ticks": ""
             }
            },
            "type": "parcoords"
           }
          ],
          "pie": [
           {
            "automargin": true,
            "type": "pie"
           }
          ],
          "scatter": [
           {
            "fillpattern": {
             "fillmode": "overlay",
             "size": 10,
             "solidity": 0.2
            },
            "type": "scatter"
           }
          ],
          "scatter3d": [
           {
            "line": {
             "colorbar": {
              "outlinewidth": 0,
              "ticks": ""
             }
            },
            "marker": {
             "colorbar": {
              "outlinewidth": 0,
              "ticks": ""
             }
            },
            "type": "scatter3d"
           }
          ],
          "scattercarpet": [
           {
            "marker": {
             "colorbar": {
              "outlinewidth": 0,
              "ticks": ""
             }
            },
            "type": "scattercarpet"
           }
          ],
          "scattergeo": [
           {
            "marker": {
             "colorbar": {
              "outlinewidth": 0,
              "ticks": ""
             }
            },
            "type": "scattergeo"
           }
          ],
          "scattergl": [
           {
            "marker": {
             "colorbar": {
              "outlinewidth": 0,
              "ticks": ""
             }
            },
            "type": "scattergl"
           }
          ],
          "scattermapbox": [
           {
            "marker": {
             "colorbar": {
              "outlinewidth": 0,
              "ticks": ""
             }
            },
            "type": "scattermapbox"
           }
          ],
          "scatterpolar": [
           {
            "marker": {
             "colorbar": {
              "outlinewidth": 0,
              "ticks": ""
             }
            },
            "type": "scatterpolar"
           }
          ],
          "scatterpolargl": [
           {
            "marker": {
             "colorbar": {
              "outlinewidth": 0,
              "ticks": ""
             }
            },
            "type": "scatterpolargl"
           }
          ],
          "scatterternary": [
           {
            "marker": {
             "colorbar": {
              "outlinewidth": 0,
              "ticks": ""
             }
            },
            "type": "scatterternary"
           }
          ],
          "surface": [
           {
            "colorbar": {
             "outlinewidth": 0,
             "ticks": ""
            },
            "colorscale": [
             [
              0,
              "#0d0887"
             ],
             [
              0.1111111111111111,
              "#46039f"
             ],
             [
              0.2222222222222222,
              "#7201a8"
             ],
             [
              0.3333333333333333,
              "#9c179e"
             ],
             [
              0.4444444444444444,
              "#bd3786"
             ],
             [
              0.5555555555555556,
              "#d8576b"
             ],
             [
              0.6666666666666666,
              "#ed7953"
             ],
             [
              0.7777777777777778,
              "#fb9f3a"
             ],
             [
              0.8888888888888888,
              "#fdca26"
             ],
             [
              1,
              "#f0f921"
             ]
            ],
            "type": "surface"
           }
          ],
          "table": [
           {
            "cells": {
             "fill": {
              "color": "#EBF0F8"
             },
             "line": {
              "color": "white"
             }
            },
            "header": {
             "fill": {
              "color": "#C8D4E3"
             },
             "line": {
              "color": "white"
             }
            },
            "type": "table"
           }
          ]
         },
         "layout": {
          "annotationdefaults": {
           "arrowcolor": "#2a3f5f",
           "arrowhead": 0,
           "arrowwidth": 1
          },
          "autotypenumbers": "strict",
          "coloraxis": {
           "colorbar": {
            "outlinewidth": 0,
            "ticks": ""
           }
          },
          "colorscale": {
           "diverging": [
            [
             0,
             "#8e0152"
            ],
            [
             0.1,
             "#c51b7d"
            ],
            [
             0.2,
             "#de77ae"
            ],
            [
             0.3,
             "#f1b6da"
            ],
            [
             0.4,
             "#fde0ef"
            ],
            [
             0.5,
             "#f7f7f7"
            ],
            [
             0.6,
             "#e6f5d0"
            ],
            [
             0.7,
             "#b8e186"
            ],
            [
             0.8,
             "#7fbc41"
            ],
            [
             0.9,
             "#4d9221"
            ],
            [
             1,
             "#276419"
            ]
           ],
           "sequential": [
            [
             0,
             "#0d0887"
            ],
            [
             0.1111111111111111,
             "#46039f"
            ],
            [
             0.2222222222222222,
             "#7201a8"
            ],
            [
             0.3333333333333333,
             "#9c179e"
            ],
            [
             0.4444444444444444,
             "#bd3786"
            ],
            [
             0.5555555555555556,
             "#d8576b"
            ],
            [
             0.6666666666666666,
             "#ed7953"
            ],
            [
             0.7777777777777778,
             "#fb9f3a"
            ],
            [
             0.8888888888888888,
             "#fdca26"
            ],
            [
             1,
             "#f0f921"
            ]
           ],
           "sequentialminus": [
            [
             0,
             "#0d0887"
            ],
            [
             0.1111111111111111,
             "#46039f"
            ],
            [
             0.2222222222222222,
             "#7201a8"
            ],
            [
             0.3333333333333333,
             "#9c179e"
            ],
            [
             0.4444444444444444,
             "#bd3786"
            ],
            [
             0.5555555555555556,
             "#d8576b"
            ],
            [
             0.6666666666666666,
             "#ed7953"
            ],
            [
             0.7777777777777778,
             "#fb9f3a"
            ],
            [
             0.8888888888888888,
             "#fdca26"
            ],
            [
             1,
             "#f0f921"
            ]
           ]
          },
          "colorway": [
           "#636efa",
           "#EF553B",
           "#00cc96",
           "#ab63fa",
           "#FFA15A",
           "#19d3f3",
           "#FF6692",
           "#B6E880",
           "#FF97FF",
           "#FECB52"
          ],
          "font": {
           "color": "#2a3f5f"
          },
          "geo": {
           "bgcolor": "white",
           "lakecolor": "white",
           "landcolor": "#E5ECF6",
           "showlakes": true,
           "showland": true,
           "subunitcolor": "white"
          },
          "hoverlabel": {
           "align": "left"
          },
          "hovermode": "closest",
          "mapbox": {
           "style": "light"
          },
          "paper_bgcolor": "white",
          "plot_bgcolor": "#E5ECF6",
          "polar": {
           "angularaxis": {
            "gridcolor": "white",
            "linecolor": "white",
            "ticks": ""
           },
           "bgcolor": "#E5ECF6",
           "radialaxis": {
            "gridcolor": "white",
            "linecolor": "white",
            "ticks": ""
           }
          },
          "scene": {
           "xaxis": {
            "backgroundcolor": "#E5ECF6",
            "gridcolor": "white",
            "gridwidth": 2,
            "linecolor": "white",
            "showbackground": true,
            "ticks": "",
            "zerolinecolor": "white"
           },
           "yaxis": {
            "backgroundcolor": "#E5ECF6",
            "gridcolor": "white",
            "gridwidth": 2,
            "linecolor": "white",
            "showbackground": true,
            "ticks": "",
            "zerolinecolor": "white"
           },
           "zaxis": {
            "backgroundcolor": "#E5ECF6",
            "gridcolor": "white",
            "gridwidth": 2,
            "linecolor": "white",
            "showbackground": true,
            "ticks": "",
            "zerolinecolor": "white"
           }
          },
          "shapedefaults": {
           "line": {
            "color": "#2a3f5f"
           }
          },
          "ternary": {
           "aaxis": {
            "gridcolor": "white",
            "linecolor": "white",
            "ticks": ""
           },
           "baxis": {
            "gridcolor": "white",
            "linecolor": "white",
            "ticks": ""
           },
           "bgcolor": "#E5ECF6",
           "caxis": {
            "gridcolor": "white",
            "linecolor": "white",
            "ticks": ""
           }
          },
          "title": {
           "x": 0.05
          },
          "xaxis": {
           "automargin": true,
           "gridcolor": "white",
           "linecolor": "white",
           "ticks": "",
           "title": {
            "standoff": 15
           },
           "zerolinecolor": "white",
           "zerolinewidth": 2
          },
          "yaxis": {
           "automargin": true,
           "gridcolor": "white",
           "linecolor": "white",
           "ticks": "",
           "title": {
            "standoff": 15
           },
           "zerolinecolor": "white",
           "zerolinewidth": 2
          }
         }
        },
        "title": {
         "text": "Distribution of perimeter_se<br>Relation between perimeter_se and diagnosis"
        },
        "xaxis": {
         "anchor": "y",
         "domain": [
          0,
          1
         ],
         "title": {
          "text": "perimeter_se"
         }
        },
        "yaxis": {
         "anchor": "x",
         "domain": [
          0,
          1
         ],
         "title": {
          "text": "count"
         }
        }
       }
      }
     },
     "metadata": {},
     "output_type": "display_data"
    },
    {
     "data": {
      "application/vnd.plotly.v1+json": {
       "config": {
        "plotlyServerURL": "https://plot.ly"
       },
       "data": [
        {
         "alignmentgroup": "True",
         "bingroup": "x",
         "hovertemplate": "diagnosis=M<br>area_se=%{x}<br>count=%{y}<extra></extra>",
         "legendgroup": "M",
         "marker": {
          "color": "#636efa",
          "pattern": {
           "shape": ""
          }
         },
         "name": "M",
         "nbinsx": 50,
         "offsetgroup": "M",
         "orientation": "v",
         "showlegend": true,
         "type": "histogram",
         "x": [
          153.4,
          74.08,
          94.03,
          27.23,
          94.44,
          27.19,
          53.91,
          50.96,
          24.32,
          23.94,
          40.51,
          54.16,
          116.2,
          36.58,
          19.21,
          32.55,
          45.4,
          54.18,
          112.4,
          44.91,
          93.99,
          102.6,
          111.4,
          21.05,
          93.54,
          43.5,
          61.1,
          105,
          41,
          67.78,
          68.17,
          35.03,
          45.19,
          24.91,
          106,
          18.52,
          20.53,
          16.97,
          104.9,
          31.33,
          14.49,
          71.56,
          24.25,
          98.81,
          29.91,
          102.5,
          40.09,
          60.78,
          36.46,
          35.24,
          96.05,
          69.47,
          23.35,
          79.25,
          134.8,
          116.4,
          120,
          67.1,
          80.6,
          38.87,
          57.65,
          29.44,
          47.14,
          87.87,
          26.85,
          43.14,
          34.66,
          170,
          41.18,
          58.63,
          54.04,
          90.47,
          233,
          19.83,
          81.23,
          63.33,
          48.31,
          43.68,
          68.35,
          19.87,
          101.9,
          74.08,
          24.72,
          93.91,
          119.3,
          97.07,
          97.85,
          67.34,
          122.3,
          43.4,
          44.64,
          31.59,
          128.7,
          81.46,
          40.98,
          19.53,
          28.92,
          31.72,
          34.44,
          25.2,
          49.7,
          76.36,
          54.22,
          19.42,
          40.73,
          83.16,
          52.72,
          26.44,
          68.46,
          111.7,
          525.6,
          58.53,
          31,
          22.69,
          124.4,
          109.9,
          32.19,
          25.13,
          31.98,
          70.01,
          155.8,
          83.5,
          49,
          60.41,
          137.9,
          92.81,
          33.63,
          71,
          35.74,
          106.4,
          59.46,
          138.5,
          23.02,
          52.34,
          44.41,
          90.94,
          22.18,
          45.42,
          199.7,
          156.8,
          45.81,
          36.74,
          69.65,
          53.16,
          28.09,
          49.11,
          133,
          130.8,
          48.9,
          74.85,
          69.06,
          44.41,
          57.72,
          33.27,
          87.17,
          88.25,
          164.1,
          67.66,
          51.22,
          153.1,
          63.37,
          72.44,
          103.6,
          224.1,
          130.2,
          45.5,
          39.06,
          77.02,
          13.99,
          33.01,
          70.1,
          66.91,
          80.99,
          41.51,
          49.81,
          45.38,
          176.5,
          24.19,
          52.49,
          103.9,
          18.85,
          58.38,
          35.77,
          43.95,
          81.89,
          56.18,
          115.2,
          542.2,
          104.9,
          33.12,
          67.74,
          22.95,
          89.74,
          95.77,
          75.09,
          39.05,
          180.2,
          32.52,
          33.67,
          38.49,
          67.36,
          59.7,
          139.9,
          100.4,
          87.78,
          18.54,
          22.65,
          118.8,
          158.7,
          99.04,
          48.55,
          86.22
         ],
         "xaxis": "x",
         "yaxis": "y"
        },
        {
         "alignmentgroup": "True",
         "bingroup": "x",
         "hovertemplate": "diagnosis=B<br>area_se=%{x}<br>count=%{y}<extra></extra>",
         "legendgroup": "B",
         "marker": {
          "color": "#EF553B",
          "pattern": {
           "shape": ""
          }
         },
         "name": "B",
         "nbinsx": 50,
         "offsetgroup": "B",
         "orientation": "v",
         "showlegend": true,
         "type": "histogram",
         "x": [
          23.56,
          14.67,
          15.7,
          14.16,
          8.205,
          19.87,
          20.2,
          28.47,
          14.55,
          17.47,
          23.47,
          32.96,
          8.322,
          34.62,
          18.39,
          23.52,
          14.2,
          18.15,
          17.67,
          18.33,
          25.44,
          19.68,
          32.65,
          20.35,
          24.62,
          12.96,
          16.16,
          20.95,
          42.76,
          33.76,
          36.35,
          25.22,
          24.44,
          20.05,
          15.75,
          9.833,
          14.68,
          11.77,
          23.13,
          20.62,
          9.227,
          16.41,
          22.87,
          20.48,
          29.25,
          19.91,
          8.966,
          24.79,
          16.94,
          10.5,
          24.19,
          14.66,
          17.91,
          39.84,
          15.24,
          27.94,
          34.37,
          12.67,
          26.33,
          12.26,
          21.38,
          16.64,
          17.74,
          25.03,
          39.43,
          21.2,
          21.47,
          34.78,
          10.21,
          49.85,
          15.48,
          22.79,
          16.51,
          46.61,
          13.25,
          18.54,
          38.34,
          21.55,
          16.64,
          11.48,
          24.28,
          17.43,
          19.08,
          21.98,
          11.36,
          27.48,
          14.34,
          21.79,
          22.77,
          26.43,
          17.86,
          14.47,
          18.32,
          53.65,
          21.69,
          15.75,
          27.24,
          30.29,
          12.33,
          15.09,
          20,
          17.12,
          21.46,
          22.79,
          17.4,
          21.03,
          15.05,
          24.68,
          48.29,
          11.86,
          19.88,
          18.51,
          8.605,
          15.46,
          12.64,
          22.07,
          29.96,
          27.19,
          9.006,
          16.39,
          39.93,
          23.22,
          13.56,
          16.35,
          16.64,
          18.62,
          26.99,
          27.1,
          26.76,
          18.24,
          20.74,
          10.77,
          13.17,
          16.39,
          48.84,
          17.09,
          22.22,
          19.41,
          37.83,
          23.29,
          22.45,
          21.91,
          12.68,
          34.68,
          17.49,
          77.11,
          24.87,
          17.67,
          13.88,
          13.38,
          17.74,
          11.09,
          20.56,
          20.56,
          28.32,
          10.08,
          22.93,
          18.21,
          15.5,
          9.789,
          20.39,
          33.01,
          11.28,
          28.9,
          25.18,
          9.438,
          17.81,
          12.69,
          15.82,
          24.2,
          31.16,
          22.68,
          16.57,
          19.01,
          17.61,
          23.92,
          16.97,
          20.65,
          19.62,
          15.07,
          13.24,
          14.41,
          16.85,
          32.14,
          12.07,
          10.8,
          24.53,
          19.33,
          18.02,
          29.06,
          12.25,
          26.65,
          26.03,
          28.84,
          27.49,
          21.57,
          20.74,
          30.18,
          30.48,
          28.3,
          20.98,
          17.26,
          33.58,
          13.22,
          18.57,
          17.72,
          14,
          14.91,
          7.228,
          14.91,
          11.35,
          16.04,
          11.68,
          9.549,
          19.2,
          15.26,
          19.96,
          23.12,
          22.97,
          11.88,
          28.85,
          22.22,
          12.67,
          19.29,
          30.57,
          12.98,
          25.06,
          18.95,
          20.21,
          11.36,
          30.15,
          25.78,
          21.83,
          41.24,
          25.79,
          13.66,
          13.54,
          6.802,
          28.51,
          19.53,
          25.17,
          17.37,
          18.99,
          20.3,
          49.45,
          15.89,
          19.36,
          43.52,
          11.6,
          20.77,
          20.2,
          9.704,
          23.24,
          15.43,
          23.92,
          26.5,
          32.74,
          29.63,
          19.25,
          18.15,
          29.34,
          13.12,
          19.39,
          19.75,
          23.04,
          20.24,
          13.86,
          25.7,
          13.32,
          28.93,
          23.13,
          17.58,
          21.19,
          11.28,
          20.52,
          12.89,
          16.89,
          23.81,
          27.4,
          20.98,
          27.85,
          22.73,
          44.96,
          23.31,
          35.13,
          9.597,
          11.64,
          31.01,
          14.03,
          14.34,
          16.26,
          28.41,
          12.84,
          20.64,
          13.87,
          30.19,
          19.98,
          27.57,
          18.04,
          50.95,
          24.6,
          26.07,
          21.84,
          18.4,
          11.91,
          34.84,
          18.49,
          20.04,
          17.67,
          12.58,
          12.3,
          20.67,
          13.04,
          20.72,
          37.11,
          18.19,
          34.37,
          28.62,
          19.63,
          9.332,
          26.45,
          15.24,
          7.254,
          16.07,
          8.955,
          44.74,
          18.54,
          30.66,
          15.34,
          17.25,
          10.09,
          20.95,
          19.14,
          11.73,
          20.86,
          23.11,
          27.41,
          17.85,
          23.12,
          31.24,
          12.97,
          7.326,
          18.24,
          33,
          20.67,
          17.85,
          18.76,
          17.86,
          16.83,
          14.46,
          16.8,
          29.11,
          19.54,
          16.97,
          29.84,
          22.81,
          19.15
         ],
         "xaxis": "x",
         "yaxis": "y"
        }
       ],
       "layout": {
        "bargap": 0.15,
        "barmode": "relative",
        "legend": {
         "title": {
          "text": "diagnosis"
         },
         "tracegroupgap": 0
        },
        "template": {
         "data": {
          "bar": [
           {
            "error_x": {
             "color": "#2a3f5f"
            },
            "error_y": {
             "color": "#2a3f5f"
            },
            "marker": {
             "line": {
              "color": "#E5ECF6",
              "width": 0.5
             },
             "pattern": {
              "fillmode": "overlay",
              "size": 10,
              "solidity": 0.2
             }
            },
            "type": "bar"
           }
          ],
          "barpolar": [
           {
            "marker": {
             "line": {
              "color": "#E5ECF6",
              "width": 0.5
             },
             "pattern": {
              "fillmode": "overlay",
              "size": 10,
              "solidity": 0.2
             }
            },
            "type": "barpolar"
           }
          ],
          "carpet": [
           {
            "aaxis": {
             "endlinecolor": "#2a3f5f",
             "gridcolor": "white",
             "linecolor": "white",
             "minorgridcolor": "white",
             "startlinecolor": "#2a3f5f"
            },
            "baxis": {
             "endlinecolor": "#2a3f5f",
             "gridcolor": "white",
             "linecolor": "white",
             "minorgridcolor": "white",
             "startlinecolor": "#2a3f5f"
            },
            "type": "carpet"
           }
          ],
          "choropleth": [
           {
            "colorbar": {
             "outlinewidth": 0,
             "ticks": ""
            },
            "type": "choropleth"
           }
          ],
          "contour": [
           {
            "colorbar": {
             "outlinewidth": 0,
             "ticks": ""
            },
            "colorscale": [
             [
              0,
              "#0d0887"
             ],
             [
              0.1111111111111111,
              "#46039f"
             ],
             [
              0.2222222222222222,
              "#7201a8"
             ],
             [
              0.3333333333333333,
              "#9c179e"
             ],
             [
              0.4444444444444444,
              "#bd3786"
             ],
             [
              0.5555555555555556,
              "#d8576b"
             ],
             [
              0.6666666666666666,
              "#ed7953"
             ],
             [
              0.7777777777777778,
              "#fb9f3a"
             ],
             [
              0.8888888888888888,
              "#fdca26"
             ],
             [
              1,
              "#f0f921"
             ]
            ],
            "type": "contour"
           }
          ],
          "contourcarpet": [
           {
            "colorbar": {
             "outlinewidth": 0,
             "ticks": ""
            },
            "type": "contourcarpet"
           }
          ],
          "heatmap": [
           {
            "colorbar": {
             "outlinewidth": 0,
             "ticks": ""
            },
            "colorscale": [
             [
              0,
              "#0d0887"
             ],
             [
              0.1111111111111111,
              "#46039f"
             ],
             [
              0.2222222222222222,
              "#7201a8"
             ],
             [
              0.3333333333333333,
              "#9c179e"
             ],
             [
              0.4444444444444444,
              "#bd3786"
             ],
             [
              0.5555555555555556,
              "#d8576b"
             ],
             [
              0.6666666666666666,
              "#ed7953"
             ],
             [
              0.7777777777777778,
              "#fb9f3a"
             ],
             [
              0.8888888888888888,
              "#fdca26"
             ],
             [
              1,
              "#f0f921"
             ]
            ],
            "type": "heatmap"
           }
          ],
          "heatmapgl": [
           {
            "colorbar": {
             "outlinewidth": 0,
             "ticks": ""
            },
            "colorscale": [
             [
              0,
              "#0d0887"
             ],
             [
              0.1111111111111111,
              "#46039f"
             ],
             [
              0.2222222222222222,
              "#7201a8"
             ],
             [
              0.3333333333333333,
              "#9c179e"
             ],
             [
              0.4444444444444444,
              "#bd3786"
             ],
             [
              0.5555555555555556,
              "#d8576b"
             ],
             [
              0.6666666666666666,
              "#ed7953"
             ],
             [
              0.7777777777777778,
              "#fb9f3a"
             ],
             [
              0.8888888888888888,
              "#fdca26"
             ],
             [
              1,
              "#f0f921"
             ]
            ],
            "type": "heatmapgl"
           }
          ],
          "histogram": [
           {
            "marker": {
             "pattern": {
              "fillmode": "overlay",
              "size": 10,
              "solidity": 0.2
             }
            },
            "type": "histogram"
           }
          ],
          "histogram2d": [
           {
            "colorbar": {
             "outlinewidth": 0,
             "ticks": ""
            },
            "colorscale": [
             [
              0,
              "#0d0887"
             ],
             [
              0.1111111111111111,
              "#46039f"
             ],
             [
              0.2222222222222222,
              "#7201a8"
             ],
             [
              0.3333333333333333,
              "#9c179e"
             ],
             [
              0.4444444444444444,
              "#bd3786"
             ],
             [
              0.5555555555555556,
              "#d8576b"
             ],
             [
              0.6666666666666666,
              "#ed7953"
             ],
             [
              0.7777777777777778,
              "#fb9f3a"
             ],
             [
              0.8888888888888888,
              "#fdca26"
             ],
             [
              1,
              "#f0f921"
             ]
            ],
            "type": "histogram2d"
           }
          ],
          "histogram2dcontour": [
           {
            "colorbar": {
             "outlinewidth": 0,
             "ticks": ""
            },
            "colorscale": [
             [
              0,
              "#0d0887"
             ],
             [
              0.1111111111111111,
              "#46039f"
             ],
             [
              0.2222222222222222,
              "#7201a8"
             ],
             [
              0.3333333333333333,
              "#9c179e"
             ],
             [
              0.4444444444444444,
              "#bd3786"
             ],
             [
              0.5555555555555556,
              "#d8576b"
             ],
             [
              0.6666666666666666,
              "#ed7953"
             ],
             [
              0.7777777777777778,
              "#fb9f3a"
             ],
             [
              0.8888888888888888,
              "#fdca26"
             ],
             [
              1,
              "#f0f921"
             ]
            ],
            "type": "histogram2dcontour"
           }
          ],
          "mesh3d": [
           {
            "colorbar": {
             "outlinewidth": 0,
             "ticks": ""
            },
            "type": "mesh3d"
           }
          ],
          "parcoords": [
           {
            "line": {
             "colorbar": {
              "outlinewidth": 0,
              "ticks": ""
             }
            },
            "type": "parcoords"
           }
          ],
          "pie": [
           {
            "automargin": true,
            "type": "pie"
           }
          ],
          "scatter": [
           {
            "fillpattern": {
             "fillmode": "overlay",
             "size": 10,
             "solidity": 0.2
            },
            "type": "scatter"
           }
          ],
          "scatter3d": [
           {
            "line": {
             "colorbar": {
              "outlinewidth": 0,
              "ticks": ""
             }
            },
            "marker": {
             "colorbar": {
              "outlinewidth": 0,
              "ticks": ""
             }
            },
            "type": "scatter3d"
           }
          ],
          "scattercarpet": [
           {
            "marker": {
             "colorbar": {
              "outlinewidth": 0,
              "ticks": ""
             }
            },
            "type": "scattercarpet"
           }
          ],
          "scattergeo": [
           {
            "marker": {
             "colorbar": {
              "outlinewidth": 0,
              "ticks": ""
             }
            },
            "type": "scattergeo"
           }
          ],
          "scattergl": [
           {
            "marker": {
             "colorbar": {
              "outlinewidth": 0,
              "ticks": ""
             }
            },
            "type": "scattergl"
           }
          ],
          "scattermapbox": [
           {
            "marker": {
             "colorbar": {
              "outlinewidth": 0,
              "ticks": ""
             }
            },
            "type": "scattermapbox"
           }
          ],
          "scatterpolar": [
           {
            "marker": {
             "colorbar": {
              "outlinewidth": 0,
              "ticks": ""
             }
            },
            "type": "scatterpolar"
           }
          ],
          "scatterpolargl": [
           {
            "marker": {
             "colorbar": {
              "outlinewidth": 0,
              "ticks": ""
             }
            },
            "type": "scatterpolargl"
           }
          ],
          "scatterternary": [
           {
            "marker": {
             "colorbar": {
              "outlinewidth": 0,
              "ticks": ""
             }
            },
            "type": "scatterternary"
           }
          ],
          "surface": [
           {
            "colorbar": {
             "outlinewidth": 0,
             "ticks": ""
            },
            "colorscale": [
             [
              0,
              "#0d0887"
             ],
             [
              0.1111111111111111,
              "#46039f"
             ],
             [
              0.2222222222222222,
              "#7201a8"
             ],
             [
              0.3333333333333333,
              "#9c179e"
             ],
             [
              0.4444444444444444,
              "#bd3786"
             ],
             [
              0.5555555555555556,
              "#d8576b"
             ],
             [
              0.6666666666666666,
              "#ed7953"
             ],
             [
              0.7777777777777778,
              "#fb9f3a"
             ],
             [
              0.8888888888888888,
              "#fdca26"
             ],
             [
              1,
              "#f0f921"
             ]
            ],
            "type": "surface"
           }
          ],
          "table": [
           {
            "cells": {
             "fill": {
              "color": "#EBF0F8"
             },
             "line": {
              "color": "white"
             }
            },
            "header": {
             "fill": {
              "color": "#C8D4E3"
             },
             "line": {
              "color": "white"
             }
            },
            "type": "table"
           }
          ]
         },
         "layout": {
          "annotationdefaults": {
           "arrowcolor": "#2a3f5f",
           "arrowhead": 0,
           "arrowwidth": 1
          },
          "autotypenumbers": "strict",
          "coloraxis": {
           "colorbar": {
            "outlinewidth": 0,
            "ticks": ""
           }
          },
          "colorscale": {
           "diverging": [
            [
             0,
             "#8e0152"
            ],
            [
             0.1,
             "#c51b7d"
            ],
            [
             0.2,
             "#de77ae"
            ],
            [
             0.3,
             "#f1b6da"
            ],
            [
             0.4,
             "#fde0ef"
            ],
            [
             0.5,
             "#f7f7f7"
            ],
            [
             0.6,
             "#e6f5d0"
            ],
            [
             0.7,
             "#b8e186"
            ],
            [
             0.8,
             "#7fbc41"
            ],
            [
             0.9,
             "#4d9221"
            ],
            [
             1,
             "#276419"
            ]
           ],
           "sequential": [
            [
             0,
             "#0d0887"
            ],
            [
             0.1111111111111111,
             "#46039f"
            ],
            [
             0.2222222222222222,
             "#7201a8"
            ],
            [
             0.3333333333333333,
             "#9c179e"
            ],
            [
             0.4444444444444444,
             "#bd3786"
            ],
            [
             0.5555555555555556,
             "#d8576b"
            ],
            [
             0.6666666666666666,
             "#ed7953"
            ],
            [
             0.7777777777777778,
             "#fb9f3a"
            ],
            [
             0.8888888888888888,
             "#fdca26"
            ],
            [
             1,
             "#f0f921"
            ]
           ],
           "sequentialminus": [
            [
             0,
             "#0d0887"
            ],
            [
             0.1111111111111111,
             "#46039f"
            ],
            [
             0.2222222222222222,
             "#7201a8"
            ],
            [
             0.3333333333333333,
             "#9c179e"
            ],
            [
             0.4444444444444444,
             "#bd3786"
            ],
            [
             0.5555555555555556,
             "#d8576b"
            ],
            [
             0.6666666666666666,
             "#ed7953"
            ],
            [
             0.7777777777777778,
             "#fb9f3a"
            ],
            [
             0.8888888888888888,
             "#fdca26"
            ],
            [
             1,
             "#f0f921"
            ]
           ]
          },
          "colorway": [
           "#636efa",
           "#EF553B",
           "#00cc96",
           "#ab63fa",
           "#FFA15A",
           "#19d3f3",
           "#FF6692",
           "#B6E880",
           "#FF97FF",
           "#FECB52"
          ],
          "font": {
           "color": "#2a3f5f"
          },
          "geo": {
           "bgcolor": "white",
           "lakecolor": "white",
           "landcolor": "#E5ECF6",
           "showlakes": true,
           "showland": true,
           "subunitcolor": "white"
          },
          "hoverlabel": {
           "align": "left"
          },
          "hovermode": "closest",
          "mapbox": {
           "style": "light"
          },
          "paper_bgcolor": "white",
          "plot_bgcolor": "#E5ECF6",
          "polar": {
           "angularaxis": {
            "gridcolor": "white",
            "linecolor": "white",
            "ticks": ""
           },
           "bgcolor": "#E5ECF6",
           "radialaxis": {
            "gridcolor": "white",
            "linecolor": "white",
            "ticks": ""
           }
          },
          "scene": {
           "xaxis": {
            "backgroundcolor": "#E5ECF6",
            "gridcolor": "white",
            "gridwidth": 2,
            "linecolor": "white",
            "showbackground": true,
            "ticks": "",
            "zerolinecolor": "white"
           },
           "yaxis": {
            "backgroundcolor": "#E5ECF6",
            "gridcolor": "white",
            "gridwidth": 2,
            "linecolor": "white",
            "showbackground": true,
            "ticks": "",
            "zerolinecolor": "white"
           },
           "zaxis": {
            "backgroundcolor": "#E5ECF6",
            "gridcolor": "white",
            "gridwidth": 2,
            "linecolor": "white",
            "showbackground": true,
            "ticks": "",
            "zerolinecolor": "white"
           }
          },
          "shapedefaults": {
           "line": {
            "color": "#2a3f5f"
           }
          },
          "ternary": {
           "aaxis": {
            "gridcolor": "white",
            "linecolor": "white",
            "ticks": ""
           },
           "baxis": {
            "gridcolor": "white",
            "linecolor": "white",
            "ticks": ""
           },
           "bgcolor": "#E5ECF6",
           "caxis": {
            "gridcolor": "white",
            "linecolor": "white",
            "ticks": ""
           }
          },
          "title": {
           "x": 0.05
          },
          "xaxis": {
           "automargin": true,
           "gridcolor": "white",
           "linecolor": "white",
           "ticks": "",
           "title": {
            "standoff": 15
           },
           "zerolinecolor": "white",
           "zerolinewidth": 2
          },
          "yaxis": {
           "automargin": true,
           "gridcolor": "white",
           "linecolor": "white",
           "ticks": "",
           "title": {
            "standoff": 15
           },
           "zerolinecolor": "white",
           "zerolinewidth": 2
          }
         }
        },
        "title": {
         "text": "Distribution of area_se<br>Relation between area_se and diagnosis"
        },
        "xaxis": {
         "anchor": "y",
         "domain": [
          0,
          1
         ],
         "title": {
          "text": "area_se"
         }
        },
        "yaxis": {
         "anchor": "x",
         "domain": [
          0,
          1
         ],
         "title": {
          "text": "count"
         }
        }
       }
      }
     },
     "metadata": {},
     "output_type": "display_data"
    }
   ],
   "source": [
    "#Let's se histograms of following features: perimeter_se and area_se#\n",
    "\n",
    "distribution_check(df.columns[13])\n",
    "distribution_check(df.columns[14])"
   ]
  },
  {
   "cell_type": "markdown",
   "metadata": {},
   "source": [
    "Again, we can notice that higher values of features (perimeter_se, area_se) corresponds to greater possibility of diagnosis being \"Malignant\" and vice-versa.\n",
    "\n",
    "Distribution is somewhat close to Exponential distribution.\n"
   ]
  },
  {
   "cell_type": "code",
   "execution_count": 11,
   "metadata": {},
   "outputs": [
    {
     "data": {
      "application/vnd.plotly.v1+json": {
       "config": {
        "plotlyServerURL": "https://plot.ly"
       },
       "data": [
        {
         "hovertemplate": "diagnosis=M<br>radius_worst=%{x}<br>perimeter_worst=%{y}<extra></extra>",
         "legendgroup": "M",
         "marker": {
          "color": "#636efa",
          "symbol": "circle"
         },
         "mode": "markers",
         "name": "M",
         "orientation": "v",
         "showlegend": true,
         "type": "scatter",
         "x": [
          25.38,
          24.99,
          23.57,
          14.91,
          22.54,
          15.47,
          22.88,
          17.06,
          15.49,
          15.09,
          19.19,
          20.42,
          20.96,
          16.84,
          15.03,
          17.46,
          19.07,
          20.96,
          27.32,
          18.07,
          29.17,
          26.46,
          22.25,
          17.62,
          21.31,
          20.27,
          20.01,
          23.15,
          16.82,
          20.88,
          24.15,
          20.21,
          20.01,
          15.89,
          14.99,
          15.53,
          15.93,
          12.84,
          24.09,
          17.38,
          16.23,
          22.82,
          15.67,
          20.6,
          18.1,
          26.14,
          17.87,
          17.67,
          17.09,
          17.31,
          24.86,
          23.32,
          16.57,
          19.77,
          22.39,
          23.37,
          30,
          20.33,
          22.93,
          16.21,
          24.56,
          16.43,
          18.23,
          24.22,
          16.33,
          16.99,
          16.31,
          28.4,
          18.81,
          20.19,
          20.58,
          22.25,
          26.02,
          16.89,
          22.32,
          22.63,
          19.26,
          19.47,
          22.52,
          14.49,
          18.55,
          19.92,
          13.74,
          20.47,
          22.03,
          26.73,
          28.01,
          20.05,
          23.14,
          17.98,
          18.79,
          17.79,
          33.12,
          26.68,
          20.11,
          17.8,
          21.31,
          15.74,
          15.65,
          16.08,
          16.39,
          19.76,
          23.36,
          18.33,
          20.42,
          25.12,
          19.2,
          17.77,
          19.8,
          23.24,
          28.11,
          18.07,
          16.86,
          15.75,
          25.73,
          27.9,
          19.56,
          15.2,
          19.59,
          24.47,
          31.01,
          24.22,
          22.51,
          21.65,
          25.58,
          25.28,
          19.85,
          25.7,
          16.39,
          25.05,
          17.73,
          19.85,
          18.49,
          24.33,
          19.85,
          20.39,
          17.91,
          21.58,
          32.49,
          28.19,
          20.92,
          19.96,
          23.72,
          23.79,
          18.55,
          13.36,
          25.93,
          23.68,
          21.84,
          23.06,
          25.3,
          19.28,
          17.73,
          18.76,
          20.99,
          24.54,
          30.67,
          22.75,
          17.36,
          33.13,
          18.51,
          24.31,
          24.19,
          30.75,
          27.66,
          19.38,
          22.69,
          25.37,
          13.24,
          15.79,
          20.82,
          21.2,
          26.23,
          20.8,
          21.08,
          17.26,
          23.17,
          16.35,
          22.03,
          22.66,
          17.04,
          20.38,
          20.38,
          21.53,
          25.68,
          21.44,
          22.96,
          36.04,
          21.57,
          17.39,
          23.96,
          19.18,
          21.53,
          22.75,
          23.86,
          16.01,
          30.79,
          17.11,
          16.41,
          17.58,
          21.86,
          23.73,
          29.92,
          23.23,
          24.3,
          15.29,
          17.52,
          24.29,
          25.45,
          23.69,
          18.98,
          25.74
         ],
         "xaxis": "x",
         "y": [
          184.6,
          158.8,
          152.5,
          98.87,
          152.2,
          103.4,
          153.2,
          110.6,
          106.2,
          97.65,
          123.8,
          136.5,
          151.7,
          112,
          108.8,
          124.1,
          123.4,
          136.8,
          186.8,
          125.1,
          188,
          177,
          152.4,
          122.4,
          139.9,
          149.3,
          134.9,
          160.5,
          119.4,
          136.1,
          161.4,
          132.7,
          133.5,
          116.2,
          95.54,
          107.3,
          102.5,
          87.22,
          177.4,
          113.1,
          105.5,
          150.6,
          102.8,
          135.1,
          117.7,
          170.1,
          115.7,
          119.1,
          111.8,
          114.6,
          165.9,
          151.6,
          110.3,
          128.8,
          150.1,
          170.3,
          211.7,
          141.3,
          152.2,
          108.4,
          152.9,
          107.5,
          123.5,
          156.1,
          109.5,
          108.6,
          106.4,
          206.8,
          127.1,
          130.3,
          129.2,
          145.4,
          180.9,
          113.2,
          148.2,
          148.7,
          124.9,
          129.7,
          145.6,
          92.04,
          121.4,
          129,
          91.93,
          132.9,
          146.6,
          174.9,
          184.2,
          130.7,
          155.3,
          116.6,
          125,
          123.5,
          220.8,
          176.5,
          129.3,
          113.8,
          139.2,
          106.4,
          101.7,
          118.6,
          111.6,
          129.1,
          166.4,
          117.9,
          139.5,
          177,
          128.5,
          117.7,
          130,
          158.3,
          188.5,
          120.4,
          115,
          104.4,
          170.3,
          180.2,
          125.9,
          105.3,
          133.5,
          162.7,
          206,
          161.7,
          141.2,
          144.9,
          165.3,
          159.8,
          130.9,
          163.1,
          108.1,
          178.6,
          119.8,
          143.7,
          126.3,
          162.3,
          128.2,
          137.9,
          115.9,
          140.5,
          214,
          195.9,
          135.1,
          129,
          159.8,
          152.4,
          126.9,
          85.1,
          171.1,
          158.8,
          140.9,
          150.2,
          171.1,
          129.8,
          113.7,
          124.3,
          143.2,
          161.1,
          202.4,
          157.6,
          119.4,
          229.3,
          121.2,
          161.2,
          160,
          199.5,
          195,
          129.3,
          152.1,
          166.8,
          91.76,
          102.2,
          142,
          142.1,
          172,
          149.6,
          138.1,
          110.1,
          157.1,
          125.4,
          146,
          145.3,
          113.9,
          132.8,
          133.3,
          145.4,
          168.2,
          139.8,
          152.1,
          251.2,
          143.6,
          122.1,
          153.9,
          127.3,
          143.4,
          146.4,
          163.2,
          106,
          211.5,
          117.7,
          113.3,
          113.8,
          142.2,
          160.5,
          205.7,
          152,
          160.2,
          104.3,
          128.7,
          179.1,
          166.1,
          155,
          126.7,
          184.6
         ],
         "yaxis": "y"
        },
        {
         "hovertemplate": "diagnosis=B<br>radius_worst=%{x}<br>perimeter_worst=%{y}<extra></extra>",
         "legendgroup": "B",
         "marker": {
          "color": "#EF553B",
          "symbol": "circle"
         },
         "mode": "markers",
         "name": "B",
         "orientation": "v",
         "showlegend": true,
         "type": "scatter",
         "x": [
          15.11,
          14.5,
          10.23,
          13.3,
          8.964,
          13.76,
          15.15,
          12.98,
          14.67,
          13.1,
          12.84,
          14.23,
          9.507,
          11.02,
          9.565,
          10.01,
          10.41,
          12.33,
          10.31,
          13.46,
          9.733,
          14.11,
          14.08,
          14.24,
          13.11,
          15.53,
          13.67,
          13.83,
          16.34,
          16.11,
          16.36,
          15.1,
          12.83,
          10.92,
          13.06,
          7.93,
          13.34,
          10.76,
          11.54,
          13.14,
          13.29,
          13.01,
          11.05,
          13.33,
          15.3,
          11.16,
          9.628,
          13.67,
          9.414,
          12.82,
          15.7,
          14.26,
          15.49,
          16.11,
          13.34,
          17.5,
          13.33,
          12.32,
          11.92,
          10.62,
          12.78,
          14.48,
          11.95,
          13.15,
          16.25,
          15.85,
          15.34,
          14.16,
          9.092,
          11.02,
          11.99,
          14.77,
          13.59,
          18.22,
          13.14,
          12.36,
          13.32,
          13.58,
          15.98,
          11.6,
          16.11,
          13.5,
          11.35,
          11.54,
          9.262,
          11.26,
          14,
          13.63,
          12.37,
          11.87,
          13.01,
          12.57,
          13.35,
          13.75,
          9.968,
          13.88,
          14.44,
          14.97,
          10.42,
          14.55,
          17.38,
          13.3,
          13.25,
          11.48,
          15.34,
          14.98,
          11.17,
          15.14,
          16.77,
          11.52,
          16.41,
          14.2,
          12.08,
          12.36,
          10.51,
          15.33,
          15.75,
          14.85,
          13.2,
          12.58,
          15.01,
          11.48,
          13.94,
          14.39,
          12.25,
          12.65,
          12.97,
          11.88,
          14.8,
          13.9,
          11.69,
          14.91,
          12.32,
          10.75,
          12.4,
          12.2,
          15.5,
          14.98,
          13.31,
          13.9,
          13.5,
          13.24,
          13.62,
          11.86,
          12.36,
          15.77,
          16.25,
          13.74,
          13.06,
          13.5,
          14.67,
          11.37,
          16.22,
          10.93,
          13.46,
          11.06,
          12.68,
          12.44,
          14.41,
          9.699,
          14.97,
          14.73,
          12.61,
          16.46,
          14.19,
          12.34,
          8.952,
          13.34,
          12.85,
          10.06,
          12.9,
          11.28,
          14.04,
          13.75,
          13.71,
          15.53,
          13.07,
          14.42,
          11.98,
          12.76,
          13.35,
          13.72,
          11.16,
          16.67,
          10.75,
          11.92,
          13.06,
          10.88,
          13.64,
          17.27,
          12.51,
          12.81,
          13.28,
          12.12,
          13.37,
          14.19,
          15.11,
          9.981,
          12.02,
          13.72,
          14.2,
          13.75,
          18.13,
          14.73,
          14.29,
          16.2,
          14.84,
          16.97,
          10.85,
          14.69,
          14.54,
          12.84,
          12.09,
          12.57,
          14.18,
          14.24,
          13.13,
          15.51,
          12.04,
          11.38,
          10.17,
          13.56,
          14.92,
          14.8,
          13.74,
          12.68,
          13.45,
          13.8,
          14.13,
          13.86,
          13.18,
          12.4,
          17.71,
          14.4,
          14.1,
          13.05,
          12.41,
          9.965,
          16.76,
          13.05,
          10.85,
          13.65,
          12.36,
          13.07,
          16.46,
          12.64,
          15.14,
          11.21,
          11.11,
          12.13,
          12.76,
          11.68,
          13.82,
          12.88,
          16.31,
          14.45,
          15.66,
          15.63,
          14.91,
          12.36,
          15.27,
          10.94,
          12.98,
          16.43,
          16.3,
          12.79,
          13.09,
          15.8,
          14.34,
          15.05,
          13.12,
          14.35,
          14.34,
          10.67,
          15.4,
          12.77,
          14.9,
          15.44,
          14.8,
          11.15,
          13.36,
          11.14,
          13.6,
          17.18,
          13.45,
          11.94,
          14.09,
          16.45,
          15.14,
          12.4,
          13.34,
          16.41,
          14.83,
          14.96,
          17.01,
          13.78,
          16.46,
          13.32,
          14.17,
          19.82,
          13.19,
          14.5,
          16.01,
          14.38,
          14.06,
          16.76,
          13.57,
          10.28,
          10.6,
          13.16,
          11.69,
          17.32,
          12.45,
          15.61,
          16.76,
          12.47,
          15.05,
          14.45,
          10.57,
          11.93,
          15.11,
          11.24,
          9.473,
          15.35,
          13.61,
          14.62,
          13.45,
          13.5,
          13.35,
          15.85,
          11.62,
          12.98,
          9.077,
          8.678,
          12.26,
          16.22,
          16.51,
          14.37,
          15.05,
          15.35,
          11.25,
          10.83,
          10.93,
          13.03,
          11.66,
          12.02,
          13.87,
          9.845,
          13.89,
          10.84,
          10.65,
          10.49,
          15.48,
          12.48,
          15.3,
          11.92,
          9.456
         ],
         "xaxis": "x",
         "y": [
          99.7,
          96.09,
          65.13,
          84.46,
          57.26,
          89.88,
          99,
          82.98,
          96.08,
          83.67,
          81.81,
          90.24,
          59.9,
          69.86,
          62.06,
          65.59,
          67.03,
          78,
          65.5,
          85.67,
          62.56,
          89.71,
          91.36,
          91.88,
          84.53,
          96.66,
          87.78,
          91.46,
          109.4,
          102.9,
          104.5,
          97.59,
          82.14,
          68.81,
          82.96,
          50.41,
          84.58,
          72.22,
          74.22,
          85.51,
          85.56,
          83.99,
          71.68,
          89,
          107,
          72.62,
          64.48,
          87.54,
          63.34,
          83.74,
          102.8,
          91.99,
          100.3,
          105.9,
          91.38,
          114.3,
          86.16,
          79.93,
          76.53,
          66.53,
          82.66,
          97.17,
          77.79,
          86.26,
          107.1,
          108.6,
          97.19,
          90.82,
          58.08,
          71.04,
          76.25,
          97.67,
          86.6,
          120.3,
          84.08,
          78.07,
          88.91,
          87.36,
          102.3,
          73.66,
          104.6,
          86.97,
          72.01,
          73.2,
          58.36,
          73.07,
          88.18,
          86.7,
          79.12,
          75.39,
          84.42,
          79.57,
          86.65,
          89.04,
          62.25,
          90.81,
          92.15,
          96.05,
          67.08,
          99.48,
          113.7,
          85.22,
          86.2,
          75.4,
          99.71,
          101.1,
          71.94,
          98.84,
          110.4,
          73.47,
          114.2,
          90.67,
          79.82,
          78.44,
          65.74,
          98.27,
          102.5,
          94.11,
          83.85,
          87.16,
          98,
          73.68,
          88.28,
          105,
          77.98,
          80.88,
          83.12,
          78.28,
          97.66,
          89.27,
          76.51,
          94.44,
          78.27,
          68.09,
          79.46,
          77.37,
          98.91,
          98.37,
          84.7,
          92.12,
          85.56,
          92.2,
          87.4,
          78.27,
          79.29,
          101.7,
          109.1,
          88.81,
          84.35,
          88.54,
          94.17,
          72.42,
          105.8,
          70.1,
          88.13,
          70.76,
          82.69,
          81.39,
          92,
          60.9,
          95.48,
          93.96,
          80.92,
          103.7,
          92.04,
          81.23,
          56.65,
          84.48,
          81.6,
          68.62,
          81.76,
          71.53,
          92.8,
          91.11,
          88.7,
          98.4,
          82.74,
          99.21,
          76.91,
          82.08,
          84.53,
          87.38,
          71.98,
          111.4,
          71.25,
          79.76,
          84.16,
          70.89,
          86.54,
          114.2,
          79.67,
          83.09,
          83.61,
          79.62,
          89.02,
          94.22,
          96.74,
          65.27,
          75.79,
          86.82,
          92.94,
          87.82,
          117.2,
          93.76,
          93.85,
          104.5,
          99.16,
          113.1,
          76.51,
          97.11,
          97.96,
          84.93,
          79.73,
          87.36,
          95.23,
          96.59,
          87.65,
          99.66,
          79.73,
          73.23,
          64.01,
          88.33,
          96.42,
          97.33,
          90.72,
          80.79,
          86,
          87.64,
          96.31,
          89.69,
          84.11,
          82.76,
          115.9,
          91.63,
          89,
          85.07,
          79.93,
          66.61,
          110.2,
          85.09,
          68.73,
          88.12,
          79.26,
          86.43,
          114.1,
          81.93,
          101.4,
          71.79,
          69.92,
          81.41,
          83.69,
          74.35,
          88.87,
          89.61,
          102.3,
          95.14,
          101.2,
          100.9,
          96.53,
          90.14,
          97.9,
          69.35,
          84.48,
          105.9,
          108.1,
          83.51,
          85.07,
          103.1,
          91.62,
          96.69,
          86.04,
          91.29,
          91.06,
          68.03,
          100.4,
          82.68,
          95.1,
          115,
          100.9,
          71.11,
          88.14,
          70.88,
          87.24,
          112,
          85.08,
          80.78,
          93.22,
          112.1,
          101.2,
          82.04,
          88.83,
          104.4,
          94.94,
          95.78,
          112.5,
          97.82,
          106,
          86.57,
          92.74,
          127.1,
          83.24,
          95.29,
          103.9,
          95.29,
          92.82,
          109.7,
          86.67,
          69.05,
          69.47,
          85.13,
          76.08,
          109.8,
          81.25,
          101.7,
          108.5,
          79.15,
          99.31,
          93.63,
          67.84,
          76.38,
          99.43,
          74.32,
          63.3,
          101.9,
          87.22,
          94.52,
          86.92,
          88.52,
          87,
          101.6,
          76.43,
          86.12,
          57.17,
          54.49,
          78.78,
          113.5,
          107.4,
          92.48,
          99.17,
          97.58,
          71.12,
          71.08,
          69.1,
          83.9,
          74.08,
          77.8,
          88.1,
          62.86,
          88.84,
          69.57,
          67.88,
          66.5,
          105.9,
          82.28,
          100.2,
          75.19,
          59.16
         ],
         "yaxis": "y"
        }
       ],
       "layout": {
        "legend": {
         "title": {
          "text": "diagnosis"
         },
         "tracegroupgap": 0
        },
        "margin": {
         "t": 60
        },
        "template": {
         "data": {
          "bar": [
           {
            "error_x": {
             "color": "#2a3f5f"
            },
            "error_y": {
             "color": "#2a3f5f"
            },
            "marker": {
             "line": {
              "color": "#E5ECF6",
              "width": 0.5
             },
             "pattern": {
              "fillmode": "overlay",
              "size": 10,
              "solidity": 0.2
             }
            },
            "type": "bar"
           }
          ],
          "barpolar": [
           {
            "marker": {
             "line": {
              "color": "#E5ECF6",
              "width": 0.5
             },
             "pattern": {
              "fillmode": "overlay",
              "size": 10,
              "solidity": 0.2
             }
            },
            "type": "barpolar"
           }
          ],
          "carpet": [
           {
            "aaxis": {
             "endlinecolor": "#2a3f5f",
             "gridcolor": "white",
             "linecolor": "white",
             "minorgridcolor": "white",
             "startlinecolor": "#2a3f5f"
            },
            "baxis": {
             "endlinecolor": "#2a3f5f",
             "gridcolor": "white",
             "linecolor": "white",
             "minorgridcolor": "white",
             "startlinecolor": "#2a3f5f"
            },
            "type": "carpet"
           }
          ],
          "choropleth": [
           {
            "colorbar": {
             "outlinewidth": 0,
             "ticks": ""
            },
            "type": "choropleth"
           }
          ],
          "contour": [
           {
            "colorbar": {
             "outlinewidth": 0,
             "ticks": ""
            },
            "colorscale": [
             [
              0,
              "#0d0887"
             ],
             [
              0.1111111111111111,
              "#46039f"
             ],
             [
              0.2222222222222222,
              "#7201a8"
             ],
             [
              0.3333333333333333,
              "#9c179e"
             ],
             [
              0.4444444444444444,
              "#bd3786"
             ],
             [
              0.5555555555555556,
              "#d8576b"
             ],
             [
              0.6666666666666666,
              "#ed7953"
             ],
             [
              0.7777777777777778,
              "#fb9f3a"
             ],
             [
              0.8888888888888888,
              "#fdca26"
             ],
             [
              1,
              "#f0f921"
             ]
            ],
            "type": "contour"
           }
          ],
          "contourcarpet": [
           {
            "colorbar": {
             "outlinewidth": 0,
             "ticks": ""
            },
            "type": "contourcarpet"
           }
          ],
          "heatmap": [
           {
            "colorbar": {
             "outlinewidth": 0,
             "ticks": ""
            },
            "colorscale": [
             [
              0,
              "#0d0887"
             ],
             [
              0.1111111111111111,
              "#46039f"
             ],
             [
              0.2222222222222222,
              "#7201a8"
             ],
             [
              0.3333333333333333,
              "#9c179e"
             ],
             [
              0.4444444444444444,
              "#bd3786"
             ],
             [
              0.5555555555555556,
              "#d8576b"
             ],
             [
              0.6666666666666666,
              "#ed7953"
             ],
             [
              0.7777777777777778,
              "#fb9f3a"
             ],
             [
              0.8888888888888888,
              "#fdca26"
             ],
             [
              1,
              "#f0f921"
             ]
            ],
            "type": "heatmap"
           }
          ],
          "heatmapgl": [
           {
            "colorbar": {
             "outlinewidth": 0,
             "ticks": ""
            },
            "colorscale": [
             [
              0,
              "#0d0887"
             ],
             [
              0.1111111111111111,
              "#46039f"
             ],
             [
              0.2222222222222222,
              "#7201a8"
             ],
             [
              0.3333333333333333,
              "#9c179e"
             ],
             [
              0.4444444444444444,
              "#bd3786"
             ],
             [
              0.5555555555555556,
              "#d8576b"
             ],
             [
              0.6666666666666666,
              "#ed7953"
             ],
             [
              0.7777777777777778,
              "#fb9f3a"
             ],
             [
              0.8888888888888888,
              "#fdca26"
             ],
             [
              1,
              "#f0f921"
             ]
            ],
            "type": "heatmapgl"
           }
          ],
          "histogram": [
           {
            "marker": {
             "pattern": {
              "fillmode": "overlay",
              "size": 10,
              "solidity": 0.2
             }
            },
            "type": "histogram"
           }
          ],
          "histogram2d": [
           {
            "colorbar": {
             "outlinewidth": 0,
             "ticks": ""
            },
            "colorscale": [
             [
              0,
              "#0d0887"
             ],
             [
              0.1111111111111111,
              "#46039f"
             ],
             [
              0.2222222222222222,
              "#7201a8"
             ],
             [
              0.3333333333333333,
              "#9c179e"
             ],
             [
              0.4444444444444444,
              "#bd3786"
             ],
             [
              0.5555555555555556,
              "#d8576b"
             ],
             [
              0.6666666666666666,
              "#ed7953"
             ],
             [
              0.7777777777777778,
              "#fb9f3a"
             ],
             [
              0.8888888888888888,
              "#fdca26"
             ],
             [
              1,
              "#f0f921"
             ]
            ],
            "type": "histogram2d"
           }
          ],
          "histogram2dcontour": [
           {
            "colorbar": {
             "outlinewidth": 0,
             "ticks": ""
            },
            "colorscale": [
             [
              0,
              "#0d0887"
             ],
             [
              0.1111111111111111,
              "#46039f"
             ],
             [
              0.2222222222222222,
              "#7201a8"
             ],
             [
              0.3333333333333333,
              "#9c179e"
             ],
             [
              0.4444444444444444,
              "#bd3786"
             ],
             [
              0.5555555555555556,
              "#d8576b"
             ],
             [
              0.6666666666666666,
              "#ed7953"
             ],
             [
              0.7777777777777778,
              "#fb9f3a"
             ],
             [
              0.8888888888888888,
              "#fdca26"
             ],
             [
              1,
              "#f0f921"
             ]
            ],
            "type": "histogram2dcontour"
           }
          ],
          "mesh3d": [
           {
            "colorbar": {
             "outlinewidth": 0,
             "ticks": ""
            },
            "type": "mesh3d"
           }
          ],
          "parcoords": [
           {
            "line": {
             "colorbar": {
              "outlinewidth": 0,
              "ticks": ""
             }
            },
            "type": "parcoords"
           }
          ],
          "pie": [
           {
            "automargin": true,
            "type": "pie"
           }
          ],
          "scatter": [
           {
            "fillpattern": {
             "fillmode": "overlay",
             "size": 10,
             "solidity": 0.2
            },
            "type": "scatter"
           }
          ],
          "scatter3d": [
           {
            "line": {
             "colorbar": {
              "outlinewidth": 0,
              "ticks": ""
             }
            },
            "marker": {
             "colorbar": {
              "outlinewidth": 0,
              "ticks": ""
             }
            },
            "type": "scatter3d"
           }
          ],
          "scattercarpet": [
           {
            "marker": {
             "colorbar": {
              "outlinewidth": 0,
              "ticks": ""
             }
            },
            "type": "scattercarpet"
           }
          ],
          "scattergeo": [
           {
            "marker": {
             "colorbar": {
              "outlinewidth": 0,
              "ticks": ""
             }
            },
            "type": "scattergeo"
           }
          ],
          "scattergl": [
           {
            "marker": {
             "colorbar": {
              "outlinewidth": 0,
              "ticks": ""
             }
            },
            "type": "scattergl"
           }
          ],
          "scattermapbox": [
           {
            "marker": {
             "colorbar": {
              "outlinewidth": 0,
              "ticks": ""
             }
            },
            "type": "scattermapbox"
           }
          ],
          "scatterpolar": [
           {
            "marker": {
             "colorbar": {
              "outlinewidth": 0,
              "ticks": ""
             }
            },
            "type": "scatterpolar"
           }
          ],
          "scatterpolargl": [
           {
            "marker": {
             "colorbar": {
              "outlinewidth": 0,
              "ticks": ""
             }
            },
            "type": "scatterpolargl"
           }
          ],
          "scatterternary": [
           {
            "marker": {
             "colorbar": {
              "outlinewidth": 0,
              "ticks": ""
             }
            },
            "type": "scatterternary"
           }
          ],
          "surface": [
           {
            "colorbar": {
             "outlinewidth": 0,
             "ticks": ""
            },
            "colorscale": [
             [
              0,
              "#0d0887"
             ],
             [
              0.1111111111111111,
              "#46039f"
             ],
             [
              0.2222222222222222,
              "#7201a8"
             ],
             [
              0.3333333333333333,
              "#9c179e"
             ],
             [
              0.4444444444444444,
              "#bd3786"
             ],
             [
              0.5555555555555556,
              "#d8576b"
             ],
             [
              0.6666666666666666,
              "#ed7953"
             ],
             [
              0.7777777777777778,
              "#fb9f3a"
             ],
             [
              0.8888888888888888,
              "#fdca26"
             ],
             [
              1,
              "#f0f921"
             ]
            ],
            "type": "surface"
           }
          ],
          "table": [
           {
            "cells": {
             "fill": {
              "color": "#EBF0F8"
             },
             "line": {
              "color": "white"
             }
            },
            "header": {
             "fill": {
              "color": "#C8D4E3"
             },
             "line": {
              "color": "white"
             }
            },
            "type": "table"
           }
          ]
         },
         "layout": {
          "annotationdefaults": {
           "arrowcolor": "#2a3f5f",
           "arrowhead": 0,
           "arrowwidth": 1
          },
          "autotypenumbers": "strict",
          "coloraxis": {
           "colorbar": {
            "outlinewidth": 0,
            "ticks": ""
           }
          },
          "colorscale": {
           "diverging": [
            [
             0,
             "#8e0152"
            ],
            [
             0.1,
             "#c51b7d"
            ],
            [
             0.2,
             "#de77ae"
            ],
            [
             0.3,
             "#f1b6da"
            ],
            [
             0.4,
             "#fde0ef"
            ],
            [
             0.5,
             "#f7f7f7"
            ],
            [
             0.6,
             "#e6f5d0"
            ],
            [
             0.7,
             "#b8e186"
            ],
            [
             0.8,
             "#7fbc41"
            ],
            [
             0.9,
             "#4d9221"
            ],
            [
             1,
             "#276419"
            ]
           ],
           "sequential": [
            [
             0,
             "#0d0887"
            ],
            [
             0.1111111111111111,
             "#46039f"
            ],
            [
             0.2222222222222222,
             "#7201a8"
            ],
            [
             0.3333333333333333,
             "#9c179e"
            ],
            [
             0.4444444444444444,
             "#bd3786"
            ],
            [
             0.5555555555555556,
             "#d8576b"
            ],
            [
             0.6666666666666666,
             "#ed7953"
            ],
            [
             0.7777777777777778,
             "#fb9f3a"
            ],
            [
             0.8888888888888888,
             "#fdca26"
            ],
            [
             1,
             "#f0f921"
            ]
           ],
           "sequentialminus": [
            [
             0,
             "#0d0887"
            ],
            [
             0.1111111111111111,
             "#46039f"
            ],
            [
             0.2222222222222222,
             "#7201a8"
            ],
            [
             0.3333333333333333,
             "#9c179e"
            ],
            [
             0.4444444444444444,
             "#bd3786"
            ],
            [
             0.5555555555555556,
             "#d8576b"
            ],
            [
             0.6666666666666666,
             "#ed7953"
            ],
            [
             0.7777777777777778,
             "#fb9f3a"
            ],
            [
             0.8888888888888888,
             "#fdca26"
            ],
            [
             1,
             "#f0f921"
            ]
           ]
          },
          "colorway": [
           "#636efa",
           "#EF553B",
           "#00cc96",
           "#ab63fa",
           "#FFA15A",
           "#19d3f3",
           "#FF6692",
           "#B6E880",
           "#FF97FF",
           "#FECB52"
          ],
          "font": {
           "color": "#2a3f5f"
          },
          "geo": {
           "bgcolor": "white",
           "lakecolor": "white",
           "landcolor": "#E5ECF6",
           "showlakes": true,
           "showland": true,
           "subunitcolor": "white"
          },
          "hoverlabel": {
           "align": "left"
          },
          "hovermode": "closest",
          "mapbox": {
           "style": "light"
          },
          "paper_bgcolor": "white",
          "plot_bgcolor": "#E5ECF6",
          "polar": {
           "angularaxis": {
            "gridcolor": "white",
            "linecolor": "white",
            "ticks": ""
           },
           "bgcolor": "#E5ECF6",
           "radialaxis": {
            "gridcolor": "white",
            "linecolor": "white",
            "ticks": ""
           }
          },
          "scene": {
           "xaxis": {
            "backgroundcolor": "#E5ECF6",
            "gridcolor": "white",
            "gridwidth": 2,
            "linecolor": "white",
            "showbackground": true,
            "ticks": "",
            "zerolinecolor": "white"
           },
           "yaxis": {
            "backgroundcolor": "#E5ECF6",
            "gridcolor": "white",
            "gridwidth": 2,
            "linecolor": "white",
            "showbackground": true,
            "ticks": "",
            "zerolinecolor": "white"
           },
           "zaxis": {
            "backgroundcolor": "#E5ECF6",
            "gridcolor": "white",
            "gridwidth": 2,
            "linecolor": "white",
            "showbackground": true,
            "ticks": "",
            "zerolinecolor": "white"
           }
          },
          "shapedefaults": {
           "line": {
            "color": "#2a3f5f"
           }
          },
          "ternary": {
           "aaxis": {
            "gridcolor": "white",
            "linecolor": "white",
            "ticks": ""
           },
           "baxis": {
            "gridcolor": "white",
            "linecolor": "white",
            "ticks": ""
           },
           "bgcolor": "#E5ECF6",
           "caxis": {
            "gridcolor": "white",
            "linecolor": "white",
            "ticks": ""
           }
          },
          "title": {
           "x": 0.05
          },
          "xaxis": {
           "automargin": true,
           "gridcolor": "white",
           "linecolor": "white",
           "ticks": "",
           "title": {
            "standoff": 15
           },
           "zerolinecolor": "white",
           "zerolinewidth": 2
          },
          "yaxis": {
           "automargin": true,
           "gridcolor": "white",
           "linecolor": "white",
           "ticks": "",
           "title": {
            "standoff": 15
           },
           "zerolinecolor": "white",
           "zerolinewidth": 2
          }
         }
        },
        "xaxis": {
         "anchor": "y",
         "domain": [
          0,
          1
         ],
         "title": {
          "text": "radius_worst"
         }
        },
        "yaxis": {
         "anchor": "x",
         "domain": [
          0,
          1
         ],
         "title": {
          "text": "perimeter_worst"
         }
        }
       }
      }
     },
     "metadata": {},
     "output_type": "display_data"
    }
   ],
   "source": [
    "#Let's check if there is relation between different features#\n",
    "#For example, let's observe features 'radius_worst' and 'perimeter_worst'#\n",
    "\n",
    "figure1 = px.scatter(df,\n",
    "                     x = 'radius_worst',\n",
    "                     y = 'perimeter_worst',\n",
    "                     color = 'diagnosis',\n",
    "                     )\n",
    "figure1.show()"
   ]
  },
  {
   "cell_type": "markdown",
   "metadata": {},
   "source": [
    "From the graph shown above we can see there's just one cluster. We can also notice a positive linear relation between 'perimeter_worst' and 'radius_worst'. \n",
    "We can visualize relations between other features as well.\n",
    "\n",
    "However, the most important thing is how features relate to diagnosis. In order to establish that, we are going to use method 'linear correlation'. That will give us numerical connection between features and diagnosis."
   ]
  },
  {
   "cell_type": "code",
   "execution_count": 12,
   "metadata": {},
   "outputs": [
    {
     "name": "stdout",
     "output_type": "stream",
     "text": [
      "<class 'pandas.core.frame.DataFrame'>\n",
      "RangeIndex: 569 entries, 0 to 568\n",
      "Data columns (total 31 columns):\n",
      " #   Column                   Non-Null Count  Dtype  \n",
      "---  ------                   --------------  -----  \n",
      " 0   diagnosis                569 non-null    object \n",
      " 1   radius_mean              569 non-null    float64\n",
      " 2   texture_mean             569 non-null    float64\n",
      " 3   perimeter_mean           569 non-null    float64\n",
      " 4   area_mean                569 non-null    float64\n",
      " 5   smoothness_mean          569 non-null    float64\n",
      " 6   compactness_mean         569 non-null    float64\n",
      " 7   concavity_mean           569 non-null    float64\n",
      " 8   concave points_mean      569 non-null    float64\n",
      " 9   symmetry_mean            569 non-null    float64\n",
      " 10  fractal_dimension_mean   569 non-null    float64\n",
      " 11  radius_se                569 non-null    float64\n",
      " 12  texture_se               569 non-null    float64\n",
      " 13  perimeter_se             569 non-null    float64\n",
      " 14  area_se                  569 non-null    float64\n",
      " 15  smoothness_se            569 non-null    float64\n",
      " 16  compactness_se           569 non-null    float64\n",
      " 17  concavity_se             569 non-null    float64\n",
      " 18  concave points_se        569 non-null    float64\n",
      " 19  symmetry_se              569 non-null    float64\n",
      " 20  fractal_dimension_se     569 non-null    float64\n",
      " 21  radius_worst             569 non-null    float64\n",
      " 22  texture_worst            569 non-null    float64\n",
      " 23  perimeter_worst          569 non-null    float64\n",
      " 24  area_worst               569 non-null    float64\n",
      " 25  smoothness_worst         569 non-null    float64\n",
      " 26  compactness_worst        569 non-null    float64\n",
      " 27  concavity_worst          569 non-null    float64\n",
      " 28  concave points_worst     569 non-null    float64\n",
      " 29  symmetry_worst           569 non-null    float64\n",
      " 30  fractal_dimension_worst  569 non-null    float64\n",
      "dtypes: float64(30), object(1)\n",
      "memory usage: 137.9+ KB\n"
     ]
    }
   ],
   "source": [
    "#We are going to use df.info() method in order to see if there's any missing or NaN values#\n",
    "df.info()"
   ]
  },
  {
   "cell_type": "markdown",
   "metadata": {},
   "source": [
    "Fortunately, we have 30 numerical values and just 1 object (values in column 'diagnosis'). Also, there's no missing (or NaN) values. \n",
    "Therefore, we can tell that the data is really well structured.\n",
    "\n",
    "If there were some categorical columns, we would transform them into numerical ones, using (for example) class OneHotEncoder from sklearn.preprocessing.\n",
    "\n",
    "If there were some missing values, we would fill those element using (for example) SimpleImputer class from sklearn.imputer."
   ]
  },
  {
   "cell_type": "code",
   "execution_count": 13,
   "metadata": {},
   "outputs": [],
   "source": [
    "#Let's transform values from diagnosis column into numerical (binary) ones#\n",
    "\n",
    "from sklearn.preprocessing import LabelEncoder\n",
    "label_encoder = LabelEncoder()\n",
    "df ['diagnosis'] = label_encoder.fit_transform(df['diagnosis'])"
   ]
  },
  {
   "cell_type": "code",
   "execution_count": 14,
   "metadata": {},
   "outputs": [
    {
     "data": {
      "text/plain": [
       "diagnosis                  1.000000\n",
       "concave points_worst       0.793566\n",
       "perimeter_worst            0.782914\n",
       "concave points_mean        0.776614\n",
       "radius_worst               0.776454\n",
       "perimeter_mean             0.742636\n",
       "area_worst                 0.733825\n",
       "radius_mean                0.730029\n",
       "area_mean                  0.708984\n",
       "concavity_mean             0.696360\n",
       "concavity_worst            0.659610\n",
       "compactness_mean           0.596534\n",
       "compactness_worst          0.590998\n",
       "radius_se                  0.567134\n",
       "perimeter_se               0.556141\n",
       "area_se                    0.548236\n",
       "texture_worst              0.456903\n",
       "smoothness_worst           0.421465\n",
       "symmetry_worst             0.416294\n",
       "texture_mean               0.415185\n",
       "concave points_se          0.408042\n",
       "smoothness_mean            0.358560\n",
       "symmetry_mean              0.330499\n",
       "fractal_dimension_worst    0.323872\n",
       "compactness_se             0.292999\n",
       "concavity_se               0.253730\n",
       "fractal_dimension_se       0.077972\n",
       "symmetry_se               -0.006522\n",
       "texture_se                -0.008303\n",
       "fractal_dimension_mean    -0.012838\n",
       "smoothness_se             -0.067016\n",
       "dtype: float64"
      ]
     },
     "execution_count": 14,
     "metadata": {},
     "output_type": "execute_result"
    }
   ],
   "source": [
    "#Let's see correalation between diagnosis and features#\n",
    "df.corrwith(df.diagnosis).sort_values(ascending=False)\n"
   ]
  },
  {
   "cell_type": "markdown",
   "metadata": {},
   "source": [
    "As we can see from the table above. features like concave points_worst, perimeter_worst, concave points_mean, radius_worst etc. have a really strong correlation with diagnosis.\n",
    "Whatsoever, almost every feature has strong correlation with diagnosis (this is a strong indicator that the data is well gathered)\n",
    "\n",
    "However, last 5 features are not in so strong correlation with diagnosis. For our purposes, let's exclude them.\n",
    "\n",
    "WARNING: This is surely not the best idea. However, we lovered dimension by 5 (it will not help us in constracting simple model like this one, but in more complex situations, it surely will). \n",
    "\n",
    "While excluding some features, we had to pay attention to their absolute values, which is actually the strenght of linear correlation. Also, we needed to pay attention to sign of correlation. We could've excluded features that just have negative correlation, but that can lead us to potential error accumulation. Therefore, we excluded one feature that has positive corellation.\n",
    "\n",
    "(Keep in mind that this should not be the rule. We are doing this only for learning purposes.)"
   ]
  },
  {
   "cell_type": "code",
   "execution_count": 15,
   "metadata": {},
   "outputs": [],
   "source": [
    "#We are going to create a new (filtered) DataFrame named raw_df with above specified columns#\n",
    "\n",
    "important_columns = df.corrwith(df.diagnosis).sort_values(ascending=False).head(-5).index.tolist()\n",
    "raw_df = df[important_columns]\n",
    "\n",
    "#Features are our inputs, diagnosis is our target#\n",
    "#We want to create a model which will use features (inputs) to give prediction about diagnosis (target)#\n",
    "\n",
    "df_inputs = raw_df.iloc[:,1:] #DataFrame containing features#\n",
    "df_targets = raw_df.iloc[:,0] #DataFrame containing diagnosis#"
   ]
  },
  {
   "cell_type": "code",
   "execution_count": 16,
   "metadata": {},
   "outputs": [],
   "source": [
    "input_cols = df_inputs.columns.tolist() #Creating list containing names of input columns#\n",
    "target_cols = 'diagnosis' "
   ]
  },
  {
   "cell_type": "markdown",
   "metadata": {},
   "source": [
    "In the following cell [17], DataFrame raw_df will be 'randomly\" splitted into 3 new DataFrames in (standard) 60-20-20 ratio.\n",
    "\n",
    "First will be named 'train_df' and we are going to use it to train our model. (60% of raw_df)\n",
    "Second will be named 'val_df' and we are going to use it to validate our model. (20% of raw_df)\n",
    "Third will be named 'test_df' and we are going to use it to test our model. (20% of raw_df)"
   ]
  },
  {
   "cell_type": "code",
   "execution_count": 17,
   "metadata": {},
   "outputs": [],
   "source": [
    "from sklearn.model_selection import train_test_split\n",
    "train_val_df, test_df = train_test_split(raw_df, test_size=0.2, random_state=13)\n",
    "train_df, val_df = train_test_split(train_val_df, test_size=0.25, random_state=13)\n",
    "\n",
    "#We can play around with keyword 'test_size'#\n",
    "#Naturally, we want more data to train our model, but we need to pay attention to val_size and test_size#"
   ]
  },
  {
   "cell_type": "code",
   "execution_count": 18,
   "metadata": {},
   "outputs": [
    {
     "data": {
      "text/html": [
       "<style>#sk-container-id-1 {color: black;}#sk-container-id-1 pre{padding: 0;}#sk-container-id-1 div.sk-toggleable {background-color: white;}#sk-container-id-1 label.sk-toggleable__label {cursor: pointer;display: block;width: 100%;margin-bottom: 0;padding: 0.3em;box-sizing: border-box;text-align: center;}#sk-container-id-1 label.sk-toggleable__label-arrow:before {content: \"▸\";float: left;margin-right: 0.25em;color: #696969;}#sk-container-id-1 label.sk-toggleable__label-arrow:hover:before {color: black;}#sk-container-id-1 div.sk-estimator:hover label.sk-toggleable__label-arrow:before {color: black;}#sk-container-id-1 div.sk-toggleable__content {max-height: 0;max-width: 0;overflow: hidden;text-align: left;background-color: #f0f8ff;}#sk-container-id-1 div.sk-toggleable__content pre {margin: 0.2em;color: black;border-radius: 0.25em;background-color: #f0f8ff;}#sk-container-id-1 input.sk-toggleable__control:checked~div.sk-toggleable__content {max-height: 200px;max-width: 100%;overflow: auto;}#sk-container-id-1 input.sk-toggleable__control:checked~label.sk-toggleable__label-arrow:before {content: \"▾\";}#sk-container-id-1 div.sk-estimator input.sk-toggleable__control:checked~label.sk-toggleable__label {background-color: #d4ebff;}#sk-container-id-1 div.sk-label input.sk-toggleable__control:checked~label.sk-toggleable__label {background-color: #d4ebff;}#sk-container-id-1 input.sk-hidden--visually {border: 0;clip: rect(1px 1px 1px 1px);clip: rect(1px, 1px, 1px, 1px);height: 1px;margin: -1px;overflow: hidden;padding: 0;position: absolute;width: 1px;}#sk-container-id-1 div.sk-estimator {font-family: monospace;background-color: #f0f8ff;border: 1px dotted black;border-radius: 0.25em;box-sizing: border-box;margin-bottom: 0.5em;}#sk-container-id-1 div.sk-estimator:hover {background-color: #d4ebff;}#sk-container-id-1 div.sk-parallel-item::after {content: \"\";width: 100%;border-bottom: 1px solid gray;flex-grow: 1;}#sk-container-id-1 div.sk-label:hover label.sk-toggleable__label {background-color: #d4ebff;}#sk-container-id-1 div.sk-serial::before {content: \"\";position: absolute;border-left: 1px solid gray;box-sizing: border-box;top: 0;bottom: 0;left: 50%;z-index: 0;}#sk-container-id-1 div.sk-serial {display: flex;flex-direction: column;align-items: center;background-color: white;padding-right: 0.2em;padding-left: 0.2em;position: relative;}#sk-container-id-1 div.sk-item {position: relative;z-index: 1;}#sk-container-id-1 div.sk-parallel {display: flex;align-items: stretch;justify-content: center;background-color: white;position: relative;}#sk-container-id-1 div.sk-item::before, #sk-container-id-1 div.sk-parallel-item::before {content: \"\";position: absolute;border-left: 1px solid gray;box-sizing: border-box;top: 0;bottom: 0;left: 50%;z-index: -1;}#sk-container-id-1 div.sk-parallel-item {display: flex;flex-direction: column;z-index: 1;position: relative;background-color: white;}#sk-container-id-1 div.sk-parallel-item:first-child::after {align-self: flex-end;width: 50%;}#sk-container-id-1 div.sk-parallel-item:last-child::after {align-self: flex-start;width: 50%;}#sk-container-id-1 div.sk-parallel-item:only-child::after {width: 0;}#sk-container-id-1 div.sk-dashed-wrapped {border: 1px dashed gray;margin: 0 0.4em 0.5em 0.4em;box-sizing: border-box;padding-bottom: 0.4em;background-color: white;}#sk-container-id-1 div.sk-label label {font-family: monospace;font-weight: bold;display: inline-block;line-height: 1.2em;}#sk-container-id-1 div.sk-label-container {text-align: center;}#sk-container-id-1 div.sk-container {/* jupyter's `normalize.less` sets `[hidden] { display: none; }` but bootstrap.min.css set `[hidden] { display: none !important; }` so we also need the `!important` here to be able to override the default hidden behavior on the sphinx rendered scikit-learn.org. See: https://github.com/scikit-learn/scikit-learn/issues/21755 */display: inline-block !important;position: relative;}#sk-container-id-1 div.sk-text-repr-fallback {display: none;}</style><div id=\"sk-container-id-1\" class=\"sk-top-container\"><div class=\"sk-text-repr-fallback\"><pre>MinMaxScaler()</pre><b>In a Jupyter environment, please rerun this cell to show the HTML representation or trust the notebook. <br />On GitHub, the HTML representation is unable to render, please try loading this page with nbviewer.org.</b></div><div class=\"sk-container\" hidden><div class=\"sk-item\"><div class=\"sk-estimator sk-toggleable\"><input class=\"sk-toggleable__control sk-hidden--visually\" id=\"sk-estimator-id-1\" type=\"checkbox\" checked><label for=\"sk-estimator-id-1\" class=\"sk-toggleable__label sk-toggleable__label-arrow\">MinMaxScaler</label><div class=\"sk-toggleable__content\"><pre>MinMaxScaler()</pre></div></div></div></div></div>"
      ],
      "text/plain": [
       "MinMaxScaler()"
      ]
     },
     "execution_count": 18,
     "metadata": {},
     "output_type": "execute_result"
    }
   ],
   "source": [
    "from sklearn.preprocessing import MinMaxScaler #We could try using StandardScaler instead and see if that's gonna change model#\n",
    "scaler = MinMaxScaler(feature_range=(0,1)) #We pick (0,1) interval because we have no negative values#\n",
    "scaler.fit(df_inputs) #Applying scaler on DataFrame constaining all of the features#"
   ]
  },
  {
   "cell_type": "code",
   "execution_count": 19,
   "metadata": {},
   "outputs": [],
   "source": [
    "train_df[input_cols] = scaler.transform(train_df[input_cols])\n",
    "val_df[input_cols] = scaler.transform(val_df[input_cols])\n",
    "test_df[input_cols] = scaler.transform(test_df[input_cols])"
   ]
  },
  {
   "cell_type": "code",
   "execution_count": 20,
   "metadata": {},
   "outputs": [],
   "source": [
    "train_inputs = train_df[input_cols].copy()\n",
    "val_inputs = val_df[input_cols].copy()\n",
    "test_inputs = test_df[input_cols].copy()\n",
    "\n",
    "train_targets = train_df[target_cols].copy()\n",
    "val_targets = val_df[target_cols].copy()\n",
    "test_targets = test_df[target_cols].copy()"
   ]
  },
  {
   "cell_type": "code",
   "execution_count": 21,
   "metadata": {},
   "outputs": [
    {
     "data": {
      "text/html": [
       "<style>#sk-container-id-2 {color: black;}#sk-container-id-2 pre{padding: 0;}#sk-container-id-2 div.sk-toggleable {background-color: white;}#sk-container-id-2 label.sk-toggleable__label {cursor: pointer;display: block;width: 100%;margin-bottom: 0;padding: 0.3em;box-sizing: border-box;text-align: center;}#sk-container-id-2 label.sk-toggleable__label-arrow:before {content: \"▸\";float: left;margin-right: 0.25em;color: #696969;}#sk-container-id-2 label.sk-toggleable__label-arrow:hover:before {color: black;}#sk-container-id-2 div.sk-estimator:hover label.sk-toggleable__label-arrow:before {color: black;}#sk-container-id-2 div.sk-toggleable__content {max-height: 0;max-width: 0;overflow: hidden;text-align: left;background-color: #f0f8ff;}#sk-container-id-2 div.sk-toggleable__content pre {margin: 0.2em;color: black;border-radius: 0.25em;background-color: #f0f8ff;}#sk-container-id-2 input.sk-toggleable__control:checked~div.sk-toggleable__content {max-height: 200px;max-width: 100%;overflow: auto;}#sk-container-id-2 input.sk-toggleable__control:checked~label.sk-toggleable__label-arrow:before {content: \"▾\";}#sk-container-id-2 div.sk-estimator input.sk-toggleable__control:checked~label.sk-toggleable__label {background-color: #d4ebff;}#sk-container-id-2 div.sk-label input.sk-toggleable__control:checked~label.sk-toggleable__label {background-color: #d4ebff;}#sk-container-id-2 input.sk-hidden--visually {border: 0;clip: rect(1px 1px 1px 1px);clip: rect(1px, 1px, 1px, 1px);height: 1px;margin: -1px;overflow: hidden;padding: 0;position: absolute;width: 1px;}#sk-container-id-2 div.sk-estimator {font-family: monospace;background-color: #f0f8ff;border: 1px dotted black;border-radius: 0.25em;box-sizing: border-box;margin-bottom: 0.5em;}#sk-container-id-2 div.sk-estimator:hover {background-color: #d4ebff;}#sk-container-id-2 div.sk-parallel-item::after {content: \"\";width: 100%;border-bottom: 1px solid gray;flex-grow: 1;}#sk-container-id-2 div.sk-label:hover label.sk-toggleable__label {background-color: #d4ebff;}#sk-container-id-2 div.sk-serial::before {content: \"\";position: absolute;border-left: 1px solid gray;box-sizing: border-box;top: 0;bottom: 0;left: 50%;z-index: 0;}#sk-container-id-2 div.sk-serial {display: flex;flex-direction: column;align-items: center;background-color: white;padding-right: 0.2em;padding-left: 0.2em;position: relative;}#sk-container-id-2 div.sk-item {position: relative;z-index: 1;}#sk-container-id-2 div.sk-parallel {display: flex;align-items: stretch;justify-content: center;background-color: white;position: relative;}#sk-container-id-2 div.sk-item::before, #sk-container-id-2 div.sk-parallel-item::before {content: \"\";position: absolute;border-left: 1px solid gray;box-sizing: border-box;top: 0;bottom: 0;left: 50%;z-index: -1;}#sk-container-id-2 div.sk-parallel-item {display: flex;flex-direction: column;z-index: 1;position: relative;background-color: white;}#sk-container-id-2 div.sk-parallel-item:first-child::after {align-self: flex-end;width: 50%;}#sk-container-id-2 div.sk-parallel-item:last-child::after {align-self: flex-start;width: 50%;}#sk-container-id-2 div.sk-parallel-item:only-child::after {width: 0;}#sk-container-id-2 div.sk-dashed-wrapped {border: 1px dashed gray;margin: 0 0.4em 0.5em 0.4em;box-sizing: border-box;padding-bottom: 0.4em;background-color: white;}#sk-container-id-2 div.sk-label label {font-family: monospace;font-weight: bold;display: inline-block;line-height: 1.2em;}#sk-container-id-2 div.sk-label-container {text-align: center;}#sk-container-id-2 div.sk-container {/* jupyter's `normalize.less` sets `[hidden] { display: none; }` but bootstrap.min.css set `[hidden] { display: none !important; }` so we also need the `!important` here to be able to override the default hidden behavior on the sphinx rendered scikit-learn.org. See: https://github.com/scikit-learn/scikit-learn/issues/21755 */display: inline-block !important;position: relative;}#sk-container-id-2 div.sk-text-repr-fallback {display: none;}</style><div id=\"sk-container-id-2\" class=\"sk-top-container\"><div class=\"sk-text-repr-fallback\"><pre>LogisticRegression(solver=&#x27;liblinear&#x27;)</pre><b>In a Jupyter environment, please rerun this cell to show the HTML representation or trust the notebook. <br />On GitHub, the HTML representation is unable to render, please try loading this page with nbviewer.org.</b></div><div class=\"sk-container\" hidden><div class=\"sk-item\"><div class=\"sk-estimator sk-toggleable\"><input class=\"sk-toggleable__control sk-hidden--visually\" id=\"sk-estimator-id-2\" type=\"checkbox\" checked><label for=\"sk-estimator-id-2\" class=\"sk-toggleable__label sk-toggleable__label-arrow\">LogisticRegression</label><div class=\"sk-toggleable__content\"><pre>LogisticRegression(solver=&#x27;liblinear&#x27;)</pre></div></div></div></div></div>"
      ],
      "text/plain": [
       "LogisticRegression(solver='liblinear')"
      ]
     },
     "execution_count": 21,
     "metadata": {},
     "output_type": "execute_result"
    }
   ],
   "source": [
    "from sklearn.linear_model import LogisticRegression\n",
    "model = LogisticRegression (solver='liblinear')\n",
    "model.fit(train_inputs,train_targets)"
   ]
  },
  {
   "cell_type": "code",
   "execution_count": 22,
   "metadata": {},
   "outputs": [
    {
     "data": {
      "text/html": [
       "<div>\n",
       "<style scoped>\n",
       "    .dataframe tbody tr th:only-of-type {\n",
       "        vertical-align: middle;\n",
       "    }\n",
       "\n",
       "    .dataframe tbody tr th {\n",
       "        vertical-align: top;\n",
       "    }\n",
       "\n",
       "    .dataframe thead th {\n",
       "        text-align: right;\n",
       "    }\n",
       "</style>\n",
       "<table border=\"1\" class=\"dataframe\">\n",
       "  <thead>\n",
       "    <tr style=\"text-align: right;\">\n",
       "      <th></th>\n",
       "      <th>concave points_worst</th>\n",
       "      <th>perimeter_worst</th>\n",
       "      <th>concave points_mean</th>\n",
       "      <th>radius_worst</th>\n",
       "      <th>perimeter_mean</th>\n",
       "      <th>area_worst</th>\n",
       "      <th>radius_mean</th>\n",
       "      <th>area_mean</th>\n",
       "      <th>concavity_mean</th>\n",
       "      <th>concavity_worst</th>\n",
       "      <th>...</th>\n",
       "      <th>texture_worst</th>\n",
       "      <th>smoothness_worst</th>\n",
       "      <th>symmetry_worst</th>\n",
       "      <th>texture_mean</th>\n",
       "      <th>concave points_se</th>\n",
       "      <th>smoothness_mean</th>\n",
       "      <th>symmetry_mean</th>\n",
       "      <th>fractal_dimension_worst</th>\n",
       "      <th>compactness_se</th>\n",
       "      <th>concavity_se</th>\n",
       "    </tr>\n",
       "  </thead>\n",
       "  <tbody>\n",
       "    <tr>\n",
       "      <th>0</th>\n",
       "      <td>2.128449</td>\n",
       "      <td>1.604069</td>\n",
       "      <td>2.149509</td>\n",
       "      <td>1.651888</td>\n",
       "      <td>0.979415</td>\n",
       "      <td>1.436402</td>\n",
       "      <td>0.92388</td>\n",
       "      <td>1.12197</td>\n",
       "      <td>1.638595</td>\n",
       "      <td>1.256367</td>\n",
       "      <td>...</td>\n",
       "      <td>1.146167</td>\n",
       "      <td>0.275126</td>\n",
       "      <td>0.449786</td>\n",
       "      <td>0.573018</td>\n",
       "      <td>-0.359948</td>\n",
       "      <td>-0.512061</td>\n",
       "      <td>-0.632374</td>\n",
       "      <td>-0.172628</td>\n",
       "      <td>-0.901798</td>\n",
       "      <td>-0.522327</td>\n",
       "    </tr>\n",
       "  </tbody>\n",
       "</table>\n",
       "<p>1 rows × 25 columns</p>\n",
       "</div>"
      ],
      "text/plain": [
       "   concave points_worst  perimeter_worst  concave points_mean  radius_worst  \\\n",
       "0              2.128449         1.604069             2.149509      1.651888   \n",
       "\n",
       "   perimeter_mean  area_worst  radius_mean  area_mean  concavity_mean  \\\n",
       "0        0.979415    1.436402      0.92388    1.12197        1.638595   \n",
       "\n",
       "   concavity_worst  ...  texture_worst  smoothness_worst  symmetry_worst  \\\n",
       "0         1.256367  ...       1.146167          0.275126        0.449786   \n",
       "\n",
       "   texture_mean  concave points_se  smoothness_mean  symmetry_mean  \\\n",
       "0      0.573018          -0.359948        -0.512061      -0.632374   \n",
       "\n",
       "   fractal_dimension_worst  compactness_se  concavity_se  \n",
       "0                -0.172628       -0.901798     -0.522327  \n",
       "\n",
       "[1 rows x 25 columns]"
      ]
     },
     "execution_count": 22,
     "metadata": {},
     "output_type": "execute_result"
    }
   ],
   "source": [
    "coef_dict = dict(zip(input_cols,model.coef_.tolist()[0]))\n",
    "coef_df = pd.DataFrame([coef_dict])\n",
    "coef_df #Weights of corresponding features#"
   ]
  },
  {
   "cell_type": "code",
   "execution_count": 23,
   "metadata": {},
   "outputs": [],
   "source": [
    "from sklearn.metrics import accuracy_score, confusion_matrix"
   ]
  },
  {
   "cell_type": "markdown",
   "metadata": {},
   "source": [
    "We are going to use accuracy_score and confusion_matrix for validation and test as well. Therefore, let's create a helper function, which will return accuracy_score and plot heatmamp of confusion matrix."
   ]
  },
  {
   "cell_type": "code",
   "execution_count": 89,
   "metadata": {},
   "outputs": [],
   "source": [
    "def predict_and_plot(targets, inputs, name=''):\n",
    "    preds = model.predict(inputs)\n",
    "    accuracy = accuracy_score(preds,targets)\n",
    "    print('Accuracy: {:.2f}%'.format(accuracy*100))\n",
    "    \n",
    "    cm = confusion_matrix(targets, preds, normalize='true')\n",
    "    plt.figure()\n",
    "    sns.heatmap(cm, annot=True, cmap='Reds')\n",
    "    plt.xlabel('Benign           PPREDICTION                  Malignant')\n",
    "    plt.ylabel('Malignant                    TARGET         Benign')\n",
    "    plt.title(f'Confusion Matrix {name}')\n",
    "    plt.show()\n",
    "    \n",
    "    return preds"
   ]
  },
  {
   "cell_type": "code",
   "execution_count": 90,
   "metadata": {},
   "outputs": [
    {
     "name": "stdout",
     "output_type": "stream",
     "text": [
      "Accuracy: 95.89%\n"
     ]
    },
    {
     "data": {
      "image/png": "[encoded data removed]",
      "text/plain": [
       "<Figure size 1000x700 with 2 Axes>"
      ]
     },
     "metadata": {
      "needs_background": "light"
     },
     "output_type": "display_data"
    }
   ],
   "source": [
    "#This command will return training predictions and plot confusion matrix)#\n",
    "train_preds = predict_and_plot(train_targets, train_inputs, 'Training')"
   ]
  },
  {
   "cell_type": "markdown",
   "metadata": {},
   "source": [
    "Overall Accuracy of 95.89% is high enough. \n",
    "\n",
    "However, we have II type error greater than I type error. It is not good that in 1 out of 10 times, breast_cancer_detection_test is going to be false negative. \n",
    "\n",
    "In other words, a person would have cancer and test will show that she doesn't.\n",
    "\n",
    "We should try changing parameters in order to decrease II type error. It's always a good idea to have more false positives than false negatives.\n"
   ]
  },
  {
   "cell_type": "code",
   "execution_count": 26,
   "metadata": {},
   "outputs": [
    {
     "name": "stdout",
     "output_type": "stream",
     "text": [
      "Accuracy: 97.37%\n"
     ]
    },
    {
     "data": {
      "image/png": "[encoded data removed]",
      "text/plain": [
       "<Figure size 1000x700 with 2 Axes>"
      ]
     },
     "metadata": {
      "needs_background": "light"
     },
     "output_type": "display_data"
    }
   ],
   "source": [
    "#This command will return validation predictions and plot confusion matrix)#\n",
    "val_preds = predict_and_plot(val_targets,val_inputs, 'Validation')"
   ]
  },
  {
   "cell_type": "markdown",
   "metadata": {},
   "source": [
    "Probability of II type error on validation is less than probability of II type error on train. It's a good (although can be suspicious) sign."
   ]
  },
  {
   "cell_type": "code",
   "execution_count": 27,
   "metadata": {},
   "outputs": [
    {
     "name": "stdout",
     "output_type": "stream",
     "text": [
      "Accuracy: 99.12%\n"
     ]
    },
    {
     "data": {
      "image/png": "[encoded data removed]",
      "text/plain": [
       "<Figure size 1000x700 with 2 Axes>"
      ]
     },
     "metadata": {
      "needs_background": "light"
     },
     "output_type": "display_data"
    }
   ],
   "source": [
    "#This command will return testing predictions and plot confusion matrix)#\n",
    "test_preds = predict_and_plot(test_targets,test_inputs, 'Testing')"
   ]
  },
  {
   "cell_type": "markdown",
   "metadata": {},
   "source": [
    "Accuracy of 99.12% on Testing is greater than Accuracy on Validation and Training.\n",
    "\n",
    "Also, probability of II type error on Testing is the smallest one (compared to Training and Validation).\n",
    "\n",
    "Those are great (although suspicious) results. Does it mean that our model learnt during Training and Validation process?"
   ]
  },
  {
   "cell_type": "code",
   "execution_count": 84,
   "metadata": {},
   "outputs": [],
   "source": [
    "#Defining a function that takes user_input (user data) as an argument and returns prediction and probability of it being benign or malignant#\n",
    "def predict_input(user_input):\n",
    "    user_input = {key: df_inputs.mean()[key] if pd.isna(value) else value for key, value in user_input.items()}\n",
    "    input_df = pd.DataFrame([user_input])\n",
    "    input_df[input_cols] = scaler.transform(input_df[input_cols])\n",
    "    pred = model.predict(input_df[input_cols])[0]\n",
    "    prob = model.predict_proba(input_df[input_cols])[0][list(model.classes_).index(pred)]\n",
    "    return pred, prob"
   ]
  },
  {
   "cell_type": "code",
   "execution_count": 83,
   "metadata": {},
   "outputs": [],
   "source": [
    "def single_row_from_data(i):\n",
    "    try:\n",
    "        x=df[input_cols].columns.tolist()\n",
    "        y = df[input_cols].iloc[i].tolist()\n",
    "        dict_srfd = dict(zip(x,y))\n",
    "        print('True diagnosis is {}'.format(df.diagnosis.iloc[i]))\n",
    "        return dict_srfd\n",
    "    except:\n",
    "        print('Please insert number less than {}'.format(df.shape[0]))"
   ]
  },
  {
   "cell_type": "code",
   "execution_count": 85,
   "metadata": {},
   "outputs": [],
   "source": [
    "user_input = {'concave points_worst':'insert_value',\n",
    "             'perimeter_worst':'insert_value',\n",
    "             'concave points_mean':'insert_value',\n",
    "             'radius_worst':'inser_value',\n",
    "             'perimeter_mean':'insert_value',\n",
    "             'area_worst':'insert_value',\n",
    "             'radius_mean':'insert_value',\n",
    "             'area_mean':'insert_value',\n",
    "             'concavity_mean':'insert_value',\n",
    "             'concavity_worst':'insert_value',\n",
    "             'compactness_mean':'insert_value',\n",
    "             'compactness_worst':'insert_value',\n",
    "             'radius_se':'insert_value',\n",
    "             'perimeter_se':'insert_value',\n",
    "             'area_se':'insert_value',\n",
    "             'texture_worst':'insert_value',\n",
    "             'smoothness_worst':'insert_value',\n",
    "             'symmetry_worst':'insert_value',\n",
    "             'texture_mean':'insert_value',\n",
    "             'concave points_se':'insert_value',\n",
    "             'smoothness_mean':'insert_value',\n",
    "             'symmetry_mean':'insert_value',\n",
    "             'fractal_dimension_worst':'insert_value',\n",
    "             'compactness_se':'insert_value',\n",
    "             'concavity_se':'insert_value'}    "
   ]
  },
  {
   "cell_type": "code",
   "execution_count": null,
   "metadata": {},
   "outputs": [],
   "source": []
  }
 ],
 "metadata": {
  "kernelspec": {
   "display_name": "base",
   "language": "python",
   "name": "python3"
  },
  "language_info": {
   "codemirror_mode": {
    "name": "ipython",
    "version": 3
   },
   "file_extension": ".py",
   "mimetype": "text/x-python",
   "name": "python",
   "nbconvert_exporter": "python",
   "pygments_lexer": "ipython3",
   "version": "3.11.5"
  }
 },
 "nbformat": 4,
 "nbformat_minor": 2
}
